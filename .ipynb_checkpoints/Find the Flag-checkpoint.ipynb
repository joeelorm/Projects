{
 "cells": [
  {
   "cell_type": "code",
   "execution_count": 3,
   "metadata": {},
   "outputs": [
    {
     "name": "stdout",
     "output_type": "stream",
     "text": [
      "             Name  Landmass  Zone  Area  Population  Language  Religion  Bars  \\\n",
      "0     Afghanistan         5     1   648          16        10         2     0   \n",
      "1         Albania         3     1    29           3         6         6     0   \n",
      "2         Algeria         4     1  2388          20         8         2     2   \n",
      "3  American-Samoa         6     3     0           0         1         1     0   \n",
      "4         Andorra         3     1     0           0         6         0     3   \n",
      "\n",
      "   Stripes  Colors  ...  Saltires  Quarters  Sunstars  Crescent  Triangle  \\\n",
      "0        3       5  ...         0         0         1         0         0   \n",
      "1        0       3  ...         0         0         1         0         0   \n",
      "2        0       3  ...         0         0         1         1         0   \n",
      "3        0       5  ...         0         0         0         0         1   \n",
      "4        0       3  ...         0         0         0         0         0   \n",
      "\n",
      "   Icon  Animate Text  Topleft  Botright  \n",
      "0     1        0    0    black     green  \n",
      "1     0        1    0      red       red  \n",
      "2     0        0    0    green     white  \n",
      "3     1        1    0     blue       red  \n",
      "4     0        0    0     blue       red  \n",
      "\n",
      "[5 rows x 30 columns]\n",
      "     Landmass\n",
      "0           5\n",
      "1           3\n",
      "2           4\n",
      "3           6\n",
      "4           3\n",
      "..        ...\n",
      "189         6\n",
      "190         3\n",
      "191         4\n",
      "192         4\n",
      "193         4\n",
      "\n",
      "[194 rows x 1 columns]\n",
      "0.4489795918367347\n",
      "[0.3469387755102041, 0.3877551020408163, 0.5102040816326531, 0.5510204081632653, 0.5510204081632653, 0.5102040816326531, 0.42857142857142855, 0.4489795918367347, 0.4489795918367347, 0.4489795918367347, 0.4489795918367347, 0.4489795918367347, 0.4489795918367347, 0.4489795918367347, 0.4489795918367347, 0.4489795918367347, 0.4489795918367347, 0.4489795918367347, 0.4489795918367347, 0.4489795918367347]\n"
     ]
    },
    {
     "data": {
      "image/png": "[encoded data removed]",
      "text/plain": [
       "<Figure size 432x288 with 1 Axes>"
      ]
     },
     "metadata": {
      "needs_background": "light"
     },
     "output_type": "display_data"
    }
   ],
   "source": [
    "import pandas as pd\n",
    "from sklearn.model_selection import train_test_split\n",
    "from sklearn.tree import DecisionTreeClassifier\n",
    "import matplotlib.pyplot as plt\n",
    "\n",
    "flags = pd.read_csv('./Datasets/flags.csv', header = 0)\n",
    "print(flags.head())\n",
    "\n",
    "labels = flags[['Landmass']]\n",
    "print(labels)\n",
    "\n",
    "data = flags[[\"Red\", \"Green\", \"Blue\", \"Gold\",\n",
    " \"White\", \"Black\", \"Orange\",\n",
    " \"Circles\",\n",
    "\"Crosses\",\"Saltires\",\"Quarters\",\"Sunstars\",\n",
    "\"Crescent\",\"Triangle\"]]\n",
    "\n",
    "train_data, test_data, train_labels, test_labels = train_test_split(data, labels, random_state = 1)\n",
    "\n",
    "\n",
    "\n",
    "tree = DecisionTreeClassifier(random_state = 1)\n",
    "tree.fit(train_data, train_labels)\n",
    "print(tree.score(test_data, test_labels))\n",
    "\n",
    "\n",
    "scores = []\n",
    "for i in range(1, 21):\n",
    "  tree = DecisionTreeClassifier(random_state = 1, max_depth = i)\n",
    "  tree.fit(train_data, train_labels)\n",
    "  scores.append(tree.score(test_data, test_labels))\n",
    "print(scores)\n",
    "\n",
    "\n",
    "plt.plot(range(1, 21), scores)\n",
    "plt.xlabel('Tree Depth')\n",
    "plt.ylabel('Score')\n",
    "plt.show()\n",
    "\n"
   ]
  },
  {
   "cell_type": "code",
   "execution_count": null,
   "metadata": {},
   "outputs": [],
   "source": []
  }
 ],
 "metadata": {
  "kernelspec": {
   "display_name": "Python 3",
   "language": "python",
   "name": "python3"
  },
  "language_info": {
   "codemirror_mode": {
    "name": "ipython",
    "version": 3
   },
   "file_extension": ".py",
   "mimetype": "text/x-python",
   "name": "python",
   "nbconvert_exporter": "python",
   "pygments_lexer": "ipython3",
   "version": "3.8.5"
  }
 },
 "nbformat": 4,
 "nbformat_minor": 4
}
