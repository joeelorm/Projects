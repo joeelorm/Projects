{
 "cells": [
  {
   "cell_type": "markdown",
   "metadata": {},
   "source": [
    "This notebook seeks to create a linear regression model that predicts the outcome for a tennis player based on their playing habits. By analyzing and modeling the Association of Tennis Professionals (ATP) data, you will determine what it takes to be one of the best tennis players in the world.\n",
    "\n",
    "The data is about the top 1500 ranked players in the ATP over the span of 2009 to 2017.The statistics recorded for each player in each year include service game (offensive) statistics, return game (defensive) statistics and outcomes.\n",
    "\n",
    "\n",
    "### Identifying Data\n",
    "- Player: name of the tennis player\n",
    "- Year: year data was recorded\n",
    "\n",
    "\n",
    "#### Service Game Columns (Offensive)\n",
    "- Aces: number of serves by the player where the receiver does not touch the ball\n",
    "- DoubleFaults: number of times player missed both first and second serve attempts\n",
    "- FirstServe: % of first-serve attempts made\n",
    "- FirstServePointsWon: % of first-serve attempt points won by the player\n",
    "- SecondServePointsWon: % of second-serve attempt points won by the player\n",
    "- BreakPointsFaced: number of times where the receiver could have won service game of the player\n",
    "- BreakPointsSaved: % of the time the player was able to stop the receiver from winning service game when they had the chance\n",
    "- ServiceGamesPlayed: total number of games where the player served\n",
    "- ServiceGamesWon: total number of games where the player served and won\n",
    "- TotalServicePointsWon: % of points in games where the player served that they won\n",
    "\n",
    "\n",
    "#### Return Game Columns (Defensive)\n",
    "- FirstServeReturnPointsWon: % of opponents first-serve points the player was able to win\n",
    "- SecondServeReturnPointsWon: % of opponents second-serve points the player was able to win\n",
    "- BreakPointsOpportunities: number of times where the player could have won the service game of the opponent\n",
    "- BreakPointsConverted: % of the time the player was able to win their opponent’s service game when they had the chance\n",
    "- ReturnGamesPlayed: total number of games where the player’s opponent served\n",
    "- ReturnGamesWon: total number of games where the player’s opponent served and the player won\n",
    "- ReturnPointsWon: total number of points where the player’s opponent served and the player won\n",
    "- TotalPointsWon: % of points won by the player\n",
    "\n",
    "\n",
    "#### Outcomes\n",
    "- Wins: number of matches won in a year\n",
    "- Losses: number of matches lost in a year\n",
    "- Winnings: total winnings in `$ USD($) $` in a year\n",
    "- Ranking: ranking at the end of year"
   ]
  },
  {
   "cell_type": "code",
   "execution_count": 1,
   "metadata": {},
   "outputs": [],
   "source": [
    "import pandas as pd\n",
    "import matplotlib.pyplot as plt\n",
    "from sklearn.model_selection import train_test_split\n",
    "from sklearn.linear_model import LinearRegression"
   ]
  },
  {
   "cell_type": "code",
   "execution_count": 2,
   "metadata": {},
   "outputs": [
    {
     "name": "stdout",
     "output_type": "stream",
     "text": [
      "                 Player  Year  FirstServe  FirstServePointsWon  \\\n",
      "0           Pedro Sousa  2016        0.88                 0.50   \n",
      "1       Roman Safiullin  2017        0.84                 0.62   \n",
      "2           Pedro Sousa  2017        0.83                 0.60   \n",
      "3   Rogerio Dutra Silva  2010        0.83                 0.64   \n",
      "4  Daniel Gimeno-Traver  2017        0.81                 0.54   \n",
      "\n",
      "   FirstServeReturnPointsWon  SecondServePointsWon  \\\n",
      "0                       0.38                  0.50   \n",
      "1                       0.26                  0.33   \n",
      "2                       0.28                  0.53   \n",
      "3                       0.34                  0.59   \n",
      "4                       0.00                  0.33   \n",
      "\n",
      "   SecondServeReturnPointsWon  Aces  BreakPointsConverted  BreakPointsFaced  \\\n",
      "0                        0.39     0                  0.14                 7   \n",
      "1                        0.07     7                  0.00                 7   \n",
      "2                        0.44     2                  0.38                10   \n",
      "3                        0.33     2                  0.33                 5   \n",
      "4                        0.33     1                  0.00                 2   \n",
      "\n",
      "   ...  ReturnGamesWon  ReturnPointsWon  ServiceGamesPlayed  ServiceGamesWon  \\\n",
      "0  ...            0.11             0.38                   8             0.50   \n",
      "1  ...            0.00             0.20                   9             0.67   \n",
      "2  ...            0.16             0.34                  17             0.65   \n",
      "3  ...            0.14             0.34                  15             0.80   \n",
      "4  ...            0.00             0.20                   2             0.50   \n",
      "\n",
      "   TotalPointsWon  TotalServicePointsWon  Wins  Losses  Winnings  Ranking  \n",
      "0            0.43                   0.50     1       2     39820      119  \n",
      "1            0.41                   0.57     0       1     17334      381  \n",
      "2            0.45                   0.59     4       1    109827      119  \n",
      "3            0.49                   0.63     0       0      9761      125  \n",
      "4            0.35                   0.50     0       1     32879      272  \n",
      "\n",
      "[5 rows x 24 columns]\n"
     ]
    }
   ],
   "source": [
    "tennis = pd.read_csv('/Users/elorm/Documents/Repos/Datasets/tennis_stats.csv')\n",
    "print(tennis.head())"
   ]
  },
  {
   "cell_type": "code",
   "execution_count": 9,
   "metadata": {},
   "outputs": [
    {
     "data": {
      "text/html": [
       "<div>\n",
       "<style scoped>\n",
       "    .dataframe tbody tr th:only-of-type {\n",
       "        vertical-align: middle;\n",
       "    }\n",
       "\n",
       "    .dataframe tbody tr th {\n",
       "        vertical-align: top;\n",
       "    }\n",
       "\n",
       "    .dataframe thead th {\n",
       "        text-align: right;\n",
       "    }\n",
       "</style>\n",
       "<table border=\"1\" class=\"dataframe\">\n",
       "  <thead>\n",
       "    <tr style=\"text-align: right;\">\n",
       "      <th></th>\n",
       "      <th>Player</th>\n",
       "      <th>Year</th>\n",
       "      <th>FirstServe</th>\n",
       "      <th>FirstServePointsWon</th>\n",
       "      <th>FirstServeReturnPointsWon</th>\n",
       "      <th>SecondServePointsWon</th>\n",
       "      <th>SecondServeReturnPointsWon</th>\n",
       "      <th>Aces</th>\n",
       "      <th>BreakPointsConverted</th>\n",
       "      <th>BreakPointsFaced</th>\n",
       "      <th>...</th>\n",
       "      <th>ReturnGamesWon</th>\n",
       "      <th>ReturnPointsWon</th>\n",
       "      <th>ServiceGamesPlayed</th>\n",
       "      <th>ServiceGamesWon</th>\n",
       "      <th>TotalPointsWon</th>\n",
       "      <th>TotalServicePointsWon</th>\n",
       "      <th>Wins</th>\n",
       "      <th>Losses</th>\n",
       "      <th>Winnings</th>\n",
       "      <th>Ranking</th>\n",
       "    </tr>\n",
       "  </thead>\n",
       "  <tbody>\n",
       "    <tr>\n",
       "      <th>1332</th>\n",
       "      <td>Marin Cilic</td>\n",
       "      <td>2013</td>\n",
       "      <td>0.56</td>\n",
       "      <td>0.76</td>\n",
       "      <td>0.30</td>\n",
       "      <td>0.56</td>\n",
       "      <td>0.52</td>\n",
       "      <td>301</td>\n",
       "      <td>0.42</td>\n",
       "      <td>213</td>\n",
       "      <td>...</td>\n",
       "      <td>0.24</td>\n",
       "      <td>0.38</td>\n",
       "      <td>458</td>\n",
       "      <td>0.84</td>\n",
       "      <td>0.52</td>\n",
       "      <td>0.67</td>\n",
       "      <td>26</td>\n",
       "      <td>12</td>\n",
       "      <td>639368</td>\n",
       "      <td>3</td>\n",
       "    </tr>\n",
       "    <tr>\n",
       "      <th>1510</th>\n",
       "      <td>Marin Cilic</td>\n",
       "      <td>2011</td>\n",
       "      <td>0.54</td>\n",
       "      <td>0.76</td>\n",
       "      <td>0.31</td>\n",
       "      <td>0.54</td>\n",
       "      <td>0.50</td>\n",
       "      <td>436</td>\n",
       "      <td>0.43</td>\n",
       "      <td>326</td>\n",
       "      <td>...</td>\n",
       "      <td>0.24</td>\n",
       "      <td>0.38</td>\n",
       "      <td>727</td>\n",
       "      <td>0.83</td>\n",
       "      <td>0.52</td>\n",
       "      <td>0.66</td>\n",
       "      <td>44</td>\n",
       "      <td>22</td>\n",
       "      <td>1052754</td>\n",
       "      <td>3</td>\n",
       "    </tr>\n",
       "  </tbody>\n",
       "</table>\n",
       "<p>2 rows × 24 columns</p>\n",
       "</div>"
      ],
      "text/plain": [
       "           Player  Year  FirstServe  FirstServePointsWon  \\\n",
       "1332  Marin Cilic  2013        0.56                 0.76   \n",
       "1510  Marin Cilic  2011        0.54                 0.76   \n",
       "\n",
       "      FirstServeReturnPointsWon  SecondServePointsWon  \\\n",
       "1332                       0.30                  0.56   \n",
       "1510                       0.31                  0.54   \n",
       "\n",
       "      SecondServeReturnPointsWon  Aces  BreakPointsConverted  \\\n",
       "1332                        0.52   301                  0.42   \n",
       "1510                        0.50   436                  0.43   \n",
       "\n",
       "      BreakPointsFaced  ...  ReturnGamesWon  ReturnPointsWon  \\\n",
       "1332               213  ...            0.24             0.38   \n",
       "1510               326  ...            0.24             0.38   \n",
       "\n",
       "      ServiceGamesPlayed  ServiceGamesWon  TotalPointsWon  \\\n",
       "1332                 458             0.84            0.52   \n",
       "1510                 727             0.83            0.52   \n",
       "\n",
       "      TotalServicePointsWon  Wins  Losses  Winnings  Ranking  \n",
       "1332                   0.67    26      12    639368        3  \n",
       "1510                   0.66    44      22   1052754        3  \n",
       "\n",
       "[2 rows x 24 columns]"
      ]
     },
     "execution_count": 9,
     "metadata": {},
     "output_type": "execute_result"
    }
   ],
   "source": [
    "tennis[tennis['Ranking'] == 3]"
   ]
  },
  {
   "cell_type": "code",
   "execution_count": 12,
   "metadata": {},
   "outputs": [],
   "source": [
    "first_serve = tennis['FirstServe']\n",
    "wins = tennis['Wins']"
   ]
  },
  {
   "cell_type": "code",
   "execution_count": 13,
   "metadata": {},
   "outputs": [
    {
     "data": {
      "image/png": "[encoded data removed]",
      "text/plain": [
       "<Figure size 432x288 with 1 Axes>"
      ]
     },
     "metadata": {
      "needs_background": "light"
     },
     "output_type": "display_data"
    }
   ],
   "source": [
    "plt.scatter(first_serve, wins)\n",
    "plt.show()"
   ]
  },
  {
   "cell_type": "code",
   "execution_count": null,
   "metadata": {},
   "outputs": [],
   "source": []
  }
 ],
 "metadata": {
  "kernelspec": {
   "display_name": "Python 3",
   "language": "python",
   "name": "python3"
  },
  "language_info": {
   "codemirror_mode": {
    "name": "ipython",
    "version": 3
   },
   "file_extension": ".py",
   "mimetype": "text/x-python",
   "name": "python",
   "nbconvert_exporter": "python",
   "pygments_lexer": "ipython3",
   "version": "3.8.5"
  }
 },
 "nbformat": 4,
 "nbformat_minor": 4
}
