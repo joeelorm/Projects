{
 "cells": [
  {
   "attachments": {},
   "cell_type": "markdown",
   "metadata": {},
   "source": [
    "<h1 align = 'center', style = 'font-family:verdana'>DEVELOPMENT OF A MACHINE LEARNING MODEL TO ESTIMATE THE CREDIT WORTHINESS OF LOAN APPLICANTS </h1>\n",
    "\n",
    "<h2 align = 'center', style = 'font-family:verdana'>JOSEPH SEGBEFIA (B1011628)</h3>\n",
    "<h3 align = 'center', style = 'font-family:verdana'>GISMA Business School</h3>\n",
    "<h4 align = 'center', style = 'font-family:verdana'> MSc. Business Intelligence and Analytics</h4>\n",
    "\n",
    "<h4 align = 'center', style = 'color:blue'; 'font-family:verdana'>Predictive Analytics</h4>"
   ]
  },
  {
   "cell_type": "markdown",
   "metadata": {},
   "source": [
    "<p style = 'font-family:verdana'>Problem Statement: A payday loan company used human experts to assess the credit risk of 988 credit applications. The aim is to use this input to create a system that would estimate the credit risk of new applications."
   ]
  },
  {
   "cell_type": "markdown",
   "metadata": {},
   "source": [
    "<h3 style = 'font-family:verdana'>ABSTRACT</h3>\n",
    "<p style = 'font-family:verdana'>The objective of this project is to develop a machine learning model to help estimate or predict the credit worthiness of loan applicants. The estimation/prediction will be done by looking at some information (features) on each applicant. This is a case of supervised machine learning technique called classification, where the algorithm is first trained on features of each applicant, and used to classify new applicants as 'worthy' or 'not worthy' for a loan.</p>"
   ]
  },
  {
   "cell_type": "markdown",
   "metadata": {},
   "source": [
    "<h3 style = 'font-family:verdana'>INTRODUCTION</h3>\n",
    "<p style = 'font-family:verdana'>In recent times, most industries are on the path of digital transformation and machine learning is at the center of this revolution. Institutions like banks, loan companies, e-commerce companies and hospitals usually employ machine learning to make their work easier. Of all the industries on the path of digital transformation, financial institutions, like loan companies and banks are at the top of the list of those that can benefit the most. Loan companies for example use machine learning which helps them become more agile, and also gives them the ability to process loans faster and more accurately. \n",
    "</p>\n",
    "<p style = 'color:red'>Remember to complete this section </p>"
   ]
  },
  {
   "cell_type": "markdown",
   "metadata": {},
   "source": [
    "<h3 style = 'font-family:verdana'>METHODOLOGY</h3>\n",
    "<p style = 'color:red'>Remember to complete this section </p>"
   ]
  },
  {
   "cell_type": "markdown",
   "metadata": {},
   "source": [
    "<h4 style = 'font-family:verdana'> The Data and Exploratory Data Analysis</h4>"
   ]
  },
  {
   "cell_type": "code",
   "execution_count": 1,
   "metadata": {},
   "outputs": [],
   "source": [
    "#IMPORTING LIBRARIES AND DEPENDENCIES\n",
    "#Import dependencies\n",
    "%matplotlib inline\n",
    "\n",
    "# Data Manipulation\n",
    "import numpy as np\n",
    "import pandas as pd\n",
    "\n",
    "# Visualization \n",
    "import matplotlib.pyplot as plt\n",
    "import seaborn as sns\n",
    "plt.style.use('seaborn-whitegrid')"
   ]
  },
  {
   "cell_type": "code",
   "execution_count": 2,
   "metadata": {},
   "outputs": [
    {
     "name": "stdout",
     "output_type": "stream",
     "text": [
      "The dataframe has 988 rows and 22 columns\n"
     ]
    }
   ],
   "source": [
    "#Loading the data into a pandas dataframe called data\n",
    "data = pd.read_excel('./Datasets/data.xlsx')\n",
    "\n",
    "print('The dataframe has {} rows and {} columns'.format(data.shape[0], data.shape[1]))"
   ]
  },
  {
   "cell_type": "markdown",
   "metadata": {},
   "source": [
    "<h4 style = 'font-family:verdana'>The Data</h4>\n",
    "<p style = 'font-family:verdana'> The dataset is made up of 988 rows. This means that it contains information on 988 loan applicants, where each row represents one applicant. In addition to the number of rows, it has twenty-two (22) columns (features). The features or columns include; 'foreignworker', 'status', 'credithistory', 'purpose', and 'savings' just to name a few. Among these features, is the target variable (the variable the machine learning model predicts) is the creditworthy column. In order for the machine learning model to predict the credit worthiness of future applicants, it must be first trained using the other features. The data types of the features in the dataset are: 'string' which is usually represnted as 'object' and 'numeric' usually represented as an 'integer (int64)' or a 'float (float64)'. The cell below shows the datatype and the non-null value counts for each column. As can be seen, the data contains no values.</p>\n",
    "<p style = 'color:red'>Review this section</p>"
   ]
  },
  {
   "cell_type": "code",
   "execution_count": 7,
   "metadata": {},
   "outputs": [
    {
     "name": "stdout",
     "output_type": "stream",
     "text": [
      "<class 'pandas.core.frame.DataFrame'>\n",
      "RangeIndex: 988 entries, 0 to 987\n",
      "Data columns (total 22 columns):\n",
      " #   Column                    Non-Null Count  Dtype  \n",
      "---  ------                    --------------  -----  \n",
      " 0   foreignworker             988 non-null    object \n",
      " 1   status                    988 non-null    object \n",
      " 2   credithistory             988 non-null    object \n",
      " 3   purpose                   988 non-null    object \n",
      " 4   savings                   988 non-null    object \n",
      " 5   employmentsince           988 non-null    object \n",
      " 6   otherdebtors              988 non-null    object \n",
      " 7   property                  988 non-null    object \n",
      " 8   otherinstallments         988 non-null    object \n",
      " 9   housing                   988 non-null    object \n",
      " 10  job                       988 non-null    object \n",
      " 11  phone                     988 non-null    object \n",
      " 12  duration                  988 non-null    int64  \n",
      " 13  creditamount              988 non-null    int64  \n",
      " 14  installmentrate           988 non-null    int64  \n",
      " 15  residencesince            988 non-null    int64  \n",
      " 16  age                       988 non-null    int64  \n",
      " 17  numberofexsistingcredits  988 non-null    int64  \n",
      " 18  numberofliablepeople      988 non-null    int64  \n",
      " 19  gender                    988 non-null    object \n",
      " 20  creditworthy              988 non-null    object \n",
      " 21  creditamout_per_month     988 non-null    float64\n",
      "dtypes: float64(1), int64(7), object(14)\n",
      "memory usage: 169.9+ KB\n"
     ]
    }
   ],
   "source": [
    "data.info()"
   ]
  },
  {
   "cell_type": "markdown",
   "metadata": {},
   "source": [
    "<h4 style = 'font-family:verdana'>Exploratory Data Analysis</h4>\n",
    "<p style = 'font-family:verdana'> Exploratory Data Analysis (EDA) is usually on of the first things a data scientist or data analyst does to the data. The main purpose of performing Exploratory Data Analysis is to help the data scientist have a look at the data he has before making any assumptions. It helps to identify obvious errors and also to identify and understand patterns within the data, detect outliers and also to find relationships and associations between variables. In the next few cells, exploratory data analysis will be performed on the dataset to help bring out hidden information in the data before a machine learning model can be fitted.</p>"
   ]
  },
  {
   "cell_type": "code",
   "execution_count": 21,
   "metadata": {},
   "outputs": [
    {
     "name": "stdout",
     "output_type": "stream",
     "text": [
      "  foreignworker      status                             credithistory  \\\n",
      "0           yes    < 0 Euro                         critical account/   \n",
      "1           yes  < 200 Euro  existing credits paid back duly till now   \n",
      "\n",
      "            purpose                      savings     employmentsince  \\\n",
      "0  radio/television  unknown/ no savings account       .. >= 7 years   \n",
      "1  radio/television               ... < 100 Euro  1 <= ... < 4 years   \n",
      "\n",
      "  otherdebtors     property otherinstallments housing  ... duration  \\\n",
      "0         none  real estate              none     own  ...        6   \n",
      "1         none  real estate              none     own  ...       48   \n",
      "\n",
      "  creditamount  installmentrate  residencesince  age  \\\n",
      "0         1169                4               4   67   \n",
      "1         5951                2               2   22   \n",
      "\n",
      "   numberofexsistingcredits  numberofliablepeople  gender  creditworthy  \\\n",
      "0                         2                     1    male        Worthy   \n",
      "1                         1                     1  female    Not Worthy   \n",
      "\n",
      "  creditamout_per_month  \n",
      "0            194.833333  \n",
      "1            123.979167  \n",
      "\n",
      "[2 rows x 22 columns]\n",
      "\n",
      "The youngest applicant is 19 years\n",
      "The oldest applicant is 75 years\n",
      "The average age of an applicant is 35.46 years\n",
      "\n"
     ]
    },
    {
     "data": {
      "image/png": "[encoded data removed]",
      "text/plain": [
       "<Figure size 432x288 with 1 Axes>"
      ]
     },
     "metadata": {},
     "output_type": "display_data"
    },
    {
     "data": {
      "image/png": "[encoded data removed]",
      "text/plain": [
       "<Figure size 432x288 with 1 Axes>"
      ]
     },
     "metadata": {},
     "output_type": "display_data"
    }
   ],
   "source": [
    "#Performing Exploratory Data Analysis\n",
    "print(data.head(2)) #Printing the first 2 rows of the dataframe\n",
    "print('')\n",
    "\n",
    "#Extracting the ages of the loan applicants into a variable called ages\n",
    "ages = data['age']\n",
    "print('The youngest applicant is {} years'.format(np.min(ages)))\n",
    "print('The oldest applicant is {} years'.format(np.max(ages)))\n",
    "print('The average age of an applicant is {:.2f} years'.format(np.mean(ages)))\n",
    "print('')\n",
    "\n",
    "#Making a boxplot of the ages to reflect the median age, minimum age, maximum age, and any outliers present in the age\n",
    "#column\n",
    "sns.boxplot(y = ages)\n",
    "plt.show()\n",
    "\n",
    "\n",
    "#Making a histogram of the ages\n",
    "sns.histplot(ages)\n",
    "plt.show()"
   ]
  },
  {
   "cell_type": "code",
   "execution_count": 15,
   "metadata": {},
   "outputs": [
    {
     "data": {
      "text/plain": [
       "array(['unknown/ no savings account', '... < 100 Euro',\n",
       "       '500 <= ... < 1000 Euro', '.. >= 1000 Euro',\n",
       "       '100 <= ... < 500 Euro'], dtype=object)"
      ]
     },
     "execution_count": 15,
     "metadata": {},
     "output_type": "execute_result"
    }
   ],
   "source": [
    "data['savings'].unique()"
   ]
  },
  {
   "cell_type": "code",
   "execution_count": null,
   "metadata": {},
   "outputs": [],
   "source": []
  }
 ],
 "metadata": {
  "kernelspec": {
   "display_name": "Python 3",
   "language": "python",
   "name": "python3"
  },
  "language_info": {
   "codemirror_mode": {
    "name": "ipython",
    "version": 3
   },
   "file_extension": ".py",
   "mimetype": "text/x-python",
   "name": "python",
   "nbconvert_exporter": "python",
   "pygments_lexer": "ipython3",
   "version": "3.8.5"
  }
 },
 "nbformat": 4,
 "nbformat_minor": 4
}
