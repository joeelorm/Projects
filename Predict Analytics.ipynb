{
 "cells": [
  {
   "attachments": {},
   "cell_type": "markdown",
   "metadata": {},
   "source": [
    "<h1 align = 'center', style = 'font-family:verdana'>DEVELOPMENT OF A MACHINE LEARNING MODEL TO ESTIMATE THE CREDIT WORTHINESS OF LOAN APPLICANTS </h1>\n",
    "\n",
    "<h2 align = 'center', style = 'font-family:verdana'>JOSEPH SEGBEFIA (B1011628)</h3>\n",
    "<h3 align = 'center', style = 'font-family:verdana'>GISMA Business School</h3>\n",
    "<h4 align = 'center', style = 'font-family:verdana'> MSc. Business Intelligence and Analytics</h4>\n",
    "\n",
    "<h4 align = 'center', style = 'color:blue'; 'font-family:verdana'>Predictive Analytics</h4>"
   ]
  },
  {
   "cell_type": "markdown",
   "metadata": {},
   "source": [
    "<p style = 'font-family:verdana'>Problem Statement: A payday loan company used human experts to assess the credit risk of 988 credit applications. The aim is to use this input to create a system that would estimate the credit risk of new applications."
   ]
  },
  {
   "cell_type": "markdown",
   "metadata": {},
   "source": [
    "<h3 style = 'font-family:verdana'>ABSTRACT</h3>\n",
    "<p style = 'font-family:verdana'>The objective of this project is to develop a machine learning model to help estimate or predict the credit worthiness of loan applicants. The estimation/prediction will be done by looking at some information (features) on each applicant. This is a case of supervised machine learning technique called classification, where the algorithm is first trained on features of each applicant, and used to classify new applicants as 'worthy' or 'not worthy' for a loan.</p>"
   ]
  },
  {
   "cell_type": "markdown",
   "metadata": {},
   "source": [
    "<h3 style = 'font-family:verdana'>INTRODUCTION</h3>\n",
    "<p style = 'font-family:verdana'>In recent times, most industries are on the path of digital transformation and machine learning is at the center of this revolution. Institutions like banks, loan companies, e-commerce companies and hospitals usually employ machine learning to make their work easier. Of all the industries on the path of digital transformation, financial institutions, like loan companies and banks are at the top of the list of those that can benefit the most. Loan companies for example use machine learning which helps them become more agile, and also gives them the ability to process loans faster and more accurately. \n",
    "</p>\n",
    "<p style = 'color:red'>Remember to complete this section </p>"
   ]
  },
  {
   "cell_type": "markdown",
   "metadata": {},
   "source": [
    "<h3 style = 'font-family:verdana'>METHODOLOGY</h3>\n",
    "<p style = 'color:red'>Remember to complete this section </p>"
   ]
  },
  {
   "cell_type": "markdown",
   "metadata": {},
   "source": [
    "<h4 style = 'font-family:verdana'> The Data and Exploratory Data Analysis</h4>"
   ]
  },
  {
   "cell_type": "code",
   "execution_count": 1,
   "metadata": {},
   "outputs": [],
   "source": [
    "#IMPORTING LIBRARIES AND DEPENDENCIES\n",
    "#Import dependencies\n",
    "%matplotlib inline\n",
    "\n",
    "# Data Manipulation\n",
    "import numpy as np\n",
    "import pandas as pd\n",
    "\n",
    "# Visualization \n",
    "import matplotlib.pyplot as plt\n",
    "import seaborn as sns\n",
    "plt.style.use('seaborn-whitegrid')"
   ]
  },
  {
   "cell_type": "code",
   "execution_count": 2,
   "metadata": {},
   "outputs": [
    {
     "name": "stdout",
     "output_type": "stream",
     "text": [
      "The dataframe has 988 rows and 22 columns\n"
     ]
    }
   ],
   "source": [
    "#Loading the data into a pandas dataframe called data\n",
    "data = pd.read_excel('./Datasets/data.xlsx')\n",
    "\n",
    "print('The dataframe has {} rows and {} columns'.format(data.shape[0], data.shape[1]))"
   ]
  },
  {
   "cell_type": "markdown",
   "metadata": {},
   "source": [
    "<h4 style = 'font-family:verdana'>The Data</h4>\n",
    "<p style = 'font-family:verdana'> The dataset is made up of 988 rows. This means that it contains information on 988 loan applicants, where each row represents one applicant. In addition to the number of rows, it has twenty-two (22) columns (features). The features or columns include; 'foreignworker', 'status', 'credithistory', 'purpose', and 'savings' just to name a few. Among these features, is the target variable (the variable the machine learning model predicts) is the creditworthy column. In order for the machine learning model to predict the credit worthiness of future applicants, it must be first trained using the other features. The data types of the features in the dataset are: 'string' which is usually represnted as 'object' and 'numeric' usually represented as an 'integer (int64)' or a 'float (float64)'. The cell below shows the datatype and the non-null value counts for each column. As can be seen, the data contains no values.</p>\n",
    "<p style = 'color:red'>Review this section</p>"
   ]
  },
  {
   "cell_type": "code",
   "execution_count": 7,
   "metadata": {},
   "outputs": [
    {
     "name": "stdout",
     "output_type": "stream",
     "text": [
      "<class 'pandas.core.frame.DataFrame'>\n",
      "RangeIndex: 988 entries, 0 to 987\n",
      "Data columns (total 22 columns):\n",
      " #   Column                    Non-Null Count  Dtype  \n",
      "---  ------                    --------------  -----  \n",
      " 0   foreignworker             988 non-null    object \n",
      " 1   status                    988 non-null    object \n",
      " 2   credithistory             988 non-null    object \n",
      " 3   purpose                   988 non-null    object \n",
      " 4   savings                   988 non-null    object \n",
      " 5   employmentsince           988 non-null    object \n",
      " 6   otherdebtors              988 non-null    object \n",
      " 7   property                  988 non-null    object \n",
      " 8   otherinstallments         988 non-null    object \n",
      " 9   housing                   988 non-null    object \n",
      " 10  job                       988 non-null    object \n",
      " 11  phone                     988 non-null    object \n",
      " 12  duration                  988 non-null    int64  \n",
      " 13  creditamount              988 non-null    int64  \n",
      " 14  installmentrate           988 non-null    int64  \n",
      " 15  residencesince            988 non-null    int64  \n",
      " 16  age                       988 non-null    int64  \n",
      " 17  numberofexsistingcredits  988 non-null    int64  \n",
      " 18  numberofliablepeople      988 non-null    int64  \n",
      " 19  gender                    988 non-null    object \n",
      " 20  creditworthy              988 non-null    object \n",
      " 21  creditamout_per_month     988 non-null    float64\n",
      "dtypes: float64(1), int64(7), object(14)\n",
      "memory usage: 169.9+ KB\n"
     ]
    }
   ],
   "source": [
    "data.info()"
   ]
  },
  {
   "cell_type": "markdown",
   "metadata": {},
   "source": [
    "<h4 style = 'font-family:verdana'>Exploratory Data Analysis</h4>\n",
    "<p style = 'font-family:verdana'> Exploratory Data Analysis (EDA) is usually on of the first things a data scientist or data analyst does to the data. The main purpose of performing Exploratory Data Analysis is to help the data scientist have a look at the data he has before making any assumptions. It helps to identify obvious errors and also to identify and understand patterns within the data, detect outliers and also to find relationships and associations between variables. In the next few cells, exploratory data analysis will be performed on the dataset to help bring out hidden information in the data before a machine learning model can be fitted.</p>"
   ]
  },
  {
   "cell_type": "code",
   "execution_count": 52,
   "metadata": {},
   "outputs": [
    {
     "name": "stdout",
     "output_type": "stream",
     "text": [
      "  foreignworker    status      credithistory           purpose  \\\n",
      "0           yes  < 0 Euro  critical account/  radio/television   \n",
      "\n",
      "                       savings employmentsince otherdebtors     property  \\\n",
      "0  unknown/ no savings account   .. >= 7 years         none  real estate   \n",
      "\n",
      "  otherinstallments housing  ... duration creditamount  installmentrate  \\\n",
      "0              none     own  ...        6         1169                4   \n",
      "\n",
      "   residencesince  age  numberofexsistingcredits  numberofliablepeople  \\\n",
      "0               4   67                         2                     1   \n",
      "\n",
      "   gender  creditworthy creditamout_per_month  \n",
      "0    male        Worthy            194.833333  \n",
      "\n",
      "[1 rows x 22 columns]\n",
      "\n",
      "The youngest applicant is 19 years\n",
      "The oldest applicant is 75 years\n",
      "The average age of an applicant is 35.46 years\n",
      "\n"
     ]
    },
    {
     "data": {
      "image/png": "[encoded data removed]",
      "text/plain": [
       "<Figure size 360x576 with 1 Axes>"
      ]
     },
     "metadata": {},
     "output_type": "display_data"
    },
    {
     "name": "stdout",
     "output_type": "stream",
     "text": [
      "\n"
     ]
    },
    {
     "data": {
      "image/png": "[encoded data removed]",
      "text/plain": [
       "<Figure size 864x576 with 1 Axes>"
      ]
     },
     "metadata": {},
     "output_type": "display_data"
    }
   ],
   "source": [
    "#Performing Exploratory Data Analysis\n",
    "print(data.head(1)) #Printing the first row of the dataframe\n",
    "print('')\n",
    "\n",
    "#Extracting the ages of the loan applicants into a variable called ages\n",
    "ages = data['age']\n",
    "print('The youngest applicant is {} years'.format(np.min(ages)))\n",
    "print('The oldest applicant is {} years'.format(np.max(ages)))\n",
    "print('The average age of an applicant is {:.2f} years'.format(np.mean(ages)))\n",
    "print('')\n",
    "\n",
    "#Making a boxplot of the ages to reflect the median age, minimum age, maximum age, and any outliers present in the age\n",
    "#column\n",
    "plt.figure(figsize = (5, 8))\n",
    "sns.boxplot(y = ages)\n",
    "plt.title('Figure 1: Boxplot')\n",
    "plt.show()\n",
    "print('')\n",
    "\n",
    "from scipy.stats import iqr\n",
    "interquartile_range = iqr(ages)\n",
    "third_quartile = np.quantile(ages, 0.75)\n",
    "upper_extreme = third_quartile + (1.5 * interquartile)\n",
    "\n",
    "\n",
    "#Making a histogram of the ages\n",
    "plt.figure(figsize = (12, 8))\n",
    "plt.title('Figure 2: Distribution of Applicant Ages')\n",
    "sns.histplot(ages)\n",
    "plt.axvline(np.min(ages), color = 'red', linestyle = 'dashed', label = 'Minimum age')\n",
    "plt.axvline(np.median(ages), color = 'green', linestyle = 'dashed', label = 'Median age')\n",
    "plt.axvline(np.mean(ages), color = 'black', linestyle = 'dashed', label = 'Average age')\n",
    "plt.axvline(upper_extreme, color = 'gold', linestyle = 'dashed', label = 'Maximum age')\n",
    "plt.legend()\n",
    "plt.show()"
   ]
  },
  {
   "cell_type": "markdown",
   "metadata": {},
   "source": [
    "<h5 style = 'font-family:verdana'>Applicant Ages</h5>\n",
    "<p style = 'font-family:verdana'>Taking a look at the ages of the applicants in the dataset shows majority of the applicants are between 20 to 40 years as shown in the histogram (Figure 2) above. The youngest applicant is nineteen years, the oldest applicant is 75 years. The average age of the applicants is also around 35 years. This goes to show that applicants for loans as recorded in the dataset are mostly young. From the boxplot above (Figure 1), it can be observed that the there are unusually old applicants in the dataset. These applicant age group fall above the normal range of ages captured in the dataset. These age values are referred to as outliers because they differ from the normal occurrence in the dataset. From the histogram diagram above, values on the right hand side of the yellow dashed vertical line constitute the outliers. The histogram shows that the ages of the applicants are not normally distributed as majority of the ages fall to the left of the plot. This is because the mean is greater than the median causing the distribution to be skewed to the right.</p>"
   ]
  },
  {
   "cell_type": "code",
   "execution_count": 67,
   "metadata": {},
   "outputs": [
    {
     "data": {
      "text/plain": [
       "male      683\n",
       "female    305\n",
       "Name: gender, dtype: int64"
      ]
     },
     "execution_count": 67,
     "metadata": {},
     "output_type": "execute_result"
    }
   ],
   "source": [
    "#Investigating the gender of applicants\n",
    "\n",
    "#Finding the number of male and female applicants\n",
    "male = data[data['gender'] == 'male']\n",
    "female = data[data['gender'] == 'female']\n",
    "\n",
    "print('There are a total of {} '.format(len(male)))\n"
   ]
  },
  {
   "cell_type": "markdown",
   "metadata": {},
   "source": [
    "<h5 style = 'font-family:verdana'>Gender of Applicants</h5>"
   ]
  },
  {
   "cell_type": "code",
   "execution_count": null,
   "metadata": {},
   "outputs": [],
   "source": []
  },
  {
   "cell_type": "code",
   "execution_count": null,
   "metadata": {},
   "outputs": [],
   "source": []
  }
 ],
 "metadata": {
  "kernelspec": {
   "display_name": "Python 3",
   "language": "python",
   "name": "python3"
  },
  "language_info": {
   "codemirror_mode": {
    "name": "ipython",
    "version": 3
   },
   "file_extension": ".py",
   "mimetype": "text/x-python",
   "name": "python",
   "nbconvert_exporter": "python",
   "pygments_lexer": "ipython3",
   "version": "3.8.5"
  }
 },
 "nbformat": 4,
 "nbformat_minor": 4
}
