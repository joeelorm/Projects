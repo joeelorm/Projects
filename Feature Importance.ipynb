{
 "cells": [
  {
   "cell_type": "markdown",
   "metadata": {},
   "source": [
    "### Feature Importance\n",
    "Feature importance refers to a class of techniques for assigning scores to input features to a predictive model that indicates the relative importance of each feature when making a prediction.\n",
    "\n",
    "\n",
    "To demonstrate feature importance, use will made of test datasets for classification, regression."
   ]
  },
  {
   "cell_type": "code",
   "execution_count": 1,
   "metadata": {},
   "outputs": [],
   "source": [
    "import sklearn"
   ]
  },
  {
   "cell_type": "markdown",
   "metadata": {},
   "source": [
    "#### Regression"
   ]
  },
  {
   "cell_type": "code",
   "execution_count": 2,
   "metadata": {},
   "outputs": [],
   "source": [
    "from sklearn.datasets import make_regression\n",
    "from sklearn.linear_model import LinearRegression\n",
    "import matplotlib.pyplot as plt\n"
   ]
  },
  {
   "cell_type": "code",
   "execution_count": 3,
   "metadata": {},
   "outputs": [],
   "source": [
    "# define dataset\n",
    "X, y = make_regression(n_samples=1000, n_features=10, n_informative=5, random_state=1)"
   ]
  },
  {
   "cell_type": "code",
   "execution_count": 4,
   "metadata": {},
   "outputs": [
    {
     "data": {
      "text/plain": [
       "array([[-2.02220122,  0.31563495,  0.82797464, ..., -0.50446586,\n",
       "         0.23009474,  0.76201118],\n",
       "       [ 0.71256194,  1.74103872, -1.21466535, ...,  1.04131149,\n",
       "        -0.75850596,  0.74791592],\n",
       "       [ 0.08338884,  0.92829021,  1.45167891, ...,  1.22393601,\n",
       "         0.3416886 , -0.12517266],\n",
       "       ...,\n",
       "       [ 0.12182436,  0.74220833, -0.64488697, ..., -2.37934499,\n",
       "         1.82039313, -1.55531804],\n",
       "       [ 0.00820639, -0.89191578,  0.14747174, ..., -1.78611048,\n",
       "         0.71238157, -1.07498942],\n",
       "       [-0.43805451,  0.29078795,  0.17794556, ..., -0.18581086,\n",
       "        -0.26120192,  0.8632634 ]])"
      ]
     },
     "execution_count": 4,
     "metadata": {},
     "output_type": "execute_result"
    }
   ],
   "source": [
    "X"
   ]
  },
  {
   "cell_type": "code",
   "execution_count": null,
   "metadata": {},
   "outputs": [],
   "source": []
  }
 ],
 "metadata": {
  "kernelspec": {
   "display_name": "Python 3",
   "language": "python",
   "name": "python3"
  },
  "language_info": {
   "codemirror_mode": {
    "name": "ipython",
    "version": 3
   },
   "file_extension": ".py",
   "mimetype": "text/x-python",
   "name": "python",
   "nbconvert_exporter": "python",
   "pygments_lexer": "ipython3",
   "version": "3.8.5"
  }
 },
 "nbformat": 4,
 "nbformat_minor": 4
}
