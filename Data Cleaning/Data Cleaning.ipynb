{
 "cells": [
  {
   "cell_type": "markdown",
   "metadata": {},
   "source": [
    "# Data Cleaning Project\n",
    "\n",
    "This notebook contains my attempt to clean a bicycle sharing data collected in San Francisco and also perform some analysis on the data to answer some few questions. There are many questions that could be asked of this data but I will only ask a few and try to answer them using: \n",
    "- NumPy\n",
    "- Python\n",
    "- Pandas\n",
    "- Matplotlib\n",
    "- Seaborn\n",
    "\n",
    "Some the questions are as follows:\n",
    "- What are the ages of the riders?\n",
    "- Which stations are the most popular ones?\n",
    "- Which age group ride more?\n",
    "- Do male riders ride more than female riders?\n",
    "- Which days of the week experience more rides?\n",
    "- Which months are the busiest? \n",
    "- and more...\n",
    "\n",
    "I will try to answer all these questions in particular order and might even formulate other questions and answer them as I go along the project. I am open to opinions and suggestions. \n",
    "\n",
    "I hope you enjoy the ride. "
   ]
  },
  {
   "cell_type": "markdown",
   "metadata": {},
   "source": [
    "#### Why Data Cleaning is Important\n",
    "Without properly cleaned data, the results of any data analysis or machine learning model could be inaccurate. It is a commonly known fact that data scientists spend 80% of their time cleaning, manipulating and transforming data into the shape they want in order to carry out accurate analysis.\n",
    "\n",
    "##### Some common problems with data:\n",
    "- Column headers are variables, not variable names\n",
    "- Multiple variables are stored in one column\n",
    "- Variables are stored in both rows and columns\n",
    "- Multiple types of observational units are stored in the same table\n",
    "- A single observational unit stored in multiple tables\n",
    "\n",
    "In this project efforts will be made to deal with and overcome some common untidy data problems."
   ]
  },
  {
   "cell_type": "code",
   "execution_count": 1,
   "metadata": {},
   "outputs": [],
   "source": [
    "#Importing required libraries\n",
    "import numpy as np\n",
    "import pandas as pd\n",
    "from random import randint\n",
    "import matplotlib.pyplot as plt\n",
    "import seaborn as sns"
   ]
  },
  {
   "cell_type": "code",
   "execution_count": 2,
   "metadata": {},
   "outputs": [
    {
     "data": {
      "text/html": [
       "<div>\n",
       "<style scoped>\n",
       "    .dataframe tbody tr th:only-of-type {\n",
       "        vertical-align: middle;\n",
       "    }\n",
       "\n",
       "    .dataframe tbody tr th {\n",
       "        vertical-align: top;\n",
       "    }\n",
       "\n",
       "    .dataframe thead th {\n",
       "        text-align: right;\n",
       "    }\n",
       "</style>\n",
       "<table border=\"1\" class=\"dataframe\">\n",
       "  <thead>\n",
       "    <tr style=\"text-align: right;\">\n",
       "      <th></th>\n",
       "      <th>Unnamed: 0</th>\n",
       "      <th>duration</th>\n",
       "      <th>station_A_id</th>\n",
       "      <th>station_A_name</th>\n",
       "      <th>station_B_id</th>\n",
       "      <th>station_B_name</th>\n",
       "      <th>bike_id</th>\n",
       "      <th>user_type</th>\n",
       "      <th>user_birth_year</th>\n",
       "      <th>user_gender</th>\n",
       "    </tr>\n",
       "  </thead>\n",
       "  <tbody>\n",
       "    <tr>\n",
       "      <th>0</th>\n",
       "      <td>0</td>\n",
       "      <td>12 minutes</td>\n",
       "      <td>81</td>\n",
       "      <td>Berry St at 4th St</td>\n",
       "      <td>323</td>\n",
       "      <td>Broadway at Kearny</td>\n",
       "      <td>5480</td>\n",
       "      <td>2</td>\n",
       "      <td>1959</td>\n",
       "      <td>Male</td>\n",
       "    </tr>\n",
       "    <tr>\n",
       "      <th>1</th>\n",
       "      <td>1</td>\n",
       "      <td>24 minutes</td>\n",
       "      <td>3</td>\n",
       "      <td>Powell St BART Station (Market St at 4th St)</td>\n",
       "      <td>118</td>\n",
       "      <td>Eureka Valley Recreation Center</td>\n",
       "      <td>5193</td>\n",
       "      <td>2</td>\n",
       "      <td>1965</td>\n",
       "      <td>Male</td>\n",
       "    </tr>\n",
       "    <tr>\n",
       "      <th>2</th>\n",
       "      <td>2</td>\n",
       "      <td>8 minutes</td>\n",
       "      <td>67</td>\n",
       "      <td>San Francisco Caltrain Station 2  (Townsend St...</td>\n",
       "      <td>23</td>\n",
       "      <td>The Embarcadero at Steuart St</td>\n",
       "      <td>3652</td>\n",
       "      <td>3</td>\n",
       "      <td>1993</td>\n",
       "      <td>Male</td>\n",
       "    </tr>\n",
       "  </tbody>\n",
       "</table>\n",
       "</div>"
      ],
      "text/plain": [
       "   Unnamed: 0    duration  station_A_id  \\\n",
       "0           0  12 minutes            81   \n",
       "1           1  24 minutes             3   \n",
       "2           2   8 minutes            67   \n",
       "\n",
       "                                      station_A_name  station_B_id  \\\n",
       "0                                 Berry St at 4th St           323   \n",
       "1       Powell St BART Station (Market St at 4th St)           118   \n",
       "2  San Francisco Caltrain Station 2  (Townsend St...            23   \n",
       "\n",
       "                    station_B_name  bike_id  user_type  user_birth_year  \\\n",
       "0               Broadway at Kearny     5480          2             1959   \n",
       "1  Eureka Valley Recreation Center     5193          2             1965   \n",
       "2    The Embarcadero at Steuart St     3652          3             1993   \n",
       "\n",
       "  user_gender  \n",
       "0        Male  \n",
       "1        Male  \n",
       "2        Male  "
      ]
     },
     "execution_count": 2,
     "metadata": {},
     "output_type": "execute_result"
    }
   ],
   "source": [
    "#Loading the dataset into a dataframe called ride_sharing\n",
    "ride_sharing = pd.read_csv('../Datasets/ride_sharing_new.csv')\n",
    "#Viewing the first 3 rows of the dataset\n",
    "ride_sharing.head(3)"
   ]
  },
  {
   "cell_type": "markdown",
   "metadata": {},
   "source": [
    "The dataset above is a bicycle ride sharing data from San Francisco. It contains information on the start and end stations, the trip duration, and some user information for a bike sharing service.\n",
    "\n",
    "The user_type column contains information on whether a user is taking a free ride and takes on the following values:\n",
    "\n",
    "- 1 for free riders.\n",
    "\n",
    "- 2 for pay per ride.\n",
    "\n",
    "- 3 for monthly subscribers.  "
   ]
  },
  {
   "cell_type": "code",
   "execution_count": 3,
   "metadata": {},
   "outputs": [
    {
     "name": "stdout",
     "output_type": "stream",
     "text": [
      "<class 'pandas.core.frame.DataFrame'>\n",
      "RangeIndex: 25760 entries, 0 to 25759\n",
      "Data columns (total 10 columns):\n",
      " #   Column           Non-Null Count  Dtype \n",
      "---  ------           --------------  ----- \n",
      " 0   Unnamed: 0       25760 non-null  int64 \n",
      " 1   duration         25760 non-null  object\n",
      " 2   station_A_id     25760 non-null  int64 \n",
      " 3   station_A_name   25760 non-null  object\n",
      " 4   station_B_id     25760 non-null  int64 \n",
      " 5   station_B_name   25760 non-null  object\n",
      " 6   bike_id          25760 non-null  int64 \n",
      " 7   user_type        25760 non-null  int64 \n",
      " 8   user_birth_year  25760 non-null  int64 \n",
      " 9   user_gender      25760 non-null  object\n",
      "dtypes: int64(6), object(4)\n",
      "memory usage: 2.0+ MB\n",
      "None\n"
     ]
    }
   ],
   "source": [
    "#Printing information about the ride_sharing dataset\n",
    "print(ride_sharing.info())"
   ]
  },
  {
   "cell_type": "markdown",
   "metadata": {},
   "source": [
    "It can be observed that the dataset has 10 columns 25760 rows and mixed data types. The user_type column should be categorical and nto integer."
   ]
  },
  {
   "cell_type": "code",
   "execution_count": 4,
   "metadata": {},
   "outputs": [
    {
     "name": "stdout",
     "output_type": "stream",
     "text": [
      "count    25760.000000\n",
      "mean         2.008385\n",
      "std          0.704541\n",
      "min          1.000000\n",
      "25%          2.000000\n",
      "50%          2.000000\n",
      "75%          3.000000\n",
      "max          3.000000\n",
      "Name: user_type, dtype: float64\n"
     ]
    }
   ],
   "source": [
    "#Summary statistics of the user_type column\n",
    "print(ride_sharing['user_type'].describe())"
   ]
  },
  {
   "cell_type": "markdown",
   "metadata": {},
   "source": [
    "The Summary Statistics shown above is not very informative."
   ]
  },
  {
   "cell_type": "code",
   "execution_count": 5,
   "metadata": {},
   "outputs": [
    {
     "name": "stdout",
     "output_type": "stream",
     "text": [
      "count     25760\n",
      "unique        3\n",
      "top           2\n",
      "freq      12972\n",
      "Name: user_type_cat, dtype: int64\n"
     ]
    }
   ],
   "source": [
    "#Converting the user_type column to category and storing it in a new column 'user_type_cat'\n",
    "ride_sharing['user_type_cat'] = ride_sharing['user_type'].astype('category')\n",
    "\n",
    "#Confirming the change with an assert statement. The assert statement will return nothing if the assertion is true and an error otherwise\n",
    "assert ride_sharing['user_type_cat'].dtype == 'category'\n",
    "\n",
    "print(ride_sharing['user_type_cat'].describe())"
   ]
  },
  {
   "cell_type": "markdown",
   "metadata": {},
   "source": [
    "The Summary Statistics printed now is more useful because it gives the following information:\n",
    "- there 3 unique categories\n",
    "- the most occuring categoriy is 2 and it occurs 12972 times"
   ]
  },
  {
   "cell_type": "code",
   "execution_count": 6,
   "metadata": {},
   "outputs": [
    {
     "data": {
      "text/plain": [
       "0    12 minutes\n",
       "1    24 minutes\n",
       "2     8 minutes\n",
       "3     4 minutes\n",
       "4    11 minutes\n",
       "Name: duration, dtype: object"
      ]
     },
     "execution_count": 6,
     "metadata": {},
     "output_type": "execute_result"
    }
   ],
   "source": [
    "#Looking at the 'duration' column in the dataset (first 5 rows)\n",
    "ride_sharing['duration'][0:5]"
   ]
  },
  {
   "cell_type": "markdown",
   "metadata": {},
   "source": [
    "It is observed that the duration is measured in minutes and as data scientist we would perhaps want to perform some numerical computations as finding the mean or the sum. This will not be possible because the column is saved with a string data type. In order to recode the column to a numeralcal one, the 'minutes' string needs to stripped off."
   ]
  },
  {
   "cell_type": "code",
   "execution_count": 7,
   "metadata": {},
   "outputs": [
    {
     "name": "stdout",
     "output_type": "stream",
     "text": [
      "0    12\n",
      "1    24\n",
      "2     8\n",
      "3     4\n",
      "4    11\n",
      "Name: duration_time, dtype: int64\n",
      "The average duration time is 11.39 minutes\n"
     ]
    }
   ],
   "source": [
    "#Stripping off the minutes in the duration column and saving it in a new column 'duration_trim'\n",
    "ride_sharing['duration_trim'] = ride_sharing['duration'].str.strip('minutes')\n",
    "\n",
    "#Convert the new column into one with dtype of integer \n",
    "ride_sharing['duration_time'] = ride_sharing['duration_trim'].astype('int')\n",
    "\n",
    "#Confirming the change with an assert statement\n",
    "assert ride_sharing['duration_time'].dtype == 'int'\n",
    "\n",
    "print(ride_sharing['duration_time'][0:5])\n",
    "print('The average duration time is {:.2f} minutes'.format(np.mean(ride_sharing['duration_time'])))"
   ]
  },
  {
   "cell_type": "markdown",
   "metadata": {},
   "source": [
    "##### We later received some extra data on the bicycle tire sizes, and this is stored in a list in other file. This list must be added as a colum to our dataset. The name of the file is extra.py"
   ]
  },
  {
   "cell_type": "code",
   "execution_count": 8,
   "metadata": {},
   "outputs": [
    {
     "data": {
      "text/plain": [
       "0    28\n",
       "1    26\n",
       "2    27\n",
       "3    28\n",
       "4    28\n",
       "Name: tire_sizes, dtype: int64"
      ]
     },
     "execution_count": 8,
     "metadata": {},
     "output_type": "execute_result"
    }
   ],
   "source": [
    "#Importing the file \n",
    "from extras import tire_sizes\n",
    "\n",
    "ride_sharing['tire_sizes'] = tire_sizes\n",
    "ride_sharing['tire_sizes'][0:5]"
   ]
  },
  {
   "cell_type": "code",
   "execution_count": 9,
   "metadata": {},
   "outputs": [
    {
     "name": "stdout",
     "output_type": "stream",
     "text": [
      "<class 'pandas.core.frame.DataFrame'>\n",
      "RangeIndex: 25760 entries, 0 to 25759\n",
      "Data columns (total 14 columns):\n",
      " #   Column           Non-Null Count  Dtype   \n",
      "---  ------           --------------  -----   \n",
      " 0   Unnamed: 0       25760 non-null  int64   \n",
      " 1   duration         25760 non-null  object  \n",
      " 2   station_A_id     25760 non-null  int64   \n",
      " 3   station_A_name   25760 non-null  object  \n",
      " 4   station_B_id     25760 non-null  int64   \n",
      " 5   station_B_name   25760 non-null  object  \n",
      " 6   bike_id          25760 non-null  int64   \n",
      " 7   user_type        25760 non-null  int64   \n",
      " 8   user_birth_year  25760 non-null  int64   \n",
      " 9   user_gender      25760 non-null  object  \n",
      " 10  user_type_cat    25760 non-null  category\n",
      " 11  duration_trim    25760 non-null  object  \n",
      " 12  duration_time    25760 non-null  int64   \n",
      " 13  tire_sizes       25760 non-null  int64   \n",
      "dtypes: category(1), int64(8), object(5)\n",
      "memory usage: 2.6+ MB\n",
      "None\n"
     ]
    }
   ],
   "source": [
    "#Printing information about the ride_sharing dataset\n",
    "print(ride_sharing.info())"
   ]
  },
  {
   "cell_type": "code",
   "execution_count": 10,
   "metadata": {},
   "outputs": [],
   "source": [
    "#Converting tire sizes dtype to category\n",
    "ride_sharing['tire_sizes'] = ride_sharing['tire_sizes'].astype('category')\n",
    "\n",
    "#Confirming the change with an assert statement\n",
    "assert ride_sharing['tire_sizes'].dtype == 'category'"
   ]
  },
  {
   "cell_type": "markdown",
   "metadata": {},
   "source": [
    "Bicycle tire sizes could be either 26″, 27″ or 29″ and are here correctly stored as a categorical value. In an effort to cut maintenance costs, the ride sharing provider decided to set the maximum tire size to be 27″. Let's select bicycles with tire sizes above 27 and set them to 27. But before that can be done we need to convert the data type of the tire sizes column to integer"
   ]
  },
  {
   "cell_type": "code",
   "execution_count": 11,
   "metadata": {},
   "outputs": [
    {
     "name": "stdout",
     "output_type": "stream",
     "text": [
      "Empty DataFrame\n",
      "Columns: [Unnamed: 0, duration, station_A_id, station_A_name, station_B_id, station_B_name, bike_id, user_type, user_birth_year, user_gender, user_type_cat, duration_trim, duration_time, tire_sizes]\n",
      "Index: []\n"
     ]
    }
   ],
   "source": [
    "# Converting tire_sizes to integer\n",
    "ride_sharing['tire_sizes'] = ride_sharing['tire_sizes'].astype('int')\n",
    "\n",
    "# Set all values above 27 to 27\n",
    "ride_sharing.loc[ride_sharing['tire_sizes'] > 27, 'tire_sizes'] = 27\n",
    "print(ride_sharing[ride_sharing['tire_sizes'] > 27])"
   ]
  },
  {
   "cell_type": "code",
   "execution_count": 12,
   "metadata": {},
   "outputs": [
    {
     "name": "stdout",
     "output_type": "stream",
     "text": [
      "count     25760\n",
      "unique        2\n",
      "top          27\n",
      "freq      19365\n",
      "Name: tire_sizes, dtype: int64\n",
      "The different tire sizes present are [27, 26]\n",
      "Categories (2, int64): [27, 26]\n"
     ]
    }
   ],
   "source": [
    "# Reconverting tire_sizes back to categorical\n",
    "ride_sharing['tire_sizes'] = ride_sharing['tire_sizes'].astype('category')\n",
    "\n",
    "# Print tire size description\n",
    "print(ride_sharing['tire_sizes'].describe())\n",
    "\n",
    "print('The different tire sizes present are {}'.format(ride_sharing['tire_sizes'].unique()))"
   ]
  },
  {
   "cell_type": "markdown",
   "metadata": {},
   "source": [
    "##### The extras file has again been updated with the date and time information for each ride. It is required that this new information is incorporated in the dataset as a new column.  The dates were randomly generated for the sake of learning. The code for generating the random dates is in the next cell"
   ]
  },
  {
   "cell_type": "code",
   "execution_count": 13,
   "metadata": {},
   "outputs": [],
   "source": [
    "import random\n",
    "from datetime import datetime, timedelta\n",
    "\n",
    "random.seed(10)\n",
    "min_year=2017\n",
    "max_year=datetime.now().year\n",
    "\n",
    "start = datetime(min_year, 1, 1, 00, 00, 00)\n",
    "years = max_year - min_year+2\n",
    "end = start + timedelta(days=365 * years)\n",
    "\n",
    "dates_list = []\n",
    "for i in range(25760):\n",
    "    random_date = start + (end - start) * random.random()\n",
    "    dates_list.append(random_date)\n",
    "    \n",
    "date_strings = []\n",
    "for date in dates_list:\n",
    "    date_string = date.strftime('%m-%d-%Y')\n",
    "    date_strings.append(date_string)"
   ]
  },
  {
   "cell_type": "code",
   "execution_count": 14,
   "metadata": {},
   "outputs": [
    {
     "data": {
      "text/html": [
       "<div>\n",
       "<style scoped>\n",
       "    .dataframe tbody tr th:only-of-type {\n",
       "        vertical-align: middle;\n",
       "    }\n",
       "\n",
       "    .dataframe tbody tr th {\n",
       "        vertical-align: top;\n",
       "    }\n",
       "\n",
       "    .dataframe thead th {\n",
       "        text-align: right;\n",
       "    }\n",
       "</style>\n",
       "<table border=\"1\" class=\"dataframe\">\n",
       "  <thead>\n",
       "    <tr style=\"text-align: right;\">\n",
       "      <th></th>\n",
       "      <th>Unnamed: 0</th>\n",
       "      <th>duration</th>\n",
       "      <th>station_A_id</th>\n",
       "      <th>station_A_name</th>\n",
       "      <th>station_B_id</th>\n",
       "      <th>station_B_name</th>\n",
       "      <th>bike_id</th>\n",
       "      <th>user_type</th>\n",
       "      <th>user_birth_year</th>\n",
       "      <th>user_gender</th>\n",
       "      <th>user_type_cat</th>\n",
       "      <th>duration_trim</th>\n",
       "      <th>duration_time</th>\n",
       "      <th>tire_sizes</th>\n",
       "      <th>ride_date</th>\n",
       "    </tr>\n",
       "  </thead>\n",
       "  <tbody>\n",
       "    <tr>\n",
       "      <th>0</th>\n",
       "      <td>0</td>\n",
       "      <td>12 minutes</td>\n",
       "      <td>81</td>\n",
       "      <td>Berry St at 4th St</td>\n",
       "      <td>323</td>\n",
       "      <td>Broadway at Kearny</td>\n",
       "      <td>5480</td>\n",
       "      <td>2</td>\n",
       "      <td>1959</td>\n",
       "      <td>Male</td>\n",
       "      <td>2</td>\n",
       "      <td>12</td>\n",
       "      <td>12</td>\n",
       "      <td>27</td>\n",
       "      <td>06-05-2020</td>\n",
       "    </tr>\n",
       "    <tr>\n",
       "      <th>1</th>\n",
       "      <td>1</td>\n",
       "      <td>24 minutes</td>\n",
       "      <td>3</td>\n",
       "      <td>Powell St BART Station (Market St at 4th St)</td>\n",
       "      <td>118</td>\n",
       "      <td>Eureka Valley Recreation Center</td>\n",
       "      <td>5193</td>\n",
       "      <td>2</td>\n",
       "      <td>1965</td>\n",
       "      <td>Male</td>\n",
       "      <td>2</td>\n",
       "      <td>24</td>\n",
       "      <td>24</td>\n",
       "      <td>26</td>\n",
       "      <td>07-29-2019</td>\n",
       "    </tr>\n",
       "    <tr>\n",
       "      <th>2</th>\n",
       "      <td>2</td>\n",
       "      <td>8 minutes</td>\n",
       "      <td>67</td>\n",
       "      <td>San Francisco Caltrain Station 2  (Townsend St...</td>\n",
       "      <td>23</td>\n",
       "      <td>The Embarcadero at Steuart St</td>\n",
       "      <td>3652</td>\n",
       "      <td>3</td>\n",
       "      <td>1993</td>\n",
       "      <td>Male</td>\n",
       "      <td>3</td>\n",
       "      <td>8</td>\n",
       "      <td>8</td>\n",
       "      <td>27</td>\n",
       "      <td>06-20-2020</td>\n",
       "    </tr>\n",
       "    <tr>\n",
       "      <th>3</th>\n",
       "      <td>3</td>\n",
       "      <td>4 minutes</td>\n",
       "      <td>16</td>\n",
       "      <td>Steuart St at Market St</td>\n",
       "      <td>28</td>\n",
       "      <td>The Embarcadero at Bryant St</td>\n",
       "      <td>1883</td>\n",
       "      <td>1</td>\n",
       "      <td>1979</td>\n",
       "      <td>Male</td>\n",
       "      <td>1</td>\n",
       "      <td>4</td>\n",
       "      <td>4</td>\n",
       "      <td>27</td>\n",
       "      <td>03-28-2018</td>\n",
       "    </tr>\n",
       "  </tbody>\n",
       "</table>\n",
       "</div>"
      ],
      "text/plain": [
       "   Unnamed: 0    duration  station_A_id  \\\n",
       "0           0  12 minutes            81   \n",
       "1           1  24 minutes             3   \n",
       "2           2   8 minutes            67   \n",
       "3           3   4 minutes            16   \n",
       "\n",
       "                                      station_A_name  station_B_id  \\\n",
       "0                                 Berry St at 4th St           323   \n",
       "1       Powell St BART Station (Market St at 4th St)           118   \n",
       "2  San Francisco Caltrain Station 2  (Townsend St...            23   \n",
       "3                            Steuart St at Market St            28   \n",
       "\n",
       "                    station_B_name  bike_id  user_type  user_birth_year  \\\n",
       "0               Broadway at Kearny     5480          2             1959   \n",
       "1  Eureka Valley Recreation Center     5193          2             1965   \n",
       "2    The Embarcadero at Steuart St     3652          3             1993   \n",
       "3     The Embarcadero at Bryant St     1883          1             1979   \n",
       "\n",
       "  user_gender user_type_cat duration_trim  duration_time tire_sizes  \\\n",
       "0        Male             2           12              12         27   \n",
       "1        Male             2           24              24         26   \n",
       "2        Male             3            8               8         27   \n",
       "3        Male             1            4               4         27   \n",
       "\n",
       "    ride_date  \n",
       "0  06-05-2020  \n",
       "1  07-29-2019  \n",
       "2  06-20-2020  \n",
       "3  03-28-2018  "
      ]
     },
     "execution_count": 14,
     "metadata": {},
     "output_type": "execute_result"
    }
   ],
   "source": [
    "#Saving the date time information in a column called 'ride_date'\n",
    "ride_sharing['ride_date'] = date_strings\n",
    "ride_sharing.head(4)"
   ]
  },
  {
   "cell_type": "markdown",
   "metadata": {},
   "source": [
    "A bug was discovered where all rides taken today were recorded as taken next year. To remedy this we will go through the new column, select all dates in the future and set them to today."
   ]
  },
  {
   "cell_type": "code",
   "execution_count": 15,
   "metadata": {},
   "outputs": [
    {
     "name": "stdout",
     "output_type": "stream",
     "text": [
      "2021-03-26 15:43:24.435862\n",
      "2021-03-26 15:43:24.435862\n"
     ]
    }
   ],
   "source": [
    "import datetime as dt\n",
    "# Convert ride_date to datetime\n",
    "ride_sharing['ride_date'] = pd.to_datetime(ride_sharing['ride_date'])\n",
    "\n",
    "# Save today's date\n",
    "today = pd.Timestamp('today')\n",
    "\n",
    "# Set all in the future to today's date\n",
    "ride_sharing.loc[ride_sharing['ride_date'] > today, 'ride_date'] = today\n",
    "\n",
    "# Print maximum of ride_dt column\n",
    "print(ride_sharing['ride_date'].max())\n",
    "print(today)"
   ]
  },
  {
   "cell_type": "code",
   "execution_count": 16,
   "metadata": {},
   "outputs": [
    {
     "data": {
      "text/html": [
       "<div>\n",
       "<style scoped>\n",
       "    .dataframe tbody tr th:only-of-type {\n",
       "        vertical-align: middle;\n",
       "    }\n",
       "\n",
       "    .dataframe tbody tr th {\n",
       "        vertical-align: top;\n",
       "    }\n",
       "\n",
       "    .dataframe thead th {\n",
       "        text-align: right;\n",
       "    }\n",
       "</style>\n",
       "<table border=\"1\" class=\"dataframe\">\n",
       "  <thead>\n",
       "    <tr style=\"text-align: right;\">\n",
       "      <th></th>\n",
       "      <th>Unnamed: 0</th>\n",
       "      <th>duration</th>\n",
       "      <th>station_A_id</th>\n",
       "      <th>station_A_name</th>\n",
       "      <th>station_B_id</th>\n",
       "      <th>station_B_name</th>\n",
       "      <th>bike_id</th>\n",
       "      <th>user_type</th>\n",
       "      <th>user_birth_year</th>\n",
       "      <th>user_gender</th>\n",
       "      <th>user_type_cat</th>\n",
       "      <th>duration_trim</th>\n",
       "      <th>duration_time</th>\n",
       "      <th>tire_sizes</th>\n",
       "      <th>ride_date</th>\n",
       "    </tr>\n",
       "  </thead>\n",
       "  <tbody>\n",
       "    <tr>\n",
       "      <th>0</th>\n",
       "      <td>0</td>\n",
       "      <td>12 minutes</td>\n",
       "      <td>81</td>\n",
       "      <td>Berry St at 4th St</td>\n",
       "      <td>323</td>\n",
       "      <td>Broadway at Kearny</td>\n",
       "      <td>5480</td>\n",
       "      <td>2</td>\n",
       "      <td>1959</td>\n",
       "      <td>Male</td>\n",
       "      <td>2</td>\n",
       "      <td>12</td>\n",
       "      <td>12</td>\n",
       "      <td>27</td>\n",
       "      <td>2020-06-05</td>\n",
       "    </tr>\n",
       "    <tr>\n",
       "      <th>1</th>\n",
       "      <td>1</td>\n",
       "      <td>24 minutes</td>\n",
       "      <td>3</td>\n",
       "      <td>Powell St BART Station (Market St at 4th St)</td>\n",
       "      <td>118</td>\n",
       "      <td>Eureka Valley Recreation Center</td>\n",
       "      <td>5193</td>\n",
       "      <td>2</td>\n",
       "      <td>1965</td>\n",
       "      <td>Male</td>\n",
       "      <td>2</td>\n",
       "      <td>24</td>\n",
       "      <td>24</td>\n",
       "      <td>26</td>\n",
       "      <td>2019-07-29</td>\n",
       "    </tr>\n",
       "    <tr>\n",
       "      <th>2</th>\n",
       "      <td>2</td>\n",
       "      <td>8 minutes</td>\n",
       "      <td>67</td>\n",
       "      <td>San Francisco Caltrain Station 2  (Townsend St...</td>\n",
       "      <td>23</td>\n",
       "      <td>The Embarcadero at Steuart St</td>\n",
       "      <td>3652</td>\n",
       "      <td>3</td>\n",
       "      <td>1993</td>\n",
       "      <td>Male</td>\n",
       "      <td>3</td>\n",
       "      <td>8</td>\n",
       "      <td>8</td>\n",
       "      <td>27</td>\n",
       "      <td>2020-06-20</td>\n",
       "    </tr>\n",
       "  </tbody>\n",
       "</table>\n",
       "</div>"
      ],
      "text/plain": [
       "   Unnamed: 0    duration  station_A_id  \\\n",
       "0           0  12 minutes            81   \n",
       "1           1  24 minutes             3   \n",
       "2           2   8 minutes            67   \n",
       "\n",
       "                                      station_A_name  station_B_id  \\\n",
       "0                                 Berry St at 4th St           323   \n",
       "1       Powell St BART Station (Market St at 4th St)           118   \n",
       "2  San Francisco Caltrain Station 2  (Townsend St...            23   \n",
       "\n",
       "                    station_B_name  bike_id  user_type  user_birth_year  \\\n",
       "0               Broadway at Kearny     5480          2             1959   \n",
       "1  Eureka Valley Recreation Center     5193          2             1965   \n",
       "2    The Embarcadero at Steuart St     3652          3             1993   \n",
       "\n",
       "  user_gender user_type_cat duration_trim  duration_time tire_sizes  ride_date  \n",
       "0        Male             2           12              12         27 2020-06-05  \n",
       "1        Male             2           24              24         26 2019-07-29  \n",
       "2        Male             3            8               8         27 2020-06-20  "
      ]
     },
     "execution_count": 16,
     "metadata": {},
     "output_type": "execute_result"
    }
   ],
   "source": [
    "ride_sharing.head(3)"
   ]
  },
  {
   "cell_type": "markdown",
   "metadata": {},
   "source": [
    "As can be seen there are columns that are no longer needed in the dataset. We have to drop them."
   ]
  },
  {
   "cell_type": "code",
   "execution_count": 17,
   "metadata": {},
   "outputs": [],
   "source": [
    "#Dropping the unnecessary columns\n",
    "cols_to_go = ['Unnamed: 0', 'user_type', 'duration_trim']\n",
    "ride_sharing.drop(cols_to_go, axis = 1, inplace = True)"
   ]
  },
  {
   "cell_type": "code",
   "execution_count": 18,
   "metadata": {},
   "outputs": [
    {
     "data": {
      "text/html": [
       "<div>\n",
       "<style scoped>\n",
       "    .dataframe tbody tr th:only-of-type {\n",
       "        vertical-align: middle;\n",
       "    }\n",
       "\n",
       "    .dataframe tbody tr th {\n",
       "        vertical-align: top;\n",
       "    }\n",
       "\n",
       "    .dataframe thead th {\n",
       "        text-align: right;\n",
       "    }\n",
       "</style>\n",
       "<table border=\"1\" class=\"dataframe\">\n",
       "  <thead>\n",
       "    <tr style=\"text-align: right;\">\n",
       "      <th></th>\n",
       "      <th>duration</th>\n",
       "      <th>station_A_id</th>\n",
       "      <th>station_A_name</th>\n",
       "      <th>station_B_id</th>\n",
       "      <th>station_B_name</th>\n",
       "      <th>bike_id</th>\n",
       "      <th>user_birth_year</th>\n",
       "      <th>user_gender</th>\n",
       "      <th>user_type_cat</th>\n",
       "      <th>duration_time</th>\n",
       "      <th>tire_sizes</th>\n",
       "      <th>ride_date</th>\n",
       "    </tr>\n",
       "  </thead>\n",
       "  <tbody>\n",
       "    <tr>\n",
       "      <th>0</th>\n",
       "      <td>12 minutes</td>\n",
       "      <td>81</td>\n",
       "      <td>Berry St at 4th St</td>\n",
       "      <td>323</td>\n",
       "      <td>Broadway at Kearny</td>\n",
       "      <td>5480</td>\n",
       "      <td>1959</td>\n",
       "      <td>Male</td>\n",
       "      <td>2</td>\n",
       "      <td>12</td>\n",
       "      <td>27</td>\n",
       "      <td>2020-06-05</td>\n",
       "    </tr>\n",
       "    <tr>\n",
       "      <th>1</th>\n",
       "      <td>24 minutes</td>\n",
       "      <td>3</td>\n",
       "      <td>Powell St BART Station (Market St at 4th St)</td>\n",
       "      <td>118</td>\n",
       "      <td>Eureka Valley Recreation Center</td>\n",
       "      <td>5193</td>\n",
       "      <td>1965</td>\n",
       "      <td>Male</td>\n",
       "      <td>2</td>\n",
       "      <td>24</td>\n",
       "      <td>26</td>\n",
       "      <td>2019-07-29</td>\n",
       "    </tr>\n",
       "    <tr>\n",
       "      <th>2</th>\n",
       "      <td>8 minutes</td>\n",
       "      <td>67</td>\n",
       "      <td>San Francisco Caltrain Station 2  (Townsend St...</td>\n",
       "      <td>23</td>\n",
       "      <td>The Embarcadero at Steuart St</td>\n",
       "      <td>3652</td>\n",
       "      <td>1993</td>\n",
       "      <td>Male</td>\n",
       "      <td>3</td>\n",
       "      <td>8</td>\n",
       "      <td>27</td>\n",
       "      <td>2020-06-20</td>\n",
       "    </tr>\n",
       "  </tbody>\n",
       "</table>\n",
       "</div>"
      ],
      "text/plain": [
       "     duration  station_A_id  \\\n",
       "0  12 minutes            81   \n",
       "1  24 minutes             3   \n",
       "2   8 minutes            67   \n",
       "\n",
       "                                      station_A_name  station_B_id  \\\n",
       "0                                 Berry St at 4th St           323   \n",
       "1       Powell St BART Station (Market St at 4th St)           118   \n",
       "2  San Francisco Caltrain Station 2  (Townsend St...            23   \n",
       "\n",
       "                    station_B_name  bike_id  user_birth_year user_gender  \\\n",
       "0               Broadway at Kearny     5480             1959        Male   \n",
       "1  Eureka Valley Recreation Center     5193             1965        Male   \n",
       "2    The Embarcadero at Steuart St     3652             1993        Male   \n",
       "\n",
       "  user_type_cat  duration_time tire_sizes  ride_date  \n",
       "0             2             12         27 2020-06-05  \n",
       "1             2             24         26 2019-07-29  \n",
       "2             3              8         27 2020-06-20  "
      ]
     },
     "execution_count": 18,
     "metadata": {},
     "output_type": "execute_result"
    }
   ],
   "source": [
    "#ride_sharing['user_type'] = ride_sharing['user_type_cat']\n",
    "ride_sharing.head(3)"
   ]
  },
  {
   "cell_type": "markdown",
   "metadata": {},
   "source": [
    "The client asked for analysis to be done only on 78 users and also provided ride ids with updated user birth years, duration time. The ride ids and the updated user birth years have been provided in the extras file."
   ]
  },
  {
   "cell_type": "code",
   "execution_count": 19,
   "metadata": {},
   "outputs": [
    {
     "name": "stdout",
     "output_type": "stream",
     "text": [
      "<class 'pandas.core.frame.DataFrame'>\n",
      "RangeIndex: 78 entries, 0 to 77\n",
      "Data columns (total 12 columns):\n",
      " #   Column           Non-Null Count  Dtype         \n",
      "---  ------           --------------  -----         \n",
      " 0   duration         78 non-null     object        \n",
      " 1   station_A_id     78 non-null     int64         \n",
      " 2   station_A_name   78 non-null     object        \n",
      " 3   station_B_id     78 non-null     int64         \n",
      " 4   station_B_name   78 non-null     object        \n",
      " 5   bike_id          78 non-null     int64         \n",
      " 6   user_birth_year  78 non-null     int64         \n",
      " 7   user_gender      78 non-null     object        \n",
      " 8   user_type_cat    78 non-null     category      \n",
      " 9   duration_time    78 non-null     int64         \n",
      " 10  tire_sizes       78 non-null     category      \n",
      " 11  ride_date        78 non-null     datetime64[ns]\n",
      "dtypes: category(2), datetime64[ns](1), int64(5), object(4)\n",
      "memory usage: 6.6+ KB\n"
     ]
    }
   ],
   "source": [
    "#Selecting 78 the first 78 rows\n",
    "ride_sharing_sub = ride_sharing.loc[0:77, :].copy()\n",
    "ride_sharing_sub.info()"
   ]
  },
  {
   "cell_type": "code",
   "execution_count": 20,
   "metadata": {},
   "outputs": [
    {
     "data": {
      "text/html": [
       "<div>\n",
       "<style scoped>\n",
       "    .dataframe tbody tr th:only-of-type {\n",
       "        vertical-align: middle;\n",
       "    }\n",
       "\n",
       "    .dataframe tbody tr th {\n",
       "        vertical-align: top;\n",
       "    }\n",
       "\n",
       "    .dataframe thead th {\n",
       "        text-align: right;\n",
       "    }\n",
       "</style>\n",
       "<table border=\"1\" class=\"dataframe\">\n",
       "  <thead>\n",
       "    <tr style=\"text-align: right;\">\n",
       "      <th></th>\n",
       "      <th>duration</th>\n",
       "      <th>station_A_id</th>\n",
       "      <th>station_A_name</th>\n",
       "      <th>station_B_id</th>\n",
       "      <th>station_B_name</th>\n",
       "      <th>bike_id</th>\n",
       "      <th>user_birth_year</th>\n",
       "      <th>user_gender</th>\n",
       "      <th>user_type_cat</th>\n",
       "      <th>duration_time</th>\n",
       "      <th>tire_sizes</th>\n",
       "      <th>ride_date</th>\n",
       "    </tr>\n",
       "  </thead>\n",
       "  <tbody>\n",
       "    <tr>\n",
       "      <th>0</th>\n",
       "      <td>12 minutes</td>\n",
       "      <td>81</td>\n",
       "      <td>Berry St at 4th St</td>\n",
       "      <td>323</td>\n",
       "      <td>Broadway at Kearny</td>\n",
       "      <td>5480</td>\n",
       "      <td>1959</td>\n",
       "      <td>Male</td>\n",
       "      <td>2</td>\n",
       "      <td>12</td>\n",
       "      <td>27</td>\n",
       "      <td>2020-06-05</td>\n",
       "    </tr>\n",
       "    <tr>\n",
       "      <th>1</th>\n",
       "      <td>24 minutes</td>\n",
       "      <td>3</td>\n",
       "      <td>Powell St BART Station (Market St at 4th St)</td>\n",
       "      <td>118</td>\n",
       "      <td>Eureka Valley Recreation Center</td>\n",
       "      <td>5193</td>\n",
       "      <td>1965</td>\n",
       "      <td>Male</td>\n",
       "      <td>2</td>\n",
       "      <td>24</td>\n",
       "      <td>26</td>\n",
       "      <td>2019-07-29</td>\n",
       "    </tr>\n",
       "  </tbody>\n",
       "</table>\n",
       "</div>"
      ],
      "text/plain": [
       "     duration  station_A_id                                station_A_name  \\\n",
       "0  12 minutes            81                            Berry St at 4th St   \n",
       "1  24 minutes             3  Powell St BART Station (Market St at 4th St)   \n",
       "\n",
       "   station_B_id                   station_B_name  bike_id  user_birth_year  \\\n",
       "0           323               Broadway at Kearny     5480             1959   \n",
       "1           118  Eureka Valley Recreation Center     5193             1965   \n",
       "\n",
       "  user_gender user_type_cat  duration_time tire_sizes  ride_date  \n",
       "0        Male             2             12         27 2020-06-05  \n",
       "1        Male             2             24         26 2019-07-29  "
      ]
     },
     "execution_count": 20,
     "metadata": {},
     "output_type": "execute_result"
    }
   ],
   "source": [
    "ride_sharing_sub.head(2)"
   ]
  },
  {
   "cell_type": "code",
   "execution_count": 21,
   "metadata": {},
   "outputs": [],
   "source": [
    "#Dropping columns that have been updated so that we can insert the updates as new columns\n",
    "cols_to_del = ['user_birth_year', 'duration_time', 'duration']\n",
    "ride_sharing_sub.drop(cols_to_del, axis = 1, inplace = True)"
   ]
  },
  {
   "cell_type": "code",
   "execution_count": 22,
   "metadata": {},
   "outputs": [
    {
     "data": {
      "text/html": [
       "<div>\n",
       "<style scoped>\n",
       "    .dataframe tbody tr th:only-of-type {\n",
       "        vertical-align: middle;\n",
       "    }\n",
       "\n",
       "    .dataframe tbody tr th {\n",
       "        vertical-align: top;\n",
       "    }\n",
       "\n",
       "    .dataframe thead th {\n",
       "        text-align: right;\n",
       "    }\n",
       "</style>\n",
       "<table border=\"1\" class=\"dataframe\">\n",
       "  <thead>\n",
       "    <tr style=\"text-align: right;\">\n",
       "      <th></th>\n",
       "      <th>station_A_id</th>\n",
       "      <th>station_A_name</th>\n",
       "      <th>station_B_id</th>\n",
       "      <th>station_B_name</th>\n",
       "      <th>bike_id</th>\n",
       "      <th>user_gender</th>\n",
       "      <th>user_type_cat</th>\n",
       "      <th>tire_sizes</th>\n",
       "      <th>ride_date</th>\n",
       "    </tr>\n",
       "  </thead>\n",
       "  <tbody>\n",
       "    <tr>\n",
       "      <th>0</th>\n",
       "      <td>81</td>\n",
       "      <td>Berry St at 4th St</td>\n",
       "      <td>323</td>\n",
       "      <td>Broadway at Kearny</td>\n",
       "      <td>5480</td>\n",
       "      <td>Male</td>\n",
       "      <td>2</td>\n",
       "      <td>27</td>\n",
       "      <td>2020-06-05</td>\n",
       "    </tr>\n",
       "    <tr>\n",
       "      <th>1</th>\n",
       "      <td>3</td>\n",
       "      <td>Powell St BART Station (Market St at 4th St)</td>\n",
       "      <td>118</td>\n",
       "      <td>Eureka Valley Recreation Center</td>\n",
       "      <td>5193</td>\n",
       "      <td>Male</td>\n",
       "      <td>2</td>\n",
       "      <td>26</td>\n",
       "      <td>2019-07-29</td>\n",
       "    </tr>\n",
       "    <tr>\n",
       "      <th>2</th>\n",
       "      <td>67</td>\n",
       "      <td>San Francisco Caltrain Station 2  (Townsend St...</td>\n",
       "      <td>23</td>\n",
       "      <td>The Embarcadero at Steuart St</td>\n",
       "      <td>3652</td>\n",
       "      <td>Male</td>\n",
       "      <td>3</td>\n",
       "      <td>27</td>\n",
       "      <td>2020-06-20</td>\n",
       "    </tr>\n",
       "  </tbody>\n",
       "</table>\n",
       "</div>"
      ],
      "text/plain": [
       "   station_A_id                                     station_A_name  \\\n",
       "0            81                                 Berry St at 4th St   \n",
       "1             3       Powell St BART Station (Market St at 4th St)   \n",
       "2            67  San Francisco Caltrain Station 2  (Townsend St...   \n",
       "\n",
       "   station_B_id                   station_B_name  bike_id user_gender  \\\n",
       "0           323               Broadway at Kearny     5480        Male   \n",
       "1           118  Eureka Valley Recreation Center     5193        Male   \n",
       "2            23    The Embarcadero at Steuart St     3652        Male   \n",
       "\n",
       "  user_type_cat tire_sizes  ride_date  \n",
       "0             2         27 2020-06-05  \n",
       "1             2         26 2019-07-29  \n",
       "2             3         27 2020-06-20  "
      ]
     },
     "execution_count": 22,
     "metadata": {},
     "output_type": "execute_result"
    }
   ],
   "source": [
    "ride_sharing_sub.head(3)"
   ]
  },
  {
   "cell_type": "code",
   "execution_count": 23,
   "metadata": {},
   "outputs": [
    {
     "data": {
      "text/plain": [
       "Index(['station_A_id', 'station_A_name', 'station_B_id', 'station_B_name',\n",
       "       'bike_id', 'user_gender', 'user_type_cat', 'tire_sizes', 'ride_date'],\n",
       "      dtype='object')"
      ]
     },
     "execution_count": 23,
     "metadata": {},
     "output_type": "execute_result"
    }
   ],
   "source": [
    "ride_sharing_sub.columns"
   ]
  },
  {
   "cell_type": "code",
   "execution_count": 24,
   "metadata": {},
   "outputs": [],
   "source": [
    "#importing the updates from the extras file\n",
    "from extras import ids, duration, birth_year \n",
    "\n",
    "#Inserting the new ids as a column into the dataset in location 0\n",
    "ride_sharing_sub.insert(loc = 0, column = 'ride_id', value = ids)\n",
    "\n",
    "#Updating the duration time with the new values \n",
    "ride_sharing_sub.insert(loc = 8, column = 'duration', value = duration)\n",
    "\n",
    "#Updating the user birth years with the updated birth years\n",
    "ride_sharing_sub.insert(loc = 7, column = 'user_birth_year', value = birth_year)"
   ]
  },
  {
   "cell_type": "code",
   "execution_count": 25,
   "metadata": {},
   "outputs": [
    {
     "data": {
      "text/html": [
       "<div>\n",
       "<style scoped>\n",
       "    .dataframe tbody tr th:only-of-type {\n",
       "        vertical-align: middle;\n",
       "    }\n",
       "\n",
       "    .dataframe tbody tr th {\n",
       "        vertical-align: top;\n",
       "    }\n",
       "\n",
       "    .dataframe thead th {\n",
       "        text-align: right;\n",
       "    }\n",
       "</style>\n",
       "<table border=\"1\" class=\"dataframe\">\n",
       "  <thead>\n",
       "    <tr style=\"text-align: right;\">\n",
       "      <th></th>\n",
       "      <th>ride_id</th>\n",
       "      <th>station_A_id</th>\n",
       "      <th>station_A_name</th>\n",
       "      <th>station_B_id</th>\n",
       "      <th>station_B_name</th>\n",
       "      <th>bike_id</th>\n",
       "      <th>user_gender</th>\n",
       "      <th>user_birth_year</th>\n",
       "      <th>user_type_cat</th>\n",
       "      <th>duration</th>\n",
       "      <th>tire_sizes</th>\n",
       "      <th>ride_date</th>\n",
       "    </tr>\n",
       "  </thead>\n",
       "  <tbody>\n",
       "    <tr>\n",
       "      <th>0</th>\n",
       "      <td>0</td>\n",
       "      <td>81</td>\n",
       "      <td>Berry St at 4th St</td>\n",
       "      <td>323</td>\n",
       "      <td>Broadway at Kearny</td>\n",
       "      <td>5480</td>\n",
       "      <td>Male</td>\n",
       "      <td>1988</td>\n",
       "      <td>2</td>\n",
       "      <td>11</td>\n",
       "      <td>27</td>\n",
       "      <td>2020-06-05</td>\n",
       "    </tr>\n",
       "    <tr>\n",
       "      <th>1</th>\n",
       "      <td>1</td>\n",
       "      <td>3</td>\n",
       "      <td>Powell St BART Station (Market St at 4th St)</td>\n",
       "      <td>118</td>\n",
       "      <td>Eureka Valley Recreation Center</td>\n",
       "      <td>5193</td>\n",
       "      <td>Male</td>\n",
       "      <td>1988</td>\n",
       "      <td>2</td>\n",
       "      <td>8</td>\n",
       "      <td>26</td>\n",
       "      <td>2019-07-29</td>\n",
       "    </tr>\n",
       "  </tbody>\n",
       "</table>\n",
       "</div>"
      ],
      "text/plain": [
       "   ride_id  station_A_id                                station_A_name  \\\n",
       "0        0            81                            Berry St at 4th St   \n",
       "1        1             3  Powell St BART Station (Market St at 4th St)   \n",
       "\n",
       "   station_B_id                   station_B_name  bike_id user_gender  \\\n",
       "0           323               Broadway at Kearny     5480        Male   \n",
       "1           118  Eureka Valley Recreation Center     5193        Male   \n",
       "\n",
       "   user_birth_year user_type_cat  duration tire_sizes  ride_date  \n",
       "0             1988             2        11         27 2020-06-05  \n",
       "1             1988             2         8         26 2019-07-29  "
      ]
     },
     "execution_count": 25,
     "metadata": {},
     "output_type": "execute_result"
    }
   ],
   "source": [
    "ride_sharing_sub.head(2)"
   ]
  },
  {
   "cell_type": "markdown",
   "metadata": {},
   "source": [
    "The updates provided by the file however coincided with radically shorter average ride duration times and irregular user birth dates set in the future. Most importantly, the number of rides taken has increased by 20% overnight, leading you to think there might be both complete and incomplete duplicates in the ride_sharing DataFrame."
   ]
  },
  {
   "cell_type": "code",
   "execution_count": 26,
   "metadata": {},
   "outputs": [
    {
     "name": "stdout",
     "output_type": "stream",
     "text": [
      "0     False\n",
      "1     False\n",
      "2     False\n",
      "3     False\n",
      "4     False\n",
      "      ...  \n",
      "73    False\n",
      "74     True\n",
      "75     True\n",
      "76     True\n",
      "77     True\n",
      "Length: 78, dtype: bool\n"
     ]
    }
   ],
   "source": [
    "# Find duplicates\n",
    "duplicates = ride_sharing_sub.duplicated(subset = 'ride_id', keep = False)\n",
    "print(duplicates)"
   ]
  },
  {
   "cell_type": "code",
   "execution_count": 27,
   "metadata": {},
   "outputs": [
    {
     "data": {
      "text/html": [
       "<div>\n",
       "<style scoped>\n",
       "    .dataframe tbody tr th:only-of-type {\n",
       "        vertical-align: middle;\n",
       "    }\n",
       "\n",
       "    .dataframe tbody tr th {\n",
       "        vertical-align: top;\n",
       "    }\n",
       "\n",
       "    .dataframe thead th {\n",
       "        text-align: right;\n",
       "    }\n",
       "</style>\n",
       "<table border=\"1\" class=\"dataframe\">\n",
       "  <thead>\n",
       "    <tr style=\"text-align: right;\">\n",
       "      <th></th>\n",
       "      <th>ride_id</th>\n",
       "      <th>station_A_id</th>\n",
       "      <th>station_A_name</th>\n",
       "      <th>station_B_id</th>\n",
       "      <th>station_B_name</th>\n",
       "      <th>bike_id</th>\n",
       "      <th>user_gender</th>\n",
       "      <th>user_birth_year</th>\n",
       "      <th>user_type_cat</th>\n",
       "      <th>duration</th>\n",
       "      <th>tire_sizes</th>\n",
       "      <th>ride_date</th>\n",
       "    </tr>\n",
       "  </thead>\n",
       "  <tbody>\n",
       "    <tr>\n",
       "      <th>22</th>\n",
       "      <td>33</td>\n",
       "      <td>5</td>\n",
       "      <td>Powell St BART Station (Market St at 5th St)</td>\n",
       "      <td>356</td>\n",
       "      <td>Valencia St at Clinton Park</td>\n",
       "      <td>2165</td>\n",
       "      <td>Male</td>\n",
       "      <td>1979</td>\n",
       "      <td>2</td>\n",
       "      <td>10</td>\n",
       "      <td>27</td>\n",
       "      <td>2017-10-19 00:00:00.000000</td>\n",
       "    </tr>\n",
       "    <tr>\n",
       "      <th>39</th>\n",
       "      <td>33</td>\n",
       "      <td>30</td>\n",
       "      <td>San Francisco Caltrain (Townsend St at 4th St)</td>\n",
       "      <td>130</td>\n",
       "      <td>22nd St Caltrain Station</td>\n",
       "      <td>5213</td>\n",
       "      <td>Male</td>\n",
       "      <td>1979</td>\n",
       "      <td>1</td>\n",
       "      <td>2</td>\n",
       "      <td>27</td>\n",
       "      <td>2021-03-26 15:43:24.435862</td>\n",
       "    </tr>\n",
       "    <tr>\n",
       "      <th>53</th>\n",
       "      <td>55</td>\n",
       "      <td>21</td>\n",
       "      <td>Montgomery St BART Station (Market St at 2nd St)</td>\n",
       "      <td>78</td>\n",
       "      <td>Folsom St at 9th St</td>\n",
       "      <td>1502</td>\n",
       "      <td>Female</td>\n",
       "      <td>1985</td>\n",
       "      <td>2</td>\n",
       "      <td>9</td>\n",
       "      <td>27</td>\n",
       "      <td>2017-09-05 00:00:00.000000</td>\n",
       "    </tr>\n",
       "    <tr>\n",
       "      <th>65</th>\n",
       "      <td>55</td>\n",
       "      <td>16</td>\n",
       "      <td>Steuart St at Market St</td>\n",
       "      <td>93</td>\n",
       "      <td>4th St at Mission Bay Blvd S</td>\n",
       "      <td>5392</td>\n",
       "      <td>Male</td>\n",
       "      <td>1985</td>\n",
       "      <td>2</td>\n",
       "      <td>9</td>\n",
       "      <td>27</td>\n",
       "      <td>2017-09-19 00:00:00.000000</td>\n",
       "    </tr>\n",
       "    <tr>\n",
       "      <th>74</th>\n",
       "      <td>71</td>\n",
       "      <td>67</td>\n",
       "      <td>San Francisco Caltrain Station 2  (Townsend St...</td>\n",
       "      <td>90</td>\n",
       "      <td>Townsend St at 7th St</td>\n",
       "      <td>1920</td>\n",
       "      <td>Male</td>\n",
       "      <td>1997</td>\n",
       "      <td>2</td>\n",
       "      <td>11</td>\n",
       "      <td>27</td>\n",
       "      <td>2017-01-11 00:00:00.000000</td>\n",
       "    </tr>\n",
       "  </tbody>\n",
       "</table>\n",
       "</div>"
      ],
      "text/plain": [
       "    ride_id  station_A_id                                     station_A_name  \\\n",
       "22       33             5       Powell St BART Station (Market St at 5th St)   \n",
       "39       33            30     San Francisco Caltrain (Townsend St at 4th St)   \n",
       "53       55            21   Montgomery St BART Station (Market St at 2nd St)   \n",
       "65       55            16                            Steuart St at Market St   \n",
       "74       71            67  San Francisco Caltrain Station 2  (Townsend St...   \n",
       "\n",
       "    station_B_id                station_B_name  bike_id user_gender  \\\n",
       "22           356   Valencia St at Clinton Park     2165        Male   \n",
       "39           130      22nd St Caltrain Station     5213        Male   \n",
       "53            78           Folsom St at 9th St     1502      Female   \n",
       "65            93  4th St at Mission Bay Blvd S     5392        Male   \n",
       "74            90         Townsend St at 7th St     1920        Male   \n",
       "\n",
       "    user_birth_year user_type_cat  duration tire_sizes  \\\n",
       "22             1979             2        10         27   \n",
       "39             1979             1         2         27   \n",
       "53             1985             2         9         27   \n",
       "65             1985             2         9         27   \n",
       "74             1997             2        11         27   \n",
       "\n",
       "                    ride_date  \n",
       "22 2017-10-19 00:00:00.000000  \n",
       "39 2021-03-26 15:43:24.435862  \n",
       "53 2017-09-05 00:00:00.000000  \n",
       "65 2017-09-19 00:00:00.000000  \n",
       "74 2017-01-11 00:00:00.000000  "
      ]
     },
     "execution_count": 27,
     "metadata": {},
     "output_type": "execute_result"
    }
   ],
   "source": [
    "# Sort your duplicated rides\n",
    "duplicated_rides = ride_sharing_sub[duplicates].sort_values(by = 'ride_id')\n",
    "duplicated_rides.head()"
   ]
  },
  {
   "cell_type": "code",
   "execution_count": 28,
   "metadata": {},
   "outputs": [
    {
     "name": "stdout",
     "output_type": "stream",
     "text": [
      "    ride_id  duration  user_birth_year\n",
      "22       33        10             1979\n",
      "39       33         2             1979\n",
      "53       55         9             1985\n",
      "65       55         9             1985\n",
      "74       71        11             1997\n",
      "75       71        11             1997\n",
      "76       89         9             1986\n",
      "77       89         9             2060\n"
     ]
    }
   ],
   "source": [
    "# Print relevant columns of duplicated_rides\n",
    "print(duplicated_rides[['ride_id','duration','user_birth_year']])"
   ]
  },
  {
   "cell_type": "code",
   "execution_count": 29,
   "metadata": {},
   "outputs": [
    {
     "data": {
      "text/html": [
       "<div>\n",
       "<style scoped>\n",
       "    .dataframe tbody tr th:only-of-type {\n",
       "        vertical-align: middle;\n",
       "    }\n",
       "\n",
       "    .dataframe tbody tr th {\n",
       "        vertical-align: top;\n",
       "    }\n",
       "\n",
       "    .dataframe thead th {\n",
       "        text-align: right;\n",
       "    }\n",
       "</style>\n",
       "<table border=\"1\" class=\"dataframe\">\n",
       "  <thead>\n",
       "    <tr style=\"text-align: right;\">\n",
       "      <th></th>\n",
       "      <th>ride_id</th>\n",
       "      <th>station_A_id</th>\n",
       "      <th>station_A_name</th>\n",
       "      <th>station_B_id</th>\n",
       "      <th>station_B_name</th>\n",
       "      <th>bike_id</th>\n",
       "      <th>user_gender</th>\n",
       "      <th>user_birth_year</th>\n",
       "      <th>user_type_cat</th>\n",
       "      <th>duration</th>\n",
       "      <th>tire_sizes</th>\n",
       "      <th>ride_date</th>\n",
       "    </tr>\n",
       "  </thead>\n",
       "  <tbody>\n",
       "    <tr>\n",
       "      <th>22</th>\n",
       "      <td>33</td>\n",
       "      <td>5</td>\n",
       "      <td>Powell St BART Station (Market St at 5th St)</td>\n",
       "      <td>356</td>\n",
       "      <td>Valencia St at Clinton Park</td>\n",
       "      <td>2165</td>\n",
       "      <td>Male</td>\n",
       "      <td>1979</td>\n",
       "      <td>2</td>\n",
       "      <td>10</td>\n",
       "      <td>27</td>\n",
       "      <td>2017-10-19 00:00:00.000000</td>\n",
       "    </tr>\n",
       "    <tr>\n",
       "      <th>39</th>\n",
       "      <td>33</td>\n",
       "      <td>30</td>\n",
       "      <td>San Francisco Caltrain (Townsend St at 4th St)</td>\n",
       "      <td>130</td>\n",
       "      <td>22nd St Caltrain Station</td>\n",
       "      <td>5213</td>\n",
       "      <td>Male</td>\n",
       "      <td>1979</td>\n",
       "      <td>1</td>\n",
       "      <td>2</td>\n",
       "      <td>27</td>\n",
       "      <td>2021-03-26 15:43:24.435862</td>\n",
       "    </tr>\n",
       "    <tr>\n",
       "      <th>53</th>\n",
       "      <td>55</td>\n",
       "      <td>21</td>\n",
       "      <td>Montgomery St BART Station (Market St at 2nd St)</td>\n",
       "      <td>78</td>\n",
       "      <td>Folsom St at 9th St</td>\n",
       "      <td>1502</td>\n",
       "      <td>Female</td>\n",
       "      <td>1985</td>\n",
       "      <td>2</td>\n",
       "      <td>9</td>\n",
       "      <td>27</td>\n",
       "      <td>2017-09-05 00:00:00.000000</td>\n",
       "    </tr>\n",
       "    <tr>\n",
       "      <th>65</th>\n",
       "      <td>55</td>\n",
       "      <td>16</td>\n",
       "      <td>Steuart St at Market St</td>\n",
       "      <td>93</td>\n",
       "      <td>4th St at Mission Bay Blvd S</td>\n",
       "      <td>5392</td>\n",
       "      <td>Male</td>\n",
       "      <td>1985</td>\n",
       "      <td>2</td>\n",
       "      <td>9</td>\n",
       "      <td>27</td>\n",
       "      <td>2017-09-19 00:00:00.000000</td>\n",
       "    </tr>\n",
       "    <tr>\n",
       "      <th>74</th>\n",
       "      <td>71</td>\n",
       "      <td>67</td>\n",
       "      <td>San Francisco Caltrain Station 2  (Townsend St...</td>\n",
       "      <td>90</td>\n",
       "      <td>Townsend St at 7th St</td>\n",
       "      <td>1920</td>\n",
       "      <td>Male</td>\n",
       "      <td>1997</td>\n",
       "      <td>2</td>\n",
       "      <td>11</td>\n",
       "      <td>27</td>\n",
       "      <td>2017-01-11 00:00:00.000000</td>\n",
       "    </tr>\n",
       "    <tr>\n",
       "      <th>75</th>\n",
       "      <td>71</td>\n",
       "      <td>21</td>\n",
       "      <td>Montgomery St BART Station (Market St at 2nd St)</td>\n",
       "      <td>58</td>\n",
       "      <td>Market St at 10th St</td>\n",
       "      <td>316</td>\n",
       "      <td>Female</td>\n",
       "      <td>1997</td>\n",
       "      <td>2</td>\n",
       "      <td>11</td>\n",
       "      <td>27</td>\n",
       "      <td>2021-03-26 15:43:24.435862</td>\n",
       "    </tr>\n",
       "    <tr>\n",
       "      <th>76</th>\n",
       "      <td>89</td>\n",
       "      <td>22</td>\n",
       "      <td>Howard St at Beale St</td>\n",
       "      <td>72</td>\n",
       "      <td>Page St at Scott St</td>\n",
       "      <td>5162</td>\n",
       "      <td>Female</td>\n",
       "      <td>1986</td>\n",
       "      <td>2</td>\n",
       "      <td>9</td>\n",
       "      <td>27</td>\n",
       "      <td>2018-12-28 00:00:00.000000</td>\n",
       "    </tr>\n",
       "    <tr>\n",
       "      <th>77</th>\n",
       "      <td>89</td>\n",
       "      <td>21</td>\n",
       "      <td>Montgomery St BART Station (Market St at 2nd St)</td>\n",
       "      <td>64</td>\n",
       "      <td>5th St at Brannan St</td>\n",
       "      <td>1299</td>\n",
       "      <td>Male</td>\n",
       "      <td>2060</td>\n",
       "      <td>2</td>\n",
       "      <td>9</td>\n",
       "      <td>27</td>\n",
       "      <td>2018-12-01 00:00:00.000000</td>\n",
       "    </tr>\n",
       "  </tbody>\n",
       "</table>\n",
       "</div>"
      ],
      "text/plain": [
       "    ride_id  station_A_id                                     station_A_name  \\\n",
       "22       33             5       Powell St BART Station (Market St at 5th St)   \n",
       "39       33            30     San Francisco Caltrain (Townsend St at 4th St)   \n",
       "53       55            21   Montgomery St BART Station (Market St at 2nd St)   \n",
       "65       55            16                            Steuart St at Market St   \n",
       "74       71            67  San Francisco Caltrain Station 2  (Townsend St...   \n",
       "75       71            21   Montgomery St BART Station (Market St at 2nd St)   \n",
       "76       89            22                              Howard St at Beale St   \n",
       "77       89            21   Montgomery St BART Station (Market St at 2nd St)   \n",
       "\n",
       "    station_B_id                station_B_name  bike_id user_gender  \\\n",
       "22           356   Valencia St at Clinton Park     2165        Male   \n",
       "39           130      22nd St Caltrain Station     5213        Male   \n",
       "53            78           Folsom St at 9th St     1502      Female   \n",
       "65            93  4th St at Mission Bay Blvd S     5392        Male   \n",
       "74            90         Townsend St at 7th St     1920        Male   \n",
       "75            58          Market St at 10th St      316      Female   \n",
       "76            72           Page St at Scott St     5162      Female   \n",
       "77            64          5th St at Brannan St     1299        Male   \n",
       "\n",
       "    user_birth_year user_type_cat  duration tire_sizes  \\\n",
       "22             1979             2        10         27   \n",
       "39             1979             1         2         27   \n",
       "53             1985             2         9         27   \n",
       "65             1985             2         9         27   \n",
       "74             1997             2        11         27   \n",
       "75             1997             2        11         27   \n",
       "76             1986             2         9         27   \n",
       "77             2060             2         9         27   \n",
       "\n",
       "                    ride_date  \n",
       "22 2017-10-19 00:00:00.000000  \n",
       "39 2021-03-26 15:43:24.435862  \n",
       "53 2017-09-05 00:00:00.000000  \n",
       "65 2017-09-19 00:00:00.000000  \n",
       "74 2017-01-11 00:00:00.000000  \n",
       "75 2021-03-26 15:43:24.435862  \n",
       "76 2018-12-28 00:00:00.000000  \n",
       "77 2018-12-01 00:00:00.000000  "
      ]
     },
     "execution_count": 29,
     "metadata": {},
     "output_type": "execute_result"
    }
   ],
   "source": [
    "# Drop complete duplicates from ride_sharing\n",
    "ride_dup = ride_sharing_sub.drop_duplicates()\n",
    "ride_dup[ride_dup.duplicated(subset = 'ride_id', keep = False)]"
   ]
  },
  {
   "cell_type": "code",
   "execution_count": 30,
   "metadata": {},
   "outputs": [
    {
     "data": {
      "text/html": [
       "<div>\n",
       "<style scoped>\n",
       "    .dataframe tbody tr th:only-of-type {\n",
       "        vertical-align: middle;\n",
       "    }\n",
       "\n",
       "    .dataframe tbody tr th {\n",
       "        vertical-align: top;\n",
       "    }\n",
       "\n",
       "    .dataframe thead th {\n",
       "        text-align: right;\n",
       "    }\n",
       "</style>\n",
       "<table border=\"1\" class=\"dataframe\">\n",
       "  <thead>\n",
       "    <tr style=\"text-align: right;\">\n",
       "      <th></th>\n",
       "      <th>ride_id</th>\n",
       "      <th>user_birth_year</th>\n",
       "      <th>duration</th>\n",
       "    </tr>\n",
       "  </thead>\n",
       "  <tbody>\n",
       "    <tr>\n",
       "      <th>0</th>\n",
       "      <td>0</td>\n",
       "      <td>1988</td>\n",
       "      <td>11</td>\n",
       "    </tr>\n",
       "    <tr>\n",
       "      <th>1</th>\n",
       "      <td>1</td>\n",
       "      <td>1988</td>\n",
       "      <td>8</td>\n",
       "    </tr>\n",
       "    <tr>\n",
       "      <th>2</th>\n",
       "      <td>2</td>\n",
       "      <td>1988</td>\n",
       "      <td>11</td>\n",
       "    </tr>\n",
       "    <tr>\n",
       "      <th>3</th>\n",
       "      <td>3</td>\n",
       "      <td>1969</td>\n",
       "      <td>7</td>\n",
       "    </tr>\n",
       "    <tr>\n",
       "      <th>4</th>\n",
       "      <td>4</td>\n",
       "      <td>1986</td>\n",
       "      <td>11</td>\n",
       "    </tr>\n",
       "    <tr>\n",
       "      <th>...</th>\n",
       "      <td>...</td>\n",
       "      <td>...</td>\n",
       "      <td>...</td>\n",
       "    </tr>\n",
       "    <tr>\n",
       "      <th>69</th>\n",
       "      <td>94</td>\n",
       "      <td>1993</td>\n",
       "      <td>25</td>\n",
       "    </tr>\n",
       "    <tr>\n",
       "      <th>70</th>\n",
       "      <td>95</td>\n",
       "      <td>1959</td>\n",
       "      <td>11</td>\n",
       "    </tr>\n",
       "    <tr>\n",
       "      <th>71</th>\n",
       "      <td>96</td>\n",
       "      <td>1991</td>\n",
       "      <td>7</td>\n",
       "    </tr>\n",
       "    <tr>\n",
       "      <th>72</th>\n",
       "      <td>98</td>\n",
       "      <td>1989</td>\n",
       "      <td>21</td>\n",
       "    </tr>\n",
       "    <tr>\n",
       "      <th>73</th>\n",
       "      <td>99</td>\n",
       "      <td>1968</td>\n",
       "      <td>15</td>\n",
       "    </tr>\n",
       "  </tbody>\n",
       "</table>\n",
       "<p>74 rows × 3 columns</p>\n",
       "</div>"
      ],
      "text/plain": [
       "    ride_id  user_birth_year  duration\n",
       "0         0             1988        11\n",
       "1         1             1988         8\n",
       "2         2             1988        11\n",
       "3         3             1969         7\n",
       "4         4             1986        11\n",
       "..      ...              ...       ...\n",
       "69       94             1993        25\n",
       "70       95             1959        11\n",
       "71       96             1991         7\n",
       "72       98             1989        21\n",
       "73       99             1968        15\n",
       "\n",
       "[74 rows x 3 columns]"
      ]
     },
     "execution_count": 30,
     "metadata": {},
     "output_type": "execute_result"
    }
   ],
   "source": [
    "# Create statistics dictionary for aggregation function\n",
    "statistics = {'user_birth_year': 'min', 'duration': 'mean'}\n",
    "\n",
    "# Group by ride_id and compute new statistics\n",
    "ride_unique = ride_dup.groupby('ride_id').agg(statistics).reset_index()\n",
    "ride_unique"
   ]
  },
  {
   "cell_type": "code",
   "execution_count": 31,
   "metadata": {},
   "outputs": [],
   "source": [
    "# Find duplicated values again\n",
    "duplicates = ride_unique.duplicated(subset = 'ride_id', keep = False)\n",
    "duplicated_rides = ride_unique[duplicates == True]\n",
    "\n",
    "# Assert duplicates are processed\n",
    "assert duplicated_rides.shape[0] == 0"
   ]
  },
  {
   "cell_type": "markdown",
   "metadata": {},
   "source": [
    "There is a user with birth year set as 2060. It was found out that his actual birth year is 1992."
   ]
  },
  {
   "cell_type": "code",
   "execution_count": 32,
   "metadata": {},
   "outputs": [],
   "source": [
    "#Setting the birth year from 2060 to 1992\n",
    "ride_sharing_sub.loc[ride_sharing_sub['user_birth_year'] == 2060, 'user_birth_year'] = 1992"
   ]
  },
  {
   "cell_type": "code",
   "execution_count": 33,
   "metadata": {},
   "outputs": [
    {
     "data": {
      "text/html": [
       "<div>\n",
       "<style scoped>\n",
       "    .dataframe tbody tr th:only-of-type {\n",
       "        vertical-align: middle;\n",
       "    }\n",
       "\n",
       "    .dataframe tbody tr th {\n",
       "        vertical-align: top;\n",
       "    }\n",
       "\n",
       "    .dataframe thead th {\n",
       "        text-align: right;\n",
       "    }\n",
       "</style>\n",
       "<table border=\"1\" class=\"dataframe\">\n",
       "  <thead>\n",
       "    <tr style=\"text-align: right;\">\n",
       "      <th></th>\n",
       "      <th>ride_id</th>\n",
       "      <th>station_A_id</th>\n",
       "      <th>station_A_name</th>\n",
       "      <th>station_B_id</th>\n",
       "      <th>station_B_name</th>\n",
       "      <th>bike_id</th>\n",
       "      <th>user_gender</th>\n",
       "      <th>user_birth_year</th>\n",
       "      <th>user_type_cat</th>\n",
       "      <th>duration</th>\n",
       "      <th>tire_sizes</th>\n",
       "      <th>ride_date</th>\n",
       "    </tr>\n",
       "  </thead>\n",
       "  <tbody>\n",
       "    <tr>\n",
       "      <th>73</th>\n",
       "      <td>99</td>\n",
       "      <td>3</td>\n",
       "      <td>Powell St BART Station (Market St at 4th St)</td>\n",
       "      <td>6</td>\n",
       "      <td>The Embarcadero at Sansome St</td>\n",
       "      <td>443</td>\n",
       "      <td>Female</td>\n",
       "      <td>1968</td>\n",
       "      <td>1</td>\n",
       "      <td>15</td>\n",
       "      <td>27</td>\n",
       "      <td>2019-08-11 00:00:00.000000</td>\n",
       "    </tr>\n",
       "    <tr>\n",
       "      <th>74</th>\n",
       "      <td>71</td>\n",
       "      <td>67</td>\n",
       "      <td>San Francisco Caltrain Station 2  (Townsend St...</td>\n",
       "      <td>90</td>\n",
       "      <td>Townsend St at 7th St</td>\n",
       "      <td>1920</td>\n",
       "      <td>Male</td>\n",
       "      <td>1997</td>\n",
       "      <td>2</td>\n",
       "      <td>11</td>\n",
       "      <td>27</td>\n",
       "      <td>2017-01-11 00:00:00.000000</td>\n",
       "    </tr>\n",
       "    <tr>\n",
       "      <th>75</th>\n",
       "      <td>71</td>\n",
       "      <td>21</td>\n",
       "      <td>Montgomery St BART Station (Market St at 2nd St)</td>\n",
       "      <td>58</td>\n",
       "      <td>Market St at 10th St</td>\n",
       "      <td>316</td>\n",
       "      <td>Female</td>\n",
       "      <td>1997</td>\n",
       "      <td>2</td>\n",
       "      <td>11</td>\n",
       "      <td>27</td>\n",
       "      <td>2021-03-26 15:43:24.435862</td>\n",
       "    </tr>\n",
       "    <tr>\n",
       "      <th>76</th>\n",
       "      <td>89</td>\n",
       "      <td>22</td>\n",
       "      <td>Howard St at Beale St</td>\n",
       "      <td>72</td>\n",
       "      <td>Page St at Scott St</td>\n",
       "      <td>5162</td>\n",
       "      <td>Female</td>\n",
       "      <td>1986</td>\n",
       "      <td>2</td>\n",
       "      <td>9</td>\n",
       "      <td>27</td>\n",
       "      <td>2018-12-28 00:00:00.000000</td>\n",
       "    </tr>\n",
       "    <tr>\n",
       "      <th>77</th>\n",
       "      <td>89</td>\n",
       "      <td>21</td>\n",
       "      <td>Montgomery St BART Station (Market St at 2nd St)</td>\n",
       "      <td>64</td>\n",
       "      <td>5th St at Brannan St</td>\n",
       "      <td>1299</td>\n",
       "      <td>Male</td>\n",
       "      <td>1992</td>\n",
       "      <td>2</td>\n",
       "      <td>9</td>\n",
       "      <td>27</td>\n",
       "      <td>2018-12-01 00:00:00.000000</td>\n",
       "    </tr>\n",
       "  </tbody>\n",
       "</table>\n",
       "</div>"
      ],
      "text/plain": [
       "    ride_id  station_A_id                                     station_A_name  \\\n",
       "73       99             3       Powell St BART Station (Market St at 4th St)   \n",
       "74       71            67  San Francisco Caltrain Station 2  (Townsend St...   \n",
       "75       71            21   Montgomery St BART Station (Market St at 2nd St)   \n",
       "76       89            22                              Howard St at Beale St   \n",
       "77       89            21   Montgomery St BART Station (Market St at 2nd St)   \n",
       "\n",
       "    station_B_id                 station_B_name  bike_id user_gender  \\\n",
       "73             6  The Embarcadero at Sansome St      443      Female   \n",
       "74            90          Townsend St at 7th St     1920        Male   \n",
       "75            58           Market St at 10th St      316      Female   \n",
       "76            72            Page St at Scott St     5162      Female   \n",
       "77            64           5th St at Brannan St     1299        Male   \n",
       "\n",
       "    user_birth_year user_type_cat  duration tire_sizes  \\\n",
       "73             1968             1        15         27   \n",
       "74             1997             2        11         27   \n",
       "75             1997             2        11         27   \n",
       "76             1986             2         9         27   \n",
       "77             1992             2         9         27   \n",
       "\n",
       "                    ride_date  \n",
       "73 2019-08-11 00:00:00.000000  \n",
       "74 2017-01-11 00:00:00.000000  \n",
       "75 2021-03-26 15:43:24.435862  \n",
       "76 2018-12-28 00:00:00.000000  \n",
       "77 2018-12-01 00:00:00.000000  "
      ]
     },
     "execution_count": 33,
     "metadata": {},
     "output_type": "execute_result"
    }
   ],
   "source": [
    "ride_sharing_sub.tail()"
   ]
  },
  {
   "cell_type": "markdown",
   "metadata": {},
   "source": [
    "The Dataset is now clean for analysis"
   ]
  },
  {
   "cell_type": "code",
   "execution_count": 83,
   "metadata": {},
   "outputs": [
    {
     "name": "stdout",
     "output_type": "stream",
     "text": [
      "The longest ride is 68 minutes long.\n"
     ]
    }
   ],
   "source": [
    "print('The longest ride is {} minutes long.'.format(ride_sharing_sub['duration'].max()))"
   ]
  },
  {
   "cell_type": "code",
   "execution_count": null,
   "metadata": {},
   "outputs": [],
   "source": []
  },
  {
   "cell_type": "code",
   "execution_count": null,
   "metadata": {},
   "outputs": [],
   "source": []
  },
  {
   "cell_type": "markdown",
   "metadata": {},
   "source": [
    "#### Analysing The Data Set for Insights\n",
    "\n",
    "Now that the dataset is clean, we can perform some analysis on it to gain some insights. Some the questions that can be asked of the data include:\n",
    "- What are the ages of the riders (The oldest and youngest riders)\n",
    "- Which stations are popular (have the most rides starting from there or ending there)\n",
    "- What age group of riders have the more rides\n",
    "- Which days of the week are the busiest ( also which months)\n",
    "- Which bikes have had more rides.\n",
    "\n",
    "All these questions can be answered and that is what I will do in the next few cells and in no particular order."
   ]
  },
  {
   "cell_type": "markdown",
   "metadata": {},
   "source": [
    "## User Ages\n",
    "The user ages can be calculated by subtracting their birth years from the current year. This can be done using a `lambda` function to create a new column called `user_age`. "
   ]
  },
  {
   "cell_type": "code",
   "execution_count": 35,
   "metadata": {},
   "outputs": [],
   "source": [
    "#Calculating user ages using a lambda (anonimous) function\n",
    "ride_sharing_sub['user_age'] = ride_sharing_sub.apply(lambda row: today.year - row['user_birth_year'], axis = 1)"
   ]
  },
  {
   "cell_type": "code",
   "execution_count": 36,
   "metadata": {},
   "outputs": [
    {
     "data": {
      "text/html": [
       "<div>\n",
       "<style scoped>\n",
       "    .dataframe tbody tr th:only-of-type {\n",
       "        vertical-align: middle;\n",
       "    }\n",
       "\n",
       "    .dataframe tbody tr th {\n",
       "        vertical-align: top;\n",
       "    }\n",
       "\n",
       "    .dataframe thead th {\n",
       "        text-align: right;\n",
       "    }\n",
       "</style>\n",
       "<table border=\"1\" class=\"dataframe\">\n",
       "  <thead>\n",
       "    <tr style=\"text-align: right;\">\n",
       "      <th></th>\n",
       "      <th>ride_id</th>\n",
       "      <th>station_A_id</th>\n",
       "      <th>station_A_name</th>\n",
       "      <th>station_B_id</th>\n",
       "      <th>station_B_name</th>\n",
       "      <th>bike_id</th>\n",
       "      <th>user_gender</th>\n",
       "      <th>user_birth_year</th>\n",
       "      <th>user_type_cat</th>\n",
       "      <th>duration</th>\n",
       "      <th>tire_sizes</th>\n",
       "      <th>ride_date</th>\n",
       "      <th>user_age</th>\n",
       "    </tr>\n",
       "  </thead>\n",
       "  <tbody>\n",
       "    <tr>\n",
       "      <th>0</th>\n",
       "      <td>0</td>\n",
       "      <td>81</td>\n",
       "      <td>Berry St at 4th St</td>\n",
       "      <td>323</td>\n",
       "      <td>Broadway at Kearny</td>\n",
       "      <td>5480</td>\n",
       "      <td>Male</td>\n",
       "      <td>1988</td>\n",
       "      <td>2</td>\n",
       "      <td>11</td>\n",
       "      <td>27</td>\n",
       "      <td>2020-06-05</td>\n",
       "      <td>33</td>\n",
       "    </tr>\n",
       "    <tr>\n",
       "      <th>1</th>\n",
       "      <td>1</td>\n",
       "      <td>3</td>\n",
       "      <td>Powell St BART Station (Market St at 4th St)</td>\n",
       "      <td>118</td>\n",
       "      <td>Eureka Valley Recreation Center</td>\n",
       "      <td>5193</td>\n",
       "      <td>Male</td>\n",
       "      <td>1988</td>\n",
       "      <td>2</td>\n",
       "      <td>8</td>\n",
       "      <td>26</td>\n",
       "      <td>2019-07-29</td>\n",
       "      <td>33</td>\n",
       "    </tr>\n",
       "    <tr>\n",
       "      <th>2</th>\n",
       "      <td>2</td>\n",
       "      <td>67</td>\n",
       "      <td>San Francisco Caltrain Station 2  (Townsend St...</td>\n",
       "      <td>23</td>\n",
       "      <td>The Embarcadero at Steuart St</td>\n",
       "      <td>3652</td>\n",
       "      <td>Male</td>\n",
       "      <td>1988</td>\n",
       "      <td>3</td>\n",
       "      <td>11</td>\n",
       "      <td>27</td>\n",
       "      <td>2020-06-20</td>\n",
       "      <td>33</td>\n",
       "    </tr>\n",
       "  </tbody>\n",
       "</table>\n",
       "</div>"
      ],
      "text/plain": [
       "   ride_id  station_A_id                                     station_A_name  \\\n",
       "0        0            81                                 Berry St at 4th St   \n",
       "1        1             3       Powell St BART Station (Market St at 4th St)   \n",
       "2        2            67  San Francisco Caltrain Station 2  (Townsend St...   \n",
       "\n",
       "   station_B_id                   station_B_name  bike_id user_gender  \\\n",
       "0           323               Broadway at Kearny     5480        Male   \n",
       "1           118  Eureka Valley Recreation Center     5193        Male   \n",
       "2            23    The Embarcadero at Steuart St     3652        Male   \n",
       "\n",
       "   user_birth_year user_type_cat  duration tire_sizes  ride_date  user_age  \n",
       "0             1988             2        11         27 2020-06-05        33  \n",
       "1             1988             2         8         26 2019-07-29        33  \n",
       "2             1988             3        11         27 2020-06-20        33  "
      ]
     },
     "execution_count": 36,
     "metadata": {},
     "output_type": "execute_result"
    }
   ],
   "source": [
    "ride_sharing_sub.head(3)"
   ]
  },
  {
   "cell_type": "code",
   "execution_count": 37,
   "metadata": {},
   "outputs": [
    {
     "name": "stdout",
     "output_type": "stream",
     "text": [
      "The average age of the riders is 37.37\n",
      "The youngest rider is 24 years old\n",
      "The oldest rider is 79 years old\n"
     ]
    }
   ],
   "source": [
    "#General statistics of the ages of the riders\n",
    "user_ages = ride_sharing_sub['user_age'].values\n",
    "mean_age = np.mean(user_ages)\n",
    "youngest_age = np.min(user_ages)\n",
    "oldest_age = np.max(user_ages)\n",
    "print('The average age of the riders is {:.2f}'.format(mean_age))\n",
    "print('The youngest rider is {} years old'.format(youngest_age))\n",
    "print('The oldest rider is {} years old'.format(oldest_age))"
   ]
  },
  {
   "cell_type": "code",
   "execution_count": 38,
   "metadata": {},
   "outputs": [
    {
     "data": {
      "image/png": "[encoded data removed]",
      "text/plain": [
       "<Figure size 1440x720 with 1 Axes>"
      ]
     },
     "metadata": {
      "needs_background": "light"
     },
     "output_type": "display_data"
    }
   ],
   "source": [
    "#Setting the number of bins for the histogram\n",
    "n_bins = round(np.sqrt(len(user_ages)))\n",
    "#Plotting the age distributions\n",
    "plt.figure(figsize = (20, 10))\n",
    "plt.hist(user_ages, edgecolor = 'black', bins = n_bins)\n",
    "plt.axvline(mean_age, color = 'red', label = 'mean', linestyle = 'dashed')\n",
    "plt.axvline(youngest_age, color = 'black', label = 'youngest age', linestyle = 'dotted')\n",
    "plt.axvline(oldest_age, color = 'yellow', label = 'oldest age', linestyle = 'solid')\n",
    "plt.title('Distribution of Rider Ages')\n",
    "plt.xlabel('Age')\n",
    "plt.ylabel('Count')\n",
    "plt.legend()\n",
    "plt.show()"
   ]
  },
  {
   "cell_type": "markdown",
   "metadata": {},
   "source": [
    "To gain a better understanding of the how the differently aged riders are interacting with the services, it will be better to create an range range and analyse what happens within these ranges. "
   ]
  },
  {
   "cell_type": "code",
   "execution_count": 72,
   "metadata": {},
   "outputs": [
    {
     "data": {
      "text/html": [
       "<div>\n",
       "<style scoped>\n",
       "    .dataframe tbody tr th:only-of-type {\n",
       "        vertical-align: middle;\n",
       "    }\n",
       "\n",
       "    .dataframe tbody tr th {\n",
       "        vertical-align: top;\n",
       "    }\n",
       "\n",
       "    .dataframe thead th {\n",
       "        text-align: right;\n",
       "    }\n",
       "</style>\n",
       "<table border=\"1\" class=\"dataframe\">\n",
       "  <thead>\n",
       "    <tr style=\"text-align: right;\">\n",
       "      <th></th>\n",
       "      <th>ride_id</th>\n",
       "      <th>station_A_id</th>\n",
       "      <th>station_A_name</th>\n",
       "      <th>station_B_id</th>\n",
       "      <th>station_B_name</th>\n",
       "      <th>bike_id</th>\n",
       "      <th>user_gender</th>\n",
       "      <th>user_birth_year</th>\n",
       "      <th>user_type_cat</th>\n",
       "      <th>duration</th>\n",
       "      <th>tire_sizes</th>\n",
       "      <th>ride_date</th>\n",
       "      <th>user_age</th>\n",
       "      <th>age_group</th>\n",
       "    </tr>\n",
       "  </thead>\n",
       "  <tbody>\n",
       "    <tr>\n",
       "      <th>0</th>\n",
       "      <td>0</td>\n",
       "      <td>81</td>\n",
       "      <td>Berry St at 4th St</td>\n",
       "      <td>323</td>\n",
       "      <td>Broadway at Kearny</td>\n",
       "      <td>5480</td>\n",
       "      <td>Male</td>\n",
       "      <td>1988</td>\n",
       "      <td>2</td>\n",
       "      <td>11</td>\n",
       "      <td>27</td>\n",
       "      <td>2020-06-05</td>\n",
       "      <td>33</td>\n",
       "      <td>Middle Adult</td>\n",
       "    </tr>\n",
       "    <tr>\n",
       "      <th>1</th>\n",
       "      <td>1</td>\n",
       "      <td>3</td>\n",
       "      <td>Powell St BART Station (Market St at 4th St)</td>\n",
       "      <td>118</td>\n",
       "      <td>Eureka Valley Recreation Center</td>\n",
       "      <td>5193</td>\n",
       "      <td>Male</td>\n",
       "      <td>1988</td>\n",
       "      <td>2</td>\n",
       "      <td>8</td>\n",
       "      <td>26</td>\n",
       "      <td>2019-07-29</td>\n",
       "      <td>33</td>\n",
       "      <td>Middle Adult</td>\n",
       "    </tr>\n",
       "    <tr>\n",
       "      <th>2</th>\n",
       "      <td>2</td>\n",
       "      <td>67</td>\n",
       "      <td>San Francisco Caltrain Station 2  (Townsend St...</td>\n",
       "      <td>23</td>\n",
       "      <td>The Embarcadero at Steuart St</td>\n",
       "      <td>3652</td>\n",
       "      <td>Male</td>\n",
       "      <td>1988</td>\n",
       "      <td>3</td>\n",
       "      <td>11</td>\n",
       "      <td>27</td>\n",
       "      <td>2020-06-20</td>\n",
       "      <td>33</td>\n",
       "      <td>Middle Adult</td>\n",
       "    </tr>\n",
       "  </tbody>\n",
       "</table>\n",
       "</div>"
      ],
      "text/plain": [
       "   ride_id  station_A_id                                     station_A_name  \\\n",
       "0        0            81                                 Berry St at 4th St   \n",
       "1        1             3       Powell St BART Station (Market St at 4th St)   \n",
       "2        2            67  San Francisco Caltrain Station 2  (Townsend St...   \n",
       "\n",
       "   station_B_id                   station_B_name  bike_id user_gender  \\\n",
       "0           323               Broadway at Kearny     5480        Male   \n",
       "1           118  Eureka Valley Recreation Center     5193        Male   \n",
       "2            23    The Embarcadero at Steuart St     3652        Male   \n",
       "\n",
       "   user_birth_year user_type_cat  duration tire_sizes  ride_date  user_age  \\\n",
       "0             1988             2        11         27 2020-06-05        33   \n",
       "1             1988             2         8         26 2019-07-29        33   \n",
       "2             1988             3        11         27 2020-06-20        33   \n",
       "\n",
       "      age_group  \n",
       "0  Middle Adult  \n",
       "1  Middle Adult  \n",
       "2  Middle Adult  "
      ]
     },
     "execution_count": 72,
     "metadata": {},
     "output_type": "execute_result"
    }
   ],
   "source": [
    "#Binning the ages\n",
    "bins = [20, 30, 40, 50, 60, 70]\n",
    "labels = ['Young Adult', 'Middle Adult', 'Middle old', 'Senior', 'Old']\n",
    "\n",
    "ride_sharing_sub['age_group'] = pd.cut(ride_sharing_sub['user_age'], bins, labels = labels)\n",
    "ride_sharing_sub.head(3)"
   ]
  },
  {
   "cell_type": "code",
   "execution_count": 73,
   "metadata": {
    "scrolled": true
   },
   "outputs": [
    {
     "data": {
      "text/plain": [
       "Middle Adult    39\n",
       "Young Adult     17\n",
       "Middle old      14\n",
       "Senior           6\n",
       "Old              1\n",
       "Name: age_group, dtype: int64"
      ]
     },
     "execution_count": 73,
     "metadata": {},
     "output_type": "execute_result"
    }
   ],
   "source": [
    "ride_sharing_sub['age_group'].value_counts()"
   ]
  },
  {
   "cell_type": "markdown",
   "metadata": {},
   "source": [
    "- Young Adult : 20 to 30 years\n",
    "- Middle Adult : 30 to 40 years\n",
    "- Middle Old : 40 to 50 years\n",
    "- Senior : 50 to 60 years\n",
    "- Old : 60 and above\n",
    "\n",
    "NB: These age groups created and named here do not follow any conventions. Just my own thoughts for the purpose of learning and practice.\n",
    "\n",
    "Most riders are between the ages of 30 to 40 years. "
   ]
  },
  {
   "cell_type": "code",
   "execution_count": 79,
   "metadata": {},
   "outputs": [
    {
     "data": {
      "text/plain": [
       "Text(0, 0.5, 'Age Group')"
      ]
     },
     "execution_count": 79,
     "metadata": {},
     "output_type": "execute_result"
    },
    {
     "data": {
      "image/png": "[encoded data removed]",
      "text/plain": [
       "<Figure size 1440x720 with 1 Axes>"
      ]
     },
     "metadata": {},
     "output_type": "display_data"
    }
   ],
   "source": [
    "plt.figure(figsize = (20, 10))\n",
    "sns.countplot(y = 'age_group', data = ride_sharing_sub, \n",
    "              order = ride_sharing_sub['age_group'].value_counts(ascending = True).index)\n",
    "plt.ylabel('Age Group')"
   ]
  },
  {
   "cell_type": "code",
   "execution_count": null,
   "metadata": {},
   "outputs": [],
   "source": []
  },
  {
   "cell_type": "markdown",
   "metadata": {},
   "source": [
    "## Riders' Gender\n",
    "- How many male riders do we have\n",
    "- How many female riders do we have\n",
    "- Association between gender of riders and number of rides (Are the number of rides affected by Gender)"
   ]
  },
  {
   "cell_type": "code",
   "execution_count": 94,
   "metadata": {},
   "outputs": [
    {
     "name": "stdout",
     "output_type": "stream",
     "text": [
      "Number of male riders: 58\n",
      "Number of female riders: 20\n"
     ]
    },
    {
     "data": {
      "image/png": "[encoded data removed]",
      "text/plain": [
       "<Figure size 864x576 with 1 Axes>"
      ]
     },
     "metadata": {},
     "output_type": "display_data"
    }
   ],
   "source": [
    "#Number of male and female riders\n",
    "male_riders = ride_sharing_sub[ride_sharing_sub['user_gender'] == 'Male']\n",
    "female_riders = ride_sharing_sub[ride_sharing_sub['user_gender'] == 'Female']\n",
    "\n",
    "print('Number of male riders: {}'.format(len(male_riders)))\n",
    "print('Number of female riders: {}'.format(len(female_riders)))\n",
    "\n",
    "\n",
    "plt.figure(figsize = (12, 8))\n",
    "sns.countplot(data = ride_sharing_sub, x = 'user_gender')\n",
    "plt.xlabel('Gender')\n",
    "plt.show()"
   ]
  },
  {
   "cell_type": "markdown",
   "metadata": {},
   "source": [
    "What are the average ages of male and female riders?"
   ]
  },
  {
   "cell_type": "code",
   "execution_count": 90,
   "metadata": {},
   "outputs": [
    {
     "name": "stdout",
     "output_type": "stream",
     "text": [
      "The average age of male riders is: 37 years\n",
      "The average age of female riders is: 38 years\n"
     ]
    }
   ],
   "source": [
    "#Finding the average age of male riders\n",
    "male_riders_ages = male_riders['user_age']\n",
    "mean_age_male = np.mean(male_riders_ages)\n",
    "print('The average age of male riders is: {:.0f} years'.format(mean_age_male))\n",
    "\n",
    "female_riders_ages = female_riders['user_age']\n",
    "mean_age_female = np.mean(female_riders_ages)\n",
    "print('The average age of female riders is: {:.0f} years'.format(mean_age_female))"
   ]
  },
  {
   "cell_type": "markdown",
   "metadata": {},
   "source": [
    "## Most Popular Stations\n",
    "We can also look into the dataset to find out which of the stations are popular. \n",
    "- Which Starting station (Station A)  is more popular?\n",
    "- Which starting station (Station B) is more popular?"
   ]
  },
  {
   "cell_type": "code",
   "execution_count": 39,
   "metadata": {},
   "outputs": [
    {
     "name": "stdout",
     "output_type": "stream",
     "text": [
      "The number of starting stations is: 9\n"
     ]
    }
   ],
   "source": [
    "#Finding all the different starting stations\n",
    "number_of_starting_stations = ride_sharing_sub['station_A_name'].nunique()\n",
    "print('The number of starting stations is: ' + str(number_of_starting_stations))"
   ]
  },
  {
   "cell_type": "code",
   "execution_count": 40,
   "metadata": {},
   "outputs": [
    {
     "name": "stdout",
     "output_type": "stream",
     "text": [
      "The names of starting stations are: \n",
      "['Berry St at 4th St' 'Powell St BART Station (Market St at 4th St)'\n",
      " 'San Francisco Caltrain Station 2  (Townsend St at 4th St)'\n",
      " 'Steuart St at Market St' 'Howard St at Beale St'\n",
      " 'San Francisco Caltrain (Townsend St at 4th St)'\n",
      " 'San Francisco Ferry Building (Harry Bridges Plaza)'\n",
      " 'Montgomery St BART Station (Market St at 2nd St)'\n",
      " 'Powell St BART Station (Market St at 5th St)']\n"
     ]
    }
   ],
   "source": [
    "#The names of the starting stations\n",
    "names_of_starting_stations = ride_sharing_sub['station_A_name'].unique()\n",
    "print('The names of starting stations are: \\n{}'.format(names_of_starting_stations))"
   ]
  },
  {
   "cell_type": "code",
   "execution_count": 41,
   "metadata": {},
   "outputs": [
    {
     "name": "stdout",
     "output_type": "stream",
     "text": [
      "The number of final stations is: 45\n"
     ]
    }
   ],
   "source": [
    "#Finding all the different final stations\n",
    "number_of_final_stations = ride_sharing_sub['station_B_name'].nunique()\n",
    "print('The number of final stations is: ' + str(number_of_final_stations))"
   ]
  },
  {
   "cell_type": "code",
   "execution_count": 42,
   "metadata": {},
   "outputs": [
    {
     "name": "stdout",
     "output_type": "stream",
     "text": [
      "The names of final stations are: \n",
      "['Broadway at Kearny' 'Eureka Valley Recreation Center'\n",
      " 'The Embarcadero at Steuart St' 'The Embarcadero at Bryant St'\n",
      " '8th St at Brannan St' 'The Embarcadero at Sansome St'\n",
      " '17th St at Dolores St' '14th St at Mission St' 'Steuart St at Market St'\n",
      " 'Victoria Manalo Draves Park' '1st St at Folsom St'\n",
      " 'Beale St at Harrison St' '23rd St at Tennessee St'\n",
      " 'Laguna St at Hayes St' '5th St at Folsom' '19th St at Mission St'\n",
      " 'Davis St at Jackson St' 'San Francisco City Hall (Polk St at Grove St)'\n",
      " 'Market St at 10th St' 'China Basin St at 3rd St'\n",
      " 'Valencia St at Clinton Park'\n",
      " 'Mechanics Monument Plaza (Market St at Bush St)'\n",
      " '17th St at Valencia St' '4th St at Mission Bay Blvd S'\n",
      " 'Jones St at Post St' 'Howard St at 8th St' 'Mississippi St at 17th St'\n",
      " 'San Francisco Ferry Building (Harry Bridges Plaza)' 'Irwin St at 8th St'\n",
      " 'McCoppin St at Valencia St' '2nd St at Townsend St'\n",
      " 'Bryant St at 2nd St' '22nd St Caltrain Station' 'Townsend St at 5th St'\n",
      " '5th St at Brannan St' 'Golden Gate Ave at Polk St'\n",
      " 'Cyril Magnin St at Ellis St' 'Berry St at 4th St' 'Folsom St at 9th St'\n",
      " 'Broadway at Battery St' 'Central Ave at Fell St'\n",
      " 'Webster St at Grove St' 'Fell St at Stanyan St' 'Townsend St at 7th St'\n",
      " 'Page St at Scott St']\n"
     ]
    }
   ],
   "source": [
    "#The names of the final stations\n",
    "names_of_final_stations = ride_sharing_sub['station_B_name'].unique()\n",
    "print('The names of final stations are: \\n{}'.format(names_of_final_stations))"
   ]
  },
  {
   "cell_type": "code",
   "execution_count": 80,
   "metadata": {},
   "outputs": [
    {
     "name": "stdout",
     "output_type": "stream",
     "text": [
      "Montgomery St BART Station (Market St at 2nd St)             18\n",
      "Powell St BART Station (Market St at 4th St)                 13\n",
      "San Francisco Caltrain Station 2  (Townsend St at 4th St)    12\n",
      "Steuart St at Market St                                       7\n",
      "Berry St at 4th St                                            7\n",
      "Howard St at Beale St                                         6\n",
      "Powell St BART Station (Market St at 5th St)                  6\n",
      "San Francisco Caltrain (Townsend St at 4th St)                5\n",
      "San Francisco Ferry Building (Harry Bridges Plaza)            4\n",
      "Name: station_A_name, dtype: int64\n"
     ]
    },
    {
     "data": {
      "image/png": "[encoded data removed]",
      "text/plain": [
       "<Figure size 1440x720 with 1 Axes>"
      ]
     },
     "metadata": {},
     "output_type": "display_data"
    }
   ],
   "source": [
    "#Most popular starting stations\n",
    "station_A = ride_sharing_sub['station_A_name'].value_counts()\n",
    "print(station_A)\n",
    "#Visualizing the popularity of the starting stations\n",
    "plt.figure(figsize = (20, 10))\n",
    "sns.set(font_scale = 2)\n",
    "sns.countplot(y = 'station_A_name', data = ride_sharing_sub, \n",
    "             order = ride_sharing_sub.station_A_name.value_counts(ascending = False).index)\n",
    "plt.ylabel('Starting Station Name')\n",
    "plt.show()\n"
   ]
  },
  {
   "cell_type": "markdown",
   "metadata": {},
   "source": [
    "It can be seen that the most popular starting station is the `Montgomery St BART Station (Market St at 2nd St)` with the least popular station being `San Francisco Ferry Building (Harry Bridges Plaza)`."
   ]
  },
  {
   "cell_type": "code",
   "execution_count": 62,
   "metadata": {},
   "outputs": [
    {
     "name": "stdout",
     "output_type": "stream",
     "text": [
      "Folsom St at 9th St                                   5\n",
      "The Embarcadero at Sansome St                         5\n",
      "Market St at 10th St                                  5\n",
      "Howard St at 8th St                                   5\n",
      "The Embarcadero at Bryant St                          3\n",
      "2nd St at Townsend St                                 3\n",
      "5th St at Folsom                                      3\n",
      "4th St at Mission Bay Blvd S                          3\n",
      "Jones St at Post St                                   2\n",
      "Steuart St at Market St                               2\n",
      "Laguna St at Hayes St                                 2\n",
      "Valencia St at Clinton Park                           2\n",
      "8th St at Brannan St                                  2\n",
      "San Francisco City Hall (Polk St at Grove St)         2\n",
      "Beale St at Harrison St                               2\n",
      "Broadway at Kearny                                    2\n",
      "5th St at Brannan St                                  2\n",
      "Golden Gate Ave at Polk St                            1\n",
      "Mississippi St at 17th St                             1\n",
      "Page St at Scott St                                   1\n",
      "Victoria Manalo Draves Park                           1\n",
      "China Basin St at 3rd St                              1\n",
      "Irwin St at 8th St                                    1\n",
      "McCoppin St at Valencia St                            1\n",
      "Eureka Valley Recreation Center                       1\n",
      "Berry St at 4th St                                    1\n",
      "San Francisco Ferry Building (Harry Bridges Plaza)    1\n",
      "Webster St at Grove St                                1\n",
      "Fell St at Stanyan St                                 1\n",
      "1st St at Folsom St                                   1\n",
      "17th St at Valencia St                                1\n",
      "17th St at Dolores St                                 1\n",
      "Cyril Magnin St at Ellis St                           1\n",
      "Broadway at Battery St                                1\n",
      "Davis St at Jackson St                                1\n",
      "Central Ave at Fell St                                1\n",
      "Mechanics Monument Plaza (Market St at Bush St)       1\n",
      "Townsend St at 7th St                                 1\n",
      "14th St at Mission St                                 1\n",
      "23rd St at Tennessee St                               1\n",
      "Bryant St at 2nd St                                   1\n",
      "The Embarcadero at Steuart St                         1\n",
      "19th St at Mission St                                 1\n",
      "Townsend St at 5th St                                 1\n",
      "22nd St Caltrain Station                              1\n",
      "Name: station_B_name, dtype: int64\n"
     ]
    },
    {
     "data": {
      "text/plain": [
       "<AxesSubplot:xlabel='count', ylabel='station_B_name'>"
      ]
     },
     "execution_count": 62,
     "metadata": {},
     "output_type": "execute_result"
    },
    {
     "data": {
      "image/png": "[encoded data removed]",
      "text/plain": [
       "<Figure size 720x720 with 1 Axes>"
      ]
     },
     "metadata": {},
     "output_type": "display_data"
    }
   ],
   "source": [
    "#Most popular final stations\n",
    "station_B = ride_sharing_sub['station_B_name'].value_counts()\n",
    "print(station_B)\n",
    "#Visualizing the popularity of the final stations\n",
    "plt.figure(figsize = (10, 10))\n",
    "sns.set(font_scale = 1)\n",
    "sns.countplot(y = 'station_B_name', data = ride_sharing_sub, \n",
    "              order = ride_sharing_sub.station_B_name.value_counts(ascending = False).index)"
   ]
  },
  {
   "cell_type": "markdown",
   "metadata": {},
   "source": [
    "Here there are four popular final stations namely: \n",
    "- `Folsom St at 9th St`  \n",
    "- `The Embarcadero at Sansome St`\n",
    "- `Market St at 10th St` \n",
    "- `Howard St at 8th St`"
   ]
  },
  {
   "cell_type": "markdown",
   "metadata": {},
   "source": [
    "## Date and Times\n",
    "Which months are popular among riders? On which days do riders ride more. And so on. Here I will use the bigger dataset and subset the first 1000. Columns named `month`, `year`, `day` will be created to help with the analysis."
   ]
  },
  {
   "cell_type": "code",
   "execution_count": 98,
   "metadata": {},
   "outputs": [
    {
     "data": {
      "text/html": [
       "<div>\n",
       "<style scoped>\n",
       "    .dataframe tbody tr th:only-of-type {\n",
       "        vertical-align: middle;\n",
       "    }\n",
       "\n",
       "    .dataframe tbody tr th {\n",
       "        vertical-align: top;\n",
       "    }\n",
       "\n",
       "    .dataframe thead th {\n",
       "        text-align: right;\n",
       "    }\n",
       "</style>\n",
       "<table border=\"1\" class=\"dataframe\">\n",
       "  <thead>\n",
       "    <tr style=\"text-align: right;\">\n",
       "      <th></th>\n",
       "      <th>duration</th>\n",
       "      <th>station_A_id</th>\n",
       "      <th>station_A_name</th>\n",
       "      <th>station_B_id</th>\n",
       "      <th>station_B_name</th>\n",
       "      <th>bike_id</th>\n",
       "      <th>user_birth_year</th>\n",
       "      <th>user_gender</th>\n",
       "      <th>user_type_cat</th>\n",
       "      <th>duration_time</th>\n",
       "      <th>tire_sizes</th>\n",
       "      <th>ride_date</th>\n",
       "      <th>user_age</th>\n",
       "      <th>age_group</th>\n",
       "    </tr>\n",
       "  </thead>\n",
       "  <tbody>\n",
       "    <tr>\n",
       "      <th>0</th>\n",
       "      <td>12 minutes</td>\n",
       "      <td>81</td>\n",
       "      <td>Berry St at 4th St</td>\n",
       "      <td>323</td>\n",
       "      <td>Broadway at Kearny</td>\n",
       "      <td>5480</td>\n",
       "      <td>1959</td>\n",
       "      <td>Male</td>\n",
       "      <td>2</td>\n",
       "      <td>12</td>\n",
       "      <td>27</td>\n",
       "      <td>2020-06-05</td>\n",
       "      <td>62</td>\n",
       "      <td>Old</td>\n",
       "    </tr>\n",
       "    <tr>\n",
       "      <th>1</th>\n",
       "      <td>24 minutes</td>\n",
       "      <td>3</td>\n",
       "      <td>Powell St BART Station (Market St at 4th St)</td>\n",
       "      <td>118</td>\n",
       "      <td>Eureka Valley Recreation Center</td>\n",
       "      <td>5193</td>\n",
       "      <td>1965</td>\n",
       "      <td>Male</td>\n",
       "      <td>2</td>\n",
       "      <td>24</td>\n",
       "      <td>26</td>\n",
       "      <td>2019-07-29</td>\n",
       "      <td>56</td>\n",
       "      <td>Senior</td>\n",
       "    </tr>\n",
       "    <tr>\n",
       "      <th>2</th>\n",
       "      <td>8 minutes</td>\n",
       "      <td>67</td>\n",
       "      <td>San Francisco Caltrain Station 2  (Townsend St...</td>\n",
       "      <td>23</td>\n",
       "      <td>The Embarcadero at Steuart St</td>\n",
       "      <td>3652</td>\n",
       "      <td>1993</td>\n",
       "      <td>Male</td>\n",
       "      <td>3</td>\n",
       "      <td>8</td>\n",
       "      <td>27</td>\n",
       "      <td>2020-06-20</td>\n",
       "      <td>28</td>\n",
       "      <td>Young Adult</td>\n",
       "    </tr>\n",
       "  </tbody>\n",
       "</table>\n",
       "</div>"
      ],
      "text/plain": [
       "     duration  station_A_id  \\\n",
       "0  12 minutes            81   \n",
       "1  24 minutes             3   \n",
       "2   8 minutes            67   \n",
       "\n",
       "                                      station_A_name  station_B_id  \\\n",
       "0                                 Berry St at 4th St           323   \n",
       "1       Powell St BART Station (Market St at 4th St)           118   \n",
       "2  San Francisco Caltrain Station 2  (Townsend St...            23   \n",
       "\n",
       "                    station_B_name  bike_id  user_birth_year user_gender  \\\n",
       "0               Broadway at Kearny     5480             1959        Male   \n",
       "1  Eureka Valley Recreation Center     5193             1965        Male   \n",
       "2    The Embarcadero at Steuart St     3652             1993        Male   \n",
       "\n",
       "  user_type_cat  duration_time tire_sizes  ride_date  user_age    age_group  \n",
       "0             2             12         27 2020-06-05        62          Old  \n",
       "1             2             24         26 2019-07-29        56       Senior  \n",
       "2             3              8         27 2020-06-20        28  Young Adult  "
      ]
     },
     "execution_count": 98,
     "metadata": {},
     "output_type": "execute_result"
    }
   ],
   "source": [
    "#Getting the 1000 rows of the original dataset I started with.\n",
    "ride_sharing_1000 = ride_sharing.loc[0: 999].copy()\n",
    "ride_sharing_1000.head()\n",
    "\n",
    "#Lets create the user_age and age_group columns for this new subset\n",
    "ride_sharing_1000['user_age'] = ride_sharing_1000.apply(lambda row: today.year - row['user_birth_year'], axis = 1)\n",
    "\n",
    "ride_sharing_1000['age_group'] = pd.cut(ride_sharing_1000['user_age'], bins, labels = labels)\n",
    "ride_sharing_1000.head(3)"
   ]
  },
  {
   "cell_type": "code",
   "execution_count": 100,
   "metadata": {},
   "outputs": [
    {
     "name": "stdout",
     "output_type": "stream",
     "text": [
      "<class 'pandas.core.frame.DataFrame'>\n",
      "RangeIndex: 1000 entries, 0 to 999\n",
      "Data columns (total 14 columns):\n",
      " #   Column           Non-Null Count  Dtype         \n",
      "---  ------           --------------  -----         \n",
      " 0   duration         1000 non-null   object        \n",
      " 1   station_A_id     1000 non-null   int64         \n",
      " 2   station_A_name   1000 non-null   object        \n",
      " 3   station_B_id     1000 non-null   int64         \n",
      " 4   station_B_name   1000 non-null   object        \n",
      " 5   bike_id          1000 non-null   int64         \n",
      " 6   user_birth_year  1000 non-null   int64         \n",
      " 7   user_gender      1000 non-null   object        \n",
      " 8   user_type_cat    1000 non-null   category      \n",
      " 9   duration_time    1000 non-null   int64         \n",
      " 10  tire_sizes       1000 non-null   category      \n",
      " 11  ride_date        1000 non-null   datetime64[ns]\n",
      " 12  user_age         1000 non-null   int64         \n",
      " 13  age_group        995 non-null    category      \n",
      "dtypes: category(3), datetime64[ns](1), int64(6), object(4)\n",
      "memory usage: 89.4+ KB\n"
     ]
    }
   ],
   "source": [
    "ride_sharing_1000.info()"
   ]
  },
  {
   "cell_type": "code",
   "execution_count": 101,
   "metadata": {},
   "outputs": [],
   "source": [
    "#Creating the month column to contain information on the months in which the rides were made\n",
    "\n",
    "ride_sharing_1000['month'] = ride_sharing_1000.apply(lambda row: row['ride_date'].strftime('%B'), axis = 1)"
   ]
  },
  {
   "cell_type": "code",
   "execution_count": 102,
   "metadata": {},
   "outputs": [
    {
     "data": {
      "text/html": [
       "<div>\n",
       "<style scoped>\n",
       "    .dataframe tbody tr th:only-of-type {\n",
       "        vertical-align: middle;\n",
       "    }\n",
       "\n",
       "    .dataframe tbody tr th {\n",
       "        vertical-align: top;\n",
       "    }\n",
       "\n",
       "    .dataframe thead th {\n",
       "        text-align: right;\n",
       "    }\n",
       "</style>\n",
       "<table border=\"1\" class=\"dataframe\">\n",
       "  <thead>\n",
       "    <tr style=\"text-align: right;\">\n",
       "      <th></th>\n",
       "      <th>duration</th>\n",
       "      <th>station_A_id</th>\n",
       "      <th>station_A_name</th>\n",
       "      <th>station_B_id</th>\n",
       "      <th>station_B_name</th>\n",
       "      <th>bike_id</th>\n",
       "      <th>user_birth_year</th>\n",
       "      <th>user_gender</th>\n",
       "      <th>user_type_cat</th>\n",
       "      <th>duration_time</th>\n",
       "      <th>tire_sizes</th>\n",
       "      <th>ride_date</th>\n",
       "      <th>user_age</th>\n",
       "      <th>age_group</th>\n",
       "      <th>month</th>\n",
       "    </tr>\n",
       "  </thead>\n",
       "  <tbody>\n",
       "    <tr>\n",
       "      <th>0</th>\n",
       "      <td>12 minutes</td>\n",
       "      <td>81</td>\n",
       "      <td>Berry St at 4th St</td>\n",
       "      <td>323</td>\n",
       "      <td>Broadway at Kearny</td>\n",
       "      <td>5480</td>\n",
       "      <td>1959</td>\n",
       "      <td>Male</td>\n",
       "      <td>2</td>\n",
       "      <td>12</td>\n",
       "      <td>27</td>\n",
       "      <td>2020-06-05</td>\n",
       "      <td>62</td>\n",
       "      <td>Old</td>\n",
       "      <td>June</td>\n",
       "    </tr>\n",
       "    <tr>\n",
       "      <th>1</th>\n",
       "      <td>24 minutes</td>\n",
       "      <td>3</td>\n",
       "      <td>Powell St BART Station (Market St at 4th St)</td>\n",
       "      <td>118</td>\n",
       "      <td>Eureka Valley Recreation Center</td>\n",
       "      <td>5193</td>\n",
       "      <td>1965</td>\n",
       "      <td>Male</td>\n",
       "      <td>2</td>\n",
       "      <td>24</td>\n",
       "      <td>26</td>\n",
       "      <td>2019-07-29</td>\n",
       "      <td>56</td>\n",
       "      <td>Senior</td>\n",
       "      <td>July</td>\n",
       "    </tr>\n",
       "    <tr>\n",
       "      <th>2</th>\n",
       "      <td>8 minutes</td>\n",
       "      <td>67</td>\n",
       "      <td>San Francisco Caltrain Station 2  (Townsend St...</td>\n",
       "      <td>23</td>\n",
       "      <td>The Embarcadero at Steuart St</td>\n",
       "      <td>3652</td>\n",
       "      <td>1993</td>\n",
       "      <td>Male</td>\n",
       "      <td>3</td>\n",
       "      <td>8</td>\n",
       "      <td>27</td>\n",
       "      <td>2020-06-20</td>\n",
       "      <td>28</td>\n",
       "      <td>Young Adult</td>\n",
       "      <td>June</td>\n",
       "    </tr>\n",
       "  </tbody>\n",
       "</table>\n",
       "</div>"
      ],
      "text/plain": [
       "     duration  station_A_id  \\\n",
       "0  12 minutes            81   \n",
       "1  24 minutes             3   \n",
       "2   8 minutes            67   \n",
       "\n",
       "                                      station_A_name  station_B_id  \\\n",
       "0                                 Berry St at 4th St           323   \n",
       "1       Powell St BART Station (Market St at 4th St)           118   \n",
       "2  San Francisco Caltrain Station 2  (Townsend St...            23   \n",
       "\n",
       "                    station_B_name  bike_id  user_birth_year user_gender  \\\n",
       "0               Broadway at Kearny     5480             1959        Male   \n",
       "1  Eureka Valley Recreation Center     5193             1965        Male   \n",
       "2    The Embarcadero at Steuart St     3652             1993        Male   \n",
       "\n",
       "  user_type_cat  duration_time tire_sizes  ride_date  user_age    age_group  \\\n",
       "0             2             12         27 2020-06-05        62          Old   \n",
       "1             2             24         26 2019-07-29        56       Senior   \n",
       "2             3              8         27 2020-06-20        28  Young Adult   \n",
       "\n",
       "  month  \n",
       "0  June  \n",
       "1  July  \n",
       "2  June  "
      ]
     },
     "execution_count": 102,
     "metadata": {},
     "output_type": "execute_result"
    }
   ],
   "source": [
    "ride_sharing_1000.head(3)"
   ]
  },
  {
   "cell_type": "markdown",
   "metadata": {},
   "source": [
    "Grouping the data points by month and counting the number of bike ids for each group to get a sense of the number of rides that occurred in that month. NB: The data was collected across different years, but then the groupby was performed in irrespective of the years. This will be give the all time month with the highest rides in the dataset. "
   ]
  },
  {
   "cell_type": "code",
   "execution_count": 112,
   "metadata": {},
   "outputs": [
    {
     "data": {
      "text/plain": [
       "month\n",
       "April         63\n",
       "August        59\n",
       "December      70\n",
       "February      64\n",
       "January       74\n",
       "July          51\n",
       "June          59\n",
       "March        352\n",
       "May           57\n",
       "November      50\n",
       "October       60\n",
       "September     41\n",
       "Name: bike_id, dtype: int64"
      ]
     },
     "execution_count": 112,
     "metadata": {},
     "output_type": "execute_result"
    }
   ],
   "source": [
    "#Performing the groupby\n",
    "months = ride_sharing_1000.groupby('month')['bike_id'].count()\n",
    "months"
   ]
  },
  {
   "cell_type": "code",
   "execution_count": 111,
   "metadata": {},
   "outputs": [
    {
     "data": {
      "image/png": "[encoded data removed]",
      "text/plain": [
       "<Figure size 1440x720 with 1 Axes>"
      ]
     },
     "metadata": {},
     "output_type": "display_data"
    }
   ],
   "source": [
    "plt.figure(figsize = (20, 10))\n",
    "plt.plot(months, color = 'red')\n",
    "plt.xlabel('Months')\n",
    "plt.ylabel('Number of Rides')\n",
    "plt.xticks(rotation = 45)\n",
    "plt.title('Months with highest number of rides irrespective of the years')\n",
    "plt.show()"
   ]
  },
  {
   "cell_type": "markdown",
   "metadata": {},
   "source": [
    "The month of the MARCH has been the all time busiest."
   ]
  },
  {
   "cell_type": "markdown",
   "metadata": {},
   "source": [
    "The same can be done for the days as well, to see the most popular days among riders. Firstly a new column will created to contain the days information using a lambda function then a groupby and counting the number of bike ids."
   ]
  },
  {
   "cell_type": "code",
   "execution_count": 118,
   "metadata": {},
   "outputs": [
    {
     "data": {
      "text/html": [
       "<div>\n",
       "<style scoped>\n",
       "    .dataframe tbody tr th:only-of-type {\n",
       "        vertical-align: middle;\n",
       "    }\n",
       "\n",
       "    .dataframe tbody tr th {\n",
       "        vertical-align: top;\n",
       "    }\n",
       "\n",
       "    .dataframe thead th {\n",
       "        text-align: right;\n",
       "    }\n",
       "</style>\n",
       "<table border=\"1\" class=\"dataframe\">\n",
       "  <thead>\n",
       "    <tr style=\"text-align: right;\">\n",
       "      <th></th>\n",
       "      <th>duration</th>\n",
       "      <th>station_A_id</th>\n",
       "      <th>station_A_name</th>\n",
       "      <th>station_B_id</th>\n",
       "      <th>station_B_name</th>\n",
       "      <th>bike_id</th>\n",
       "      <th>user_birth_year</th>\n",
       "      <th>user_gender</th>\n",
       "      <th>user_type_cat</th>\n",
       "      <th>duration_time</th>\n",
       "      <th>tire_sizes</th>\n",
       "      <th>ride_date</th>\n",
       "      <th>user_age</th>\n",
       "      <th>age_group</th>\n",
       "      <th>month</th>\n",
       "      <th>day</th>\n",
       "    </tr>\n",
       "  </thead>\n",
       "  <tbody>\n",
       "    <tr>\n",
       "      <th>0</th>\n",
       "      <td>12 minutes</td>\n",
       "      <td>81</td>\n",
       "      <td>Berry St at 4th St</td>\n",
       "      <td>323</td>\n",
       "      <td>Broadway at Kearny</td>\n",
       "      <td>5480</td>\n",
       "      <td>1959</td>\n",
       "      <td>Male</td>\n",
       "      <td>2</td>\n",
       "      <td>12</td>\n",
       "      <td>27</td>\n",
       "      <td>2020-06-05</td>\n",
       "      <td>62</td>\n",
       "      <td>Old</td>\n",
       "      <td>June</td>\n",
       "      <td>Friday</td>\n",
       "    </tr>\n",
       "    <tr>\n",
       "      <th>1</th>\n",
       "      <td>24 minutes</td>\n",
       "      <td>3</td>\n",
       "      <td>Powell St BART Station (Market St at 4th St)</td>\n",
       "      <td>118</td>\n",
       "      <td>Eureka Valley Recreation Center</td>\n",
       "      <td>5193</td>\n",
       "      <td>1965</td>\n",
       "      <td>Male</td>\n",
       "      <td>2</td>\n",
       "      <td>24</td>\n",
       "      <td>26</td>\n",
       "      <td>2019-07-29</td>\n",
       "      <td>56</td>\n",
       "      <td>Senior</td>\n",
       "      <td>July</td>\n",
       "      <td>Monday</td>\n",
       "    </tr>\n",
       "    <tr>\n",
       "      <th>2</th>\n",
       "      <td>8 minutes</td>\n",
       "      <td>67</td>\n",
       "      <td>San Francisco Caltrain Station 2  (Townsend St...</td>\n",
       "      <td>23</td>\n",
       "      <td>The Embarcadero at Steuart St</td>\n",
       "      <td>3652</td>\n",
       "      <td>1993</td>\n",
       "      <td>Male</td>\n",
       "      <td>3</td>\n",
       "      <td>8</td>\n",
       "      <td>27</td>\n",
       "      <td>2020-06-20</td>\n",
       "      <td>28</td>\n",
       "      <td>Young Adult</td>\n",
       "      <td>June</td>\n",
       "      <td>Saturday</td>\n",
       "    </tr>\n",
       "  </tbody>\n",
       "</table>\n",
       "</div>"
      ],
      "text/plain": [
       "     duration  station_A_id  \\\n",
       "0  12 minutes            81   \n",
       "1  24 minutes             3   \n",
       "2   8 minutes            67   \n",
       "\n",
       "                                      station_A_name  station_B_id  \\\n",
       "0                                 Berry St at 4th St           323   \n",
       "1       Powell St BART Station (Market St at 4th St)           118   \n",
       "2  San Francisco Caltrain Station 2  (Townsend St...            23   \n",
       "\n",
       "                    station_B_name  bike_id  user_birth_year user_gender  \\\n",
       "0               Broadway at Kearny     5480             1959        Male   \n",
       "1  Eureka Valley Recreation Center     5193             1965        Male   \n",
       "2    The Embarcadero at Steuart St     3652             1993        Male   \n",
       "\n",
       "  user_type_cat  duration_time tire_sizes  ride_date  user_age    age_group  \\\n",
       "0             2             12         27 2020-06-05        62          Old   \n",
       "1             2             24         26 2019-07-29        56       Senior   \n",
       "2             3              8         27 2020-06-20        28  Young Adult   \n",
       "\n",
       "  month       day  \n",
       "0  June    Friday  \n",
       "1  July    Monday  \n",
       "2  June  Saturday  "
      ]
     },
     "execution_count": 118,
     "metadata": {},
     "output_type": "execute_result"
    }
   ],
   "source": [
    "#Creating the column\n",
    "ride_sharing_1000['day'] = ride_sharing_1000.apply(lambda row: row['ride_date'].day_name(), axis = 1)\n",
    "ride_sharing_1000.head(3)"
   ]
  },
  {
   "cell_type": "code",
   "execution_count": 119,
   "metadata": {},
   "outputs": [
    {
     "data": {
      "text/plain": [
       "day\n",
       "Friday       373\n",
       "Monday       105\n",
       "Saturday     105\n",
       "Sunday       112\n",
       "Thursday      99\n",
       "Tuesday       93\n",
       "Wednesday    113\n",
       "Name: bike_id, dtype: int64"
      ]
     },
     "execution_count": 119,
     "metadata": {},
     "output_type": "execute_result"
    }
   ],
   "source": [
    "#Performing the groupby and count\n",
    "days = ride_sharing_1000.groupby('day')['bike_id'].count()\n",
    "days"
   ]
  },
  {
   "cell_type": "code",
   "execution_count": 122,
   "metadata": {},
   "outputs": [
    {
     "data": {
      "image/png": "[encoded data removed]",
      "text/plain": [
       "<Figure size 1440x720 with 1 Axes>"
      ]
     },
     "metadata": {},
     "output_type": "display_data"
    }
   ],
   "source": [
    "plt.figure(figsize = (20, 10))\n",
    "plt.plot(days, color = 'blue')\n",
    "plt.xlabel('Day of the Week')\n",
    "plt.ylabel('Number of Rides')\n",
    "plt.xticks(rotation = 45)\n",
    "plt.title('Days with highest number of rides irrespective of the years')\n",
    "plt.show()"
   ]
  },
  {
   "cell_type": "code",
   "execution_count": 124,
   "metadata": {},
   "outputs": [
    {
     "data": {
      "text/html": [
       "<div>\n",
       "<style scoped>\n",
       "    .dataframe tbody tr th:only-of-type {\n",
       "        vertical-align: middle;\n",
       "    }\n",
       "\n",
       "    .dataframe tbody tr th {\n",
       "        vertical-align: top;\n",
       "    }\n",
       "\n",
       "    .dataframe thead th {\n",
       "        text-align: right;\n",
       "    }\n",
       "</style>\n",
       "<table border=\"1\" class=\"dataframe\">\n",
       "  <thead>\n",
       "    <tr style=\"text-align: right;\">\n",
       "      <th></th>\n",
       "      <th>duration</th>\n",
       "      <th>station_A_id</th>\n",
       "      <th>station_A_name</th>\n",
       "      <th>station_B_id</th>\n",
       "      <th>station_B_name</th>\n",
       "      <th>bike_id</th>\n",
       "      <th>user_birth_year</th>\n",
       "      <th>user_gender</th>\n",
       "      <th>user_type_cat</th>\n",
       "      <th>duration_time</th>\n",
       "      <th>tire_sizes</th>\n",
       "      <th>ride_date</th>\n",
       "      <th>user_age</th>\n",
       "      <th>age_group</th>\n",
       "      <th>month</th>\n",
       "      <th>day</th>\n",
       "      <th>year</th>\n",
       "    </tr>\n",
       "  </thead>\n",
       "  <tbody>\n",
       "    <tr>\n",
       "      <th>0</th>\n",
       "      <td>12 minutes</td>\n",
       "      <td>81</td>\n",
       "      <td>Berry St at 4th St</td>\n",
       "      <td>323</td>\n",
       "      <td>Broadway at Kearny</td>\n",
       "      <td>5480</td>\n",
       "      <td>1959</td>\n",
       "      <td>Male</td>\n",
       "      <td>2</td>\n",
       "      <td>12</td>\n",
       "      <td>27</td>\n",
       "      <td>2020-06-05</td>\n",
       "      <td>62</td>\n",
       "      <td>Old</td>\n",
       "      <td>June</td>\n",
       "      <td>Friday</td>\n",
       "      <td>2020</td>\n",
       "    </tr>\n",
       "    <tr>\n",
       "      <th>1</th>\n",
       "      <td>24 minutes</td>\n",
       "      <td>3</td>\n",
       "      <td>Powell St BART Station (Market St at 4th St)</td>\n",
       "      <td>118</td>\n",
       "      <td>Eureka Valley Recreation Center</td>\n",
       "      <td>5193</td>\n",
       "      <td>1965</td>\n",
       "      <td>Male</td>\n",
       "      <td>2</td>\n",
       "      <td>24</td>\n",
       "      <td>26</td>\n",
       "      <td>2019-07-29</td>\n",
       "      <td>56</td>\n",
       "      <td>Senior</td>\n",
       "      <td>July</td>\n",
       "      <td>Monday</td>\n",
       "      <td>2019</td>\n",
       "    </tr>\n",
       "    <tr>\n",
       "      <th>2</th>\n",
       "      <td>8 minutes</td>\n",
       "      <td>67</td>\n",
       "      <td>San Francisco Caltrain Station 2  (Townsend St...</td>\n",
       "      <td>23</td>\n",
       "      <td>The Embarcadero at Steuart St</td>\n",
       "      <td>3652</td>\n",
       "      <td>1993</td>\n",
       "      <td>Male</td>\n",
       "      <td>3</td>\n",
       "      <td>8</td>\n",
       "      <td>27</td>\n",
       "      <td>2020-06-20</td>\n",
       "      <td>28</td>\n",
       "      <td>Young Adult</td>\n",
       "      <td>June</td>\n",
       "      <td>Saturday</td>\n",
       "      <td>2020</td>\n",
       "    </tr>\n",
       "  </tbody>\n",
       "</table>\n",
       "</div>"
      ],
      "text/plain": [
       "     duration  station_A_id  \\\n",
       "0  12 minutes            81   \n",
       "1  24 minutes             3   \n",
       "2   8 minutes            67   \n",
       "\n",
       "                                      station_A_name  station_B_id  \\\n",
       "0                                 Berry St at 4th St           323   \n",
       "1       Powell St BART Station (Market St at 4th St)           118   \n",
       "2  San Francisco Caltrain Station 2  (Townsend St...            23   \n",
       "\n",
       "                    station_B_name  bike_id  user_birth_year user_gender  \\\n",
       "0               Broadway at Kearny     5480             1959        Male   \n",
       "1  Eureka Valley Recreation Center     5193             1965        Male   \n",
       "2    The Embarcadero at Steuart St     3652             1993        Male   \n",
       "\n",
       "  user_type_cat  duration_time tire_sizes  ride_date  user_age    age_group  \\\n",
       "0             2             12         27 2020-06-05        62          Old   \n",
       "1             2             24         26 2019-07-29        56       Senior   \n",
       "2             3              8         27 2020-06-20        28  Young Adult   \n",
       "\n",
       "  month       day  year  \n",
       "0  June    Friday  2020  \n",
       "1  July    Monday  2019  \n",
       "2  June  Saturday  2020  "
      ]
     },
     "execution_count": 124,
     "metadata": {},
     "output_type": "execute_result"
    }
   ],
   "source": [
    "ride_sharing_1000['year'] = ride_sharing_1000.apply(lambda row: row['ride_date'].year, axis = 1)\n",
    "ride_sharing_1000.head(3)"
   ]
  },
  {
   "cell_type": "code",
   "execution_count": 125,
   "metadata": {},
   "outputs": [
    {
     "data": {
      "text/plain": [
       "year\n",
       "2017    163\n",
       "2018    145\n",
       "2019    180\n",
       "2020    186\n",
       "2021    326\n",
       "Name: bike_id, dtype: int64"
      ]
     },
     "execution_count": 125,
     "metadata": {},
     "output_type": "execute_result"
    }
   ],
   "source": [
    "#Performing the groupby and count\n",
    "years = ride_sharing_1000.groupby('year')['bike_id'].count()\n",
    "years"
   ]
  },
  {
   "cell_type": "code",
   "execution_count": 127,
   "metadata": {},
   "outputs": [
    {
     "data": {
      "image/png": "[encoded data removed]",
      "text/plain": [
       "<Figure size 1440x720 with 1 Axes>"
      ]
     },
     "metadata": {},
     "output_type": "display_data"
    }
   ],
   "source": [
    "plt.figure(figsize = (20, 10))\n",
    "plt.plot(years, color = 'blue')\n",
    "plt.xlabel('Year')\n",
    "plt.ylabel('Number of Rides')\n",
    "plt.xticks(rotation = 45)\n",
    "plt.title('Years with the highest number of rides')\n",
    "plt.show()"
   ]
  },
  {
   "cell_type": "code",
   "execution_count": null,
   "metadata": {},
   "outputs": [],
   "source": []
  }
 ],
 "metadata": {
  "kernelspec": {
   "display_name": "Python 3",
   "language": "python",
   "name": "python3"
  },
  "language_info": {
   "codemirror_mode": {
    "name": "ipython",
    "version": 3
   },
   "file_extension": ".py",
   "mimetype": "text/x-python",
   "name": "python",
   "nbconvert_exporter": "python",
   "pygments_lexer": "ipython3",
   "version": "3.8.5"
  }
 },
 "nbformat": 4,
 "nbformat_minor": 4
}
