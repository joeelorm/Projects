{
 "cells": [
  {
   "cell_type": "markdown",
   "metadata": {},
   "source": [
    "## Data Cleaning II\n",
    "\n",
    "This is a continuation of the Data Cleaning I project. This notebook takes care of other data cleaning techniques.\n",
    "\n",
    "#### Text & Categorical Data Problems\n",
    "Categorical and text data can often be some of the messiest parts of a dataset due to their unstructured nature. In this notebook, I’ll try to : \n",
    "- fix whitespace and capitalization inconsistencies in category labels \n",
    "- collapse multiple categories into one \n",
    "- and reformat strings for consistency\n",
    "\n",
    "The dataset to be used here is one that contains answers to survey questions on the San Francisco Airport from airline customers. The DataFrame contains flight metadata such as the airline, the destination, waiting times as well as answers to key questions regarding cleanliness, safety, and satisfaction. Another DataFrame named categories was created, containing all correct possible values for the survey columns."
   ]
  },
  {
   "cell_type": "code",
   "execution_count": 1,
   "metadata": {},
   "outputs": [],
   "source": [
    "import numpy as np\n",
    "import pandas as pd\n",
    "import matplotlib.pyplot as plt\n",
    "import seaborn as sns"
   ]
  },
  {
   "cell_type": "code",
   "execution_count": 2,
   "metadata": {},
   "outputs": [
    {
     "data": {
      "text/html": [
       "<div>\n",
       "<style scoped>\n",
       "    .dataframe tbody tr th:only-of-type {\n",
       "        vertical-align: middle;\n",
       "    }\n",
       "\n",
       "    .dataframe tbody tr th {\n",
       "        vertical-align: top;\n",
       "    }\n",
       "\n",
       "    .dataframe thead th {\n",
       "        text-align: right;\n",
       "    }\n",
       "</style>\n",
       "<table border=\"1\" class=\"dataframe\">\n",
       "  <thead>\n",
       "    <tr style=\"text-align: right;\">\n",
       "      <th></th>\n",
       "      <th>Unnamed: 0</th>\n",
       "      <th>id</th>\n",
       "      <th>day</th>\n",
       "      <th>airline</th>\n",
       "      <th>destination</th>\n",
       "      <th>dest_region</th>\n",
       "      <th>dest_size</th>\n",
       "      <th>boarding_area</th>\n",
       "      <th>dept_time</th>\n",
       "      <th>wait_min</th>\n",
       "      <th>cleanliness</th>\n",
       "      <th>safety</th>\n",
       "      <th>satisfaction</th>\n",
       "    </tr>\n",
       "  </thead>\n",
       "  <tbody>\n",
       "    <tr>\n",
       "      <th>0</th>\n",
       "      <td>0</td>\n",
       "      <td>1351</td>\n",
       "      <td>Tuesday</td>\n",
       "      <td>UNITED INTL</td>\n",
       "      <td>KANSAI</td>\n",
       "      <td>Asia</td>\n",
       "      <td>Hub</td>\n",
       "      <td>Gates 91-102</td>\n",
       "      <td>2018-12-31</td>\n",
       "      <td>115.0</td>\n",
       "      <td>Clean</td>\n",
       "      <td>Neutral</td>\n",
       "      <td>Very satisfied</td>\n",
       "    </tr>\n",
       "    <tr>\n",
       "      <th>1</th>\n",
       "      <td>1</td>\n",
       "      <td>373</td>\n",
       "      <td>Friday</td>\n",
       "      <td>ALASKA</td>\n",
       "      <td>SAN JOSE DEL CABO</td>\n",
       "      <td>Canada/Mexico</td>\n",
       "      <td>Small</td>\n",
       "      <td>Gates 50-59</td>\n",
       "      <td>2018-12-31</td>\n",
       "      <td>135.0</td>\n",
       "      <td>Clean</td>\n",
       "      <td>Very safe</td>\n",
       "      <td>Very satisfied</td>\n",
       "    </tr>\n",
       "    <tr>\n",
       "      <th>2</th>\n",
       "      <td>2</td>\n",
       "      <td>2820</td>\n",
       "      <td>Thursday</td>\n",
       "      <td>DELTA</td>\n",
       "      <td>LOS ANGELES</td>\n",
       "      <td>West US</td>\n",
       "      <td>Hub</td>\n",
       "      <td>Gates 40-48</td>\n",
       "      <td>2018-12-31</td>\n",
       "      <td>70.0</td>\n",
       "      <td>Average</td>\n",
       "      <td>Somewhat safe</td>\n",
       "      <td>Neutral</td>\n",
       "    </tr>\n",
       "  </tbody>\n",
       "</table>\n",
       "</div>"
      ],
      "text/plain": [
       "   Unnamed: 0    id       day      airline        destination    dest_region  \\\n",
       "0           0  1351   Tuesday  UNITED INTL             KANSAI           Asia   \n",
       "1           1   373    Friday       ALASKA  SAN JOSE DEL CABO  Canada/Mexico   \n",
       "2           2  2820  Thursday        DELTA        LOS ANGELES        West US   \n",
       "\n",
       "  dest_size boarding_area   dept_time  wait_min cleanliness         safety  \\\n",
       "0       Hub  Gates 91-102  2018-12-31     115.0       Clean        Neutral   \n",
       "1     Small   Gates 50-59  2018-12-31     135.0       Clean      Very safe   \n",
       "2       Hub   Gates 40-48  2018-12-31      70.0     Average  Somewhat safe   \n",
       "\n",
       "     satisfaction  \n",
       "0  Very satisfied  \n",
       "1  Very satisfied  \n",
       "2         Neutral  "
      ]
     },
     "execution_count": 2,
     "metadata": {},
     "output_type": "execute_result"
    }
   ],
   "source": [
    "#Loading airlines data \n",
    "airlines = pd.read_csv('../Datasets/airlines_final.csv')\n",
    "airlines.head(3)"
   ]
  },
  {
   "cell_type": "code",
   "execution_count": 3,
   "metadata": {},
   "outputs": [
    {
     "name": "stdout",
     "output_type": "stream",
     "text": [
      "      cleanliness           safety          satisfaction\n",
      "0           Clean          Neutral        Very satisfied\n",
      "1         Average        Very safe               neutral\n",
      "2  Somewhat clean    Somewhat safe    Somewhat satisfied\n",
      "3  Somewhat dirty      Very unsafe  Somewhat unsatisfied\n",
      "4           Dirty  Somewhat unsafe      Very unsatisfied\n"
     ]
    }
   ],
   "source": [
    "# Creating the categories dataframe\n",
    "\n",
    "#Creating the dictionary that will be used to create the dataframe\n",
    "data = {'cleanliness' : ['Clean', 'Average', 'Somewhat clean', 'Somewhat dirty', 'Dirty'],\n",
    "        'safety': ['Neutral', 'Very safe', 'Somewhat safe', 'Very unsafe', 'Somewhat unsafe'],\n",
    "        'satisfaction': ['Very satisfied', 'neutral', 'Somewhat satisfied', 'Somewhat unsatisfied', 'Very unsatisfied']\n",
    "       }\n",
    "\n",
    "#Creating the dataframe\n",
    "categories = pd.DataFrame(data)\n",
    "# Print categories DataFrame\n",
    "print(categories)"
   ]
  },
  {
   "cell_type": "markdown",
   "metadata": {},
   "source": [
    "In the airlines dataframe above, the entries in the columns `cleanliness`, `safety`, and `satisfaction` should match the those in the categories dataframe. \n",
    "\n",
    "Take a look at the output. Out of the cleanliness, safety and satisfaction columns, which one has an inconsistent category and what is it?"
   ]
  },
  {
   "cell_type": "code",
   "execution_count": 4,
   "metadata": {},
   "outputs": [
    {
     "name": "stdout",
     "output_type": "stream",
     "text": [
      "<class 'pandas.core.frame.DataFrame'>\n",
      "RangeIndex: 2477 entries, 0 to 2476\n",
      "Data columns (total 13 columns):\n",
      " #   Column         Non-Null Count  Dtype  \n",
      "---  ------         --------------  -----  \n",
      " 0   Unnamed: 0     2477 non-null   int64  \n",
      " 1   id             2477 non-null   int64  \n",
      " 2   day            2477 non-null   object \n",
      " 3   airline        2477 non-null   object \n",
      " 4   destination    2477 non-null   object \n",
      " 5   dest_region    2477 non-null   object \n",
      " 6   dest_size      2477 non-null   object \n",
      " 7   boarding_area  2477 non-null   object \n",
      " 8   dept_time      2477 non-null   object \n",
      " 9   wait_min       2477 non-null   float64\n",
      " 10  cleanliness    2477 non-null   object \n",
      " 11  safety         2477 non-null   object \n",
      " 12  satisfaction   2477 non-null   object \n",
      "dtypes: float64(1), int64(2), object(10)\n",
      "memory usage: 251.7+ KB\n"
     ]
    }
   ],
   "source": [
    "airlines.info()"
   ]
  },
  {
   "cell_type": "code",
   "execution_count": 5,
   "metadata": {},
   "outputs": [
    {
     "name": "stdout",
     "output_type": "stream",
     "text": [
      "set()\n",
      "set()\n",
      "{'Neutral', 'Somewhat satsified'}\n"
     ]
    }
   ],
   "source": [
    "#Checking the inconsistencies across the two dataframes categories and airlines \n",
    "inconsistent_categories = set(airlines['cleanliness']).difference(categories['cleanliness'])\n",
    "print(inconsistent_categories)\n",
    "\n",
    "inconsistent_categories1 = set(airlines['safety']).difference(categories['safety'])\n",
    "print(inconsistent_categories1)\n",
    "\n",
    "inconsistent_categories2 = set(airlines['satisfaction']).difference(categories['satisfaction'])\n",
    "print(inconsistent_categories2)"
   ]
  },
  {
   "cell_type": "markdown",
   "metadata": {},
   "source": [
    "Two inconsistent entries found in the satisfaction category. ('Neutral', Somewhat satsified')"
   ]
  },
  {
   "cell_type": "code",
   "execution_count": 6,
   "metadata": {},
   "outputs": [
    {
     "name": "stdout",
     "output_type": "stream",
     "text": [
      "{'Neutral', 'Somewhat satsified'}\n",
      "   Unnamed: 0    id        day     airline  destination    dest_region  \\\n",
      "2           2  2820   Thursday       DELTA  LOS ANGELES        West US   \n",
      "3           3  1157    Tuesday   SOUTHWEST  LOS ANGELES        West US   \n",
      "4           4  2992  Wednesday    AMERICAN        MIAMI        East US   \n",
      "6           6  2578   Saturday     JETBLUE   LONG BEACH        West US   \n",
      "7           8  2592   Saturday  AEROMEXICO  MEXICO CITY  Canada/Mexico   \n",
      "\n",
      "  dest_size boarding_area   dept_time  wait_min     cleanliness  \\\n",
      "2       Hub   Gates 40-48  2018-12-31      70.0         Average   \n",
      "3       Hub   Gates 20-39  2018-12-31     190.0           Clean   \n",
      "4       Hub   Gates 50-59  2018-12-31     559.0  Somewhat clean   \n",
      "6     Small    Gates 1-12  2018-12-31      63.0           Clean   \n",
      "7       Hub    Gates 1-12  2018-12-31     215.0  Somewhat clean   \n",
      "\n",
      "          safety        satisfaction  \n",
      "2  Somewhat safe             Neutral  \n",
      "3      Very safe  Somewhat satsified  \n",
      "4      Very safe  Somewhat satsified  \n",
      "6      Very safe  Somewhat satsified  \n",
      "7      Very safe             Neutral  \n"
     ]
    },
    {
     "data": {
      "text/plain": [
       "2477"
      ]
     },
     "execution_count": 6,
     "metadata": {},
     "output_type": "execute_result"
    }
   ],
   "source": [
    "# Find the safety category in airlines not in categories\n",
    "cat_satisfaction = set(airlines['satisfaction']).difference(categories['satisfaction'])\n",
    "print(cat_satisfaction)\n",
    "\n",
    "# Find rows with that category\n",
    "cat_satisfaction_rows = airlines['satisfaction'].isin(cat_satisfaction)\n",
    "print(airlines[cat_satisfaction_rows].head())\n",
    "len(cat_satisfaction_rows)"
   ]
  },
  {
   "cell_type": "markdown",
   "metadata": {},
   "source": [
    "#### Examining Dest Region (dest_region) and Dest size (dest_size) columns"
   ]
  },
  {
   "cell_type": "code",
   "execution_count": 7,
   "metadata": {},
   "outputs": [
    {
     "data": {
      "text/plain": [
       "array(['Asia', 'Canada/Mexico', 'West US', 'East US', 'Midwest US',\n",
       "       'EAST US', 'Middle East', 'Europe', 'eur', 'Central/South America',\n",
       "       'Australia/New Zealand', 'middle east'], dtype=object)"
      ]
     },
     "execution_count": 7,
     "metadata": {},
     "output_type": "execute_result"
    }
   ],
   "source": [
    "#Looking at all the different destination regions in the data \n",
    "airlines['dest_region'].unique()"
   ]
  },
  {
   "cell_type": "markdown",
   "metadata": {},
   "source": [
    "From the results of the above code, it can be seen that East US appears twice (one in all caps and the other 'East US) Europe has been coded as eur and Europe all at the same time. East US and EAST US represent the same place coded differently. These issues will be addressed in the next cell. "
   ]
  },
  {
   "cell_type": "code",
   "execution_count": 8,
   "metadata": {},
   "outputs": [
    {
     "name": "stdout",
     "output_type": "stream",
     "text": [
      "['asia' 'canada/mexico' 'west us' 'east us' 'midwest us' 'middle east'\n",
      " 'europe' 'eur' 'central/south america' 'australia/new zealand']\n",
      "\n",
      "10 different regions\n"
     ]
    }
   ],
   "source": [
    "#Converting the strings in dest_region to lower\n",
    "airlines['dest_region'] = airlines['dest_region'].str.lower()\n",
    "print(airlines['dest_region'].unique())\n",
    "print('')\n",
    "#Number of different dest_regions\n",
    "print(airlines['dest_region'].nunique(), 'different regions')"
   ]
  },
  {
   "cell_type": "code",
   "execution_count": 9,
   "metadata": {},
   "outputs": [
    {
     "name": "stdout",
     "output_type": "stream",
     "text": [
      "['asia' 'canada/mexico' 'west us' 'east us' 'midwest us' 'middle east'\n",
      " 'europe' 'central/south america' 'australia/new zealand']\n",
      "\n",
      "9 different regions after cleaning\n"
     ]
    }
   ],
   "source": [
    "#Changing eur to europe\n",
    "airlines['dest_region'] = airlines['dest_region'].replace({'eur':'europe'})\n",
    "print(airlines['dest_region'].unique())\n",
    "print('')\n",
    "#Number of different dest_regions\n",
    "print(airlines['dest_region'].nunique(), 'different regions after cleaning')"
   ]
  },
  {
   "cell_type": "code",
   "execution_count": 10,
   "metadata": {},
   "outputs": [
    {
     "data": {
      "text/plain": [
       "array(['Hub', 'Small', '    Hub', 'Medium', 'Large', 'Hub     ',\n",
       "       '    Small', 'Medium     ', '    Medium', 'Small     ',\n",
       "       '    Large', 'Large     '], dtype=object)"
      ]
     },
     "execution_count": 10,
     "metadata": {},
     "output_type": "execute_result"
    }
   ],
   "source": [
    "# Examining dest size column\n",
    "\n",
    "#Looking at the different destination sizes in the dest size column\n",
    "airlines['dest_size'].unique()"
   ]
  },
  {
   "cell_type": "markdown",
   "metadata": {},
   "source": [
    "There is a lot of needless white space around most of the text. eg 'Hub', 'Medium'."
   ]
  },
  {
   "cell_type": "code",
   "execution_count": null,
   "metadata": {},
   "outputs": [],
   "source": [
    "airlines"
   ]
  }
 ],
 "metadata": {
  "kernelspec": {
   "display_name": "Python 3",
   "language": "python",
   "name": "python3"
  },
  "language_info": {
   "codemirror_mode": {
    "name": "ipython",
    "version": 3
   },
   "file_extension": ".py",
   "mimetype": "text/x-python",
   "name": "python",
   "nbconvert_exporter": "python",
   "pygments_lexer": "ipython3",
   "version": "3.8.5"
  }
 },
 "nbformat": 4,
 "nbformat_minor": 4
}
