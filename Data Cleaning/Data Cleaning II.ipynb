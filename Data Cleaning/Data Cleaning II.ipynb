{
 "cells": [
  {
   "cell_type": "markdown",
   "metadata": {},
   "source": [
    "## Data Cleaning II\n",
    "\n",
    "This is a continuation of the Data Cleaning I project. This notebook takes care of other data cleaning techniques.\n",
    "\n",
    "#### Text & Categorical Data Problems\n",
    "Categorical and text data can often be some of the messiest parts of a dataset due to their unstructured nature. In this notebook, I’ll try to : \n",
    "- fix whitespace and capitalization inconsistencies in category labels \n",
    "- collapse multiple categories into one \n",
    "- and reformat strings for consistency\n",
    "\n",
    "The dataset to be used here is one that contains answers to survey questions on the San Francisco Airport from airline customers. The DataFrame contains flight metadata such as the airline, the destination, waiting times as well as answers to key questions regarding cleanliness, safety, and satisfaction. Another DataFrame named categories was created, containing all correct possible values for the survey columns."
   ]
  },
  {
   "cell_type": "code",
   "execution_count": 1,
   "metadata": {},
   "outputs": [],
   "source": [
    "import numpy as np\n",
    "import pandas as pd\n",
    "import matplotlib.pyplot as plt\n",
    "import seaborn as sns"
   ]
  },
  {
   "cell_type": "code",
   "execution_count": 2,
   "metadata": {},
   "outputs": [
    {
     "data": {
      "text/html": [
       "<div>\n",
       "<style scoped>\n",
       "    .dataframe tbody tr th:only-of-type {\n",
       "        vertical-align: middle;\n",
       "    }\n",
       "\n",
       "    .dataframe tbody tr th {\n",
       "        vertical-align: top;\n",
       "    }\n",
       "\n",
       "    .dataframe thead th {\n",
       "        text-align: right;\n",
       "    }\n",
       "</style>\n",
       "<table border=\"1\" class=\"dataframe\">\n",
       "  <thead>\n",
       "    <tr style=\"text-align: right;\">\n",
       "      <th></th>\n",
       "      <th>Unnamed: 0</th>\n",
       "      <th>id</th>\n",
       "      <th>day</th>\n",
       "      <th>airline</th>\n",
       "      <th>destination</th>\n",
       "      <th>dest_region</th>\n",
       "      <th>dest_size</th>\n",
       "      <th>boarding_area</th>\n",
       "      <th>dept_time</th>\n",
       "      <th>wait_min</th>\n",
       "      <th>cleanliness</th>\n",
       "      <th>safety</th>\n",
       "      <th>satisfaction</th>\n",
       "    </tr>\n",
       "  </thead>\n",
       "  <tbody>\n",
       "    <tr>\n",
       "      <th>0</th>\n",
       "      <td>0</td>\n",
       "      <td>1351</td>\n",
       "      <td>Tuesday</td>\n",
       "      <td>UNITED INTL</td>\n",
       "      <td>KANSAI</td>\n",
       "      <td>Asia</td>\n",
       "      <td>Hub</td>\n",
       "      <td>Gates 91-102</td>\n",
       "      <td>2018-12-31</td>\n",
       "      <td>115.0</td>\n",
       "      <td>Clean</td>\n",
       "      <td>Neutral</td>\n",
       "      <td>Very satisfied</td>\n",
       "    </tr>\n",
       "    <tr>\n",
       "      <th>1</th>\n",
       "      <td>1</td>\n",
       "      <td>373</td>\n",
       "      <td>Friday</td>\n",
       "      <td>ALASKA</td>\n",
       "      <td>SAN JOSE DEL CABO</td>\n",
       "      <td>Canada/Mexico</td>\n",
       "      <td>Small</td>\n",
       "      <td>Gates 50-59</td>\n",
       "      <td>2018-12-31</td>\n",
       "      <td>135.0</td>\n",
       "      <td>Clean</td>\n",
       "      <td>Very safe</td>\n",
       "      <td>Very satisfied</td>\n",
       "    </tr>\n",
       "    <tr>\n",
       "      <th>2</th>\n",
       "      <td>2</td>\n",
       "      <td>2820</td>\n",
       "      <td>Thursday</td>\n",
       "      <td>DELTA</td>\n",
       "      <td>LOS ANGELES</td>\n",
       "      <td>West US</td>\n",
       "      <td>Hub</td>\n",
       "      <td>Gates 40-48</td>\n",
       "      <td>2018-12-31</td>\n",
       "      <td>70.0</td>\n",
       "      <td>Average</td>\n",
       "      <td>Somewhat safe</td>\n",
       "      <td>Neutral</td>\n",
       "    </tr>\n",
       "  </tbody>\n",
       "</table>\n",
       "</div>"
      ],
      "text/plain": [
       "   Unnamed: 0    id       day      airline        destination    dest_region  \\\n",
       "0           0  1351   Tuesday  UNITED INTL             KANSAI           Asia   \n",
       "1           1   373    Friday       ALASKA  SAN JOSE DEL CABO  Canada/Mexico   \n",
       "2           2  2820  Thursday        DELTA        LOS ANGELES        West US   \n",
       "\n",
       "  dest_size boarding_area   dept_time  wait_min cleanliness         safety  \\\n",
       "0       Hub  Gates 91-102  2018-12-31     115.0       Clean        Neutral   \n",
       "1     Small   Gates 50-59  2018-12-31     135.0       Clean      Very safe   \n",
       "2       Hub   Gates 40-48  2018-12-31      70.0     Average  Somewhat safe   \n",
       "\n",
       "     satisfaction  \n",
       "0  Very satisfied  \n",
       "1  Very satisfied  \n",
       "2         Neutral  "
      ]
     },
     "execution_count": 2,
     "metadata": {},
     "output_type": "execute_result"
    }
   ],
   "source": [
    "#Loading airlines data \n",
    "airlines = pd.read_csv('../Datasets/airlines_final.csv')\n",
    "airlines.head(3)"
   ]
  },
  {
   "cell_type": "code",
   "execution_count": 3,
   "metadata": {},
   "outputs": [
    {
     "name": "stdout",
     "output_type": "stream",
     "text": [
      "      cleanliness           safety          satisfaction\n",
      "0           Clean          Neutral        Very satisfied\n",
      "1         Average        Very safe               neutral\n",
      "2  Somewhat clean    Somewhat safe    Somewhat satisfied\n",
      "3  Somewhat dirty      Very unsafe  Somewhat unsatisfied\n",
      "4           Dirty  Somewhat unsafe      Very unsatisfied\n"
     ]
    }
   ],
   "source": [
    "# Creating the categories dataframe\n",
    "\n",
    "#Creating the dictionary that will be used to create the dataframe\n",
    "data = {'cleanliness' : ['Clean', 'Average', 'Somewhat clean', 'Somewhat dirty', 'Dirty'],\n",
    "        'safety': ['Neutral', 'Very safe', 'Somewhat safe', 'Very unsafe', 'Somewhat unsafe'],\n",
    "        'satisfaction': ['Very satisfied', 'neutral', 'Somewhat satisfied', 'Somewhat unsatisfied', 'Very unsatisfied']\n",
    "       }\n",
    "\n",
    "#Creating the dataframe\n",
    "categories = pd.DataFrame(data)\n",
    "# Print categories DataFrame\n",
    "print(categories)"
   ]
  },
  {
   "cell_type": "markdown",
   "metadata": {},
   "source": [
    "In the airlines dataframe above, the entries in the columns `cleanliness`, `safety`, and `satisfaction` should match the those in the categories dataframe. \n",
    "\n",
    "Take a look at the output. Out of the cleanliness, safety and satisfaction columns, which one has an inconsistent category and what is it?"
   ]
  },
  {
   "cell_type": "code",
   "execution_count": 4,
   "metadata": {},
   "outputs": [
    {
     "name": "stdout",
     "output_type": "stream",
     "text": [
      "<class 'pandas.core.frame.DataFrame'>\n",
      "RangeIndex: 2477 entries, 0 to 2476\n",
      "Data columns (total 13 columns):\n",
      " #   Column         Non-Null Count  Dtype  \n",
      "---  ------         --------------  -----  \n",
      " 0   Unnamed: 0     2477 non-null   int64  \n",
      " 1   id             2477 non-null   int64  \n",
      " 2   day            2477 non-null   object \n",
      " 3   airline        2477 non-null   object \n",
      " 4   destination    2477 non-null   object \n",
      " 5   dest_region    2477 non-null   object \n",
      " 6   dest_size      2477 non-null   object \n",
      " 7   boarding_area  2477 non-null   object \n",
      " 8   dept_time      2477 non-null   object \n",
      " 9   wait_min       2477 non-null   float64\n",
      " 10  cleanliness    2477 non-null   object \n",
      " 11  safety         2477 non-null   object \n",
      " 12  satisfaction   2477 non-null   object \n",
      "dtypes: float64(1), int64(2), object(10)\n",
      "memory usage: 251.7+ KB\n"
     ]
    }
   ],
   "source": [
    "airlines.info()"
   ]
  },
  {
   "cell_type": "code",
   "execution_count": 5,
   "metadata": {},
   "outputs": [
    {
     "name": "stdout",
     "output_type": "stream",
     "text": [
      "set()\n",
      "set()\n",
      "{'Neutral', 'Somewhat satsified'}\n"
     ]
    }
   ],
   "source": [
    "#Checking the inconsistencies across the two dataframes categories and airlines \n",
    "inconsistent_categories = set(airlines['cleanliness']).difference(categories['cleanliness'])\n",
    "print(inconsistent_categories)\n",
    "\n",
    "inconsistent_categories1 = set(airlines['safety']).difference(categories['safety'])\n",
    "print(inconsistent_categories1)\n",
    "\n",
    "inconsistent_categories2 = set(airlines['satisfaction']).difference(categories['satisfaction'])\n",
    "print(inconsistent_categories2)"
   ]
  },
  {
   "cell_type": "markdown",
   "metadata": {},
   "source": [
    "Two inconsistent entries found in the satisfaction category. ('Neutral', Somewhat satsified')"
   ]
  },
  {
   "cell_type": "code",
   "execution_count": 6,
   "metadata": {},
   "outputs": [
    {
     "name": "stdout",
     "output_type": "stream",
     "text": [
      "{'Neutral', 'Somewhat satsified'}\n",
      "   Unnamed: 0    id        day     airline  destination    dest_region  \\\n",
      "2           2  2820   Thursday       DELTA  LOS ANGELES        West US   \n",
      "3           3  1157    Tuesday   SOUTHWEST  LOS ANGELES        West US   \n",
      "4           4  2992  Wednesday    AMERICAN        MIAMI        East US   \n",
      "6           6  2578   Saturday     JETBLUE   LONG BEACH        West US   \n",
      "7           8  2592   Saturday  AEROMEXICO  MEXICO CITY  Canada/Mexico   \n",
      "\n",
      "  dest_size boarding_area   dept_time  wait_min     cleanliness  \\\n",
      "2       Hub   Gates 40-48  2018-12-31      70.0         Average   \n",
      "3       Hub   Gates 20-39  2018-12-31     190.0           Clean   \n",
      "4       Hub   Gates 50-59  2018-12-31     559.0  Somewhat clean   \n",
      "6     Small    Gates 1-12  2018-12-31      63.0           Clean   \n",
      "7       Hub    Gates 1-12  2018-12-31     215.0  Somewhat clean   \n",
      "\n",
      "          safety        satisfaction  \n",
      "2  Somewhat safe             Neutral  \n",
      "3      Very safe  Somewhat satsified  \n",
      "4      Very safe  Somewhat satsified  \n",
      "6      Very safe  Somewhat satsified  \n",
      "7      Very safe             Neutral  \n"
     ]
    },
    {
     "data": {
      "text/plain": [
       "2477"
      ]
     },
     "execution_count": 6,
     "metadata": {},
     "output_type": "execute_result"
    }
   ],
   "source": [
    "# Find the safety category in airlines not in categories\n",
    "cat_satisfaction = set(airlines['satisfaction']).difference(categories['satisfaction'])\n",
    "print(cat_satisfaction)\n",
    "\n",
    "# Find rows with that category\n",
    "cat_satisfaction_rows = airlines['satisfaction'].isin(cat_satisfaction)\n",
    "print(airlines[cat_satisfaction_rows].head())\n",
    "len(cat_satisfaction_rows)"
   ]
  },
  {
   "cell_type": "markdown",
   "metadata": {},
   "source": [
    "#### Examining Dest Region (dest_region) and Dest size (dest_size) columns"
   ]
  },
  {
   "cell_type": "code",
   "execution_count": 7,
   "metadata": {},
   "outputs": [
    {
     "data": {
      "text/plain": [
       "array(['Asia', 'Canada/Mexico', 'West US', 'East US', 'Midwest US',\n",
       "       'EAST US', 'Middle East', 'Europe', 'eur', 'Central/South America',\n",
       "       'Australia/New Zealand', 'middle east'], dtype=object)"
      ]
     },
     "execution_count": 7,
     "metadata": {},
     "output_type": "execute_result"
    }
   ],
   "source": [
    "#Looking at all the different destination regions in the data \n",
    "airlines['dest_region'].unique()"
   ]
  },
  {
   "cell_type": "markdown",
   "metadata": {},
   "source": [
    "From the results of the above code, it can be seen that East US appears twice (one in all caps and the other 'East US) Europe has been coded as eur and Europe all at the same time. East US and EAST US represent the same place coded differently. These issues will be addressed in the next cell. "
   ]
  },
  {
   "cell_type": "code",
   "execution_count": 8,
   "metadata": {},
   "outputs": [
    {
     "name": "stdout",
     "output_type": "stream",
     "text": [
      "['asia' 'canada/mexico' 'west us' 'east us' 'midwest us' 'middle east'\n",
      " 'europe' 'eur' 'central/south america' 'australia/new zealand']\n",
      "\n",
      "10 different regions\n"
     ]
    }
   ],
   "source": [
    "#Converting the strings in dest_region to lower\n",
    "airlines['dest_region'] = airlines['dest_region'].str.lower()\n",
    "print(airlines['dest_region'].unique())\n",
    "print('')\n",
    "#Number of different dest_regions\n",
    "print(airlines['dest_region'].nunique(), 'different regions')"
   ]
  },
  {
   "cell_type": "code",
   "execution_count": 9,
   "metadata": {},
   "outputs": [
    {
     "name": "stdout",
     "output_type": "stream",
     "text": [
      "['asia' 'canada/mexico' 'west us' 'east us' 'midwest us' 'middle east'\n",
      " 'europe' 'central/south america' 'australia/new zealand']\n",
      "\n",
      "9 different regions after cleaning\n"
     ]
    }
   ],
   "source": [
    "#Changing eur to europe\n",
    "airlines['dest_region'] = airlines['dest_region'].replace({'eur':'europe'})\n",
    "print(airlines['dest_region'].unique())\n",
    "print('')\n",
    "#Number of different dest_regions\n",
    "print(airlines['dest_region'].nunique(), 'different regions after cleaning')"
   ]
  },
  {
   "cell_type": "code",
   "execution_count": 10,
   "metadata": {},
   "outputs": [
    {
     "data": {
      "text/plain": [
       "array(['Hub', 'Small', '    Hub', 'Medium', 'Large', 'Hub     ',\n",
       "       '    Small', 'Medium     ', '    Medium', 'Small     ',\n",
       "       '    Large', 'Large     '], dtype=object)"
      ]
     },
     "execution_count": 10,
     "metadata": {},
     "output_type": "execute_result"
    }
   ],
   "source": [
    "# Examining dest size column\n",
    "\n",
    "#Looking at the different destination sizes in the dest size column\n",
    "airlines['dest_size'].unique()"
   ]
  },
  {
   "cell_type": "markdown",
   "metadata": {},
   "source": [
    "There is a lot of needless white space around most of the text. eg 'Hub', 'Medium'."
   ]
  },
  {
   "cell_type": "code",
   "execution_count": 11,
   "metadata": {},
   "outputs": [
    {
     "data": {
      "text/plain": [
       "array(['Hub', 'Small', 'Medium', 'Large'], dtype=object)"
      ]
     },
     "execution_count": 11,
     "metadata": {},
     "output_type": "execute_result"
    }
   ],
   "source": [
    "#Removing the white spaces\n",
    "airlines['dest_size'] = airlines['dest_size'].str.strip(' ')\n",
    "airlines['dest_size'].unique()"
   ]
  },
  {
   "cell_type": "markdown",
   "metadata": {},
   "source": [
    "#### The Waiting Time Column (wait_min)\n",
    " "
   ]
  },
  {
   "cell_type": "code",
   "execution_count": 12,
   "metadata": {},
   "outputs": [
    {
     "name": "stdout",
     "output_type": "stream",
     "text": [
      "The least waiting time is 15.0 minutes.\n",
      "The maximum waiting time is 1365.0 minutes\n"
     ]
    }
   ],
   "source": [
    "#Min and Max waiting times\n",
    "print('The least waiting time is', round(airlines['wait_min'].min(),2), 'minutes.')\n",
    "print('The maximum waiting time is', round(airlines['wait_min'].max(), 2), 'minutes')"
   ]
  },
  {
   "cell_type": "markdown",
   "metadata": {},
   "source": [
    "It will be necessary to put the number of minutes spent at the airports into ranges to help with analysis. For example, 0 - 60 minutes will be termed as 'short', 61 - 180 minutes as long and so on. "
   ]
  },
  {
   "cell_type": "code",
   "execution_count": 13,
   "metadata": {},
   "outputs": [
    {
     "data": {
      "text/plain": [
       "0    medium\n",
       "1    medium\n",
       "2    medium\n",
       "Name: wait_type, dtype: category\n",
       "Categories (3, object): ['short' < 'medium' < 'long']"
      ]
     },
     "execution_count": 13,
     "metadata": {},
     "output_type": "execute_result"
    }
   ],
   "source": [
    "#Creating the ranges for the wait times and storing it in a column called wait_type\n",
    "bins = [0, 60, 180, np.inf] # The ranges in which the times will be put\n",
    "label_names = ['short', 'medium', 'long'] #The names the wait types will be called by\n",
    "airlines['wait_type'] = pd.cut(airlines['wait_min'], bins = bins, labels = label_names)\n",
    "\n",
    "#Verifying the changes\n",
    "airlines['wait_type'][:3]"
   ]
  },
  {
   "cell_type": "markdown",
   "metadata": {},
   "source": [
    "The dataset being used here has been updated with the names of the first 200 passengers and provided it in a file called extras.py. The names will be loaded from this file and stored in a column in the dataframe."
   ]
  },
  {
   "cell_type": "code",
   "execution_count": 14,
   "metadata": {},
   "outputs": [],
   "source": [
    "from extras import names"
   ]
  },
  {
   "cell_type": "code",
   "execution_count": 15,
   "metadata": {},
   "outputs": [
    {
     "data": {
      "text/html": [
       "<div>\n",
       "<style scoped>\n",
       "    .dataframe tbody tr th:only-of-type {\n",
       "        vertical-align: middle;\n",
       "    }\n",
       "\n",
       "    .dataframe tbody tr th {\n",
       "        vertical-align: top;\n",
       "    }\n",
       "\n",
       "    .dataframe thead th {\n",
       "        text-align: right;\n",
       "    }\n",
       "</style>\n",
       "<table border=\"1\" class=\"dataframe\">\n",
       "  <thead>\n",
       "    <tr style=\"text-align: right;\">\n",
       "      <th></th>\n",
       "      <th>Unnamed: 0</th>\n",
       "      <th>id</th>\n",
       "      <th>full_name</th>\n",
       "      <th>day</th>\n",
       "      <th>airline</th>\n",
       "      <th>destination</th>\n",
       "      <th>dest_region</th>\n",
       "      <th>dest_size</th>\n",
       "      <th>boarding_area</th>\n",
       "      <th>dept_time</th>\n",
       "      <th>wait_min</th>\n",
       "      <th>cleanliness</th>\n",
       "      <th>safety</th>\n",
       "      <th>satisfaction</th>\n",
       "      <th>wait_type</th>\n",
       "    </tr>\n",
       "  </thead>\n",
       "  <tbody>\n",
       "    <tr>\n",
       "      <th>0</th>\n",
       "      <td>0</td>\n",
       "      <td>1351</td>\n",
       "      <td>Melodie Stuart</td>\n",
       "      <td>Tuesday</td>\n",
       "      <td>UNITED INTL</td>\n",
       "      <td>KANSAI</td>\n",
       "      <td>asia</td>\n",
       "      <td>Hub</td>\n",
       "      <td>Gates 91-102</td>\n",
       "      <td>2018-12-31</td>\n",
       "      <td>115.0</td>\n",
       "      <td>Clean</td>\n",
       "      <td>Neutral</td>\n",
       "      <td>Very satisfied</td>\n",
       "      <td>medium</td>\n",
       "    </tr>\n",
       "    <tr>\n",
       "      <th>1</th>\n",
       "      <td>1</td>\n",
       "      <td>373</td>\n",
       "      <td>Dominic Shannon</td>\n",
       "      <td>Friday</td>\n",
       "      <td>ALASKA</td>\n",
       "      <td>SAN JOSE DEL CABO</td>\n",
       "      <td>canada/mexico</td>\n",
       "      <td>Small</td>\n",
       "      <td>Gates 50-59</td>\n",
       "      <td>2018-12-31</td>\n",
       "      <td>135.0</td>\n",
       "      <td>Clean</td>\n",
       "      <td>Very safe</td>\n",
       "      <td>Very satisfied</td>\n",
       "      <td>medium</td>\n",
       "    </tr>\n",
       "    <tr>\n",
       "      <th>2</th>\n",
       "      <td>2</td>\n",
       "      <td>2820</td>\n",
       "      <td>Quintessa Tillman</td>\n",
       "      <td>Thursday</td>\n",
       "      <td>DELTA</td>\n",
       "      <td>LOS ANGELES</td>\n",
       "      <td>west us</td>\n",
       "      <td>Hub</td>\n",
       "      <td>Gates 40-48</td>\n",
       "      <td>2018-12-31</td>\n",
       "      <td>70.0</td>\n",
       "      <td>Average</td>\n",
       "      <td>Somewhat safe</td>\n",
       "      <td>Neutral</td>\n",
       "      <td>medium</td>\n",
       "    </tr>\n",
       "  </tbody>\n",
       "</table>\n",
       "</div>"
      ],
      "text/plain": [
       "   Unnamed: 0    id          full_name       day      airline  \\\n",
       "0           0  1351     Melodie Stuart   Tuesday  UNITED INTL   \n",
       "1           1   373    Dominic Shannon    Friday       ALASKA   \n",
       "2           2  2820  Quintessa Tillman  Thursday        DELTA   \n",
       "\n",
       "         destination    dest_region dest_size boarding_area   dept_time  \\\n",
       "0             KANSAI           asia       Hub  Gates 91-102  2018-12-31   \n",
       "1  SAN JOSE DEL CABO  canada/mexico     Small   Gates 50-59  2018-12-31   \n",
       "2        LOS ANGELES        west us       Hub   Gates 40-48  2018-12-31   \n",
       "\n",
       "   wait_min cleanliness         safety    satisfaction wait_type  \n",
       "0     115.0       Clean        Neutral  Very satisfied    medium  \n",
       "1     135.0       Clean      Very safe  Very satisfied    medium  \n",
       "2      70.0     Average  Somewhat safe         Neutral    medium  "
      ]
     },
     "execution_count": 15,
     "metadata": {},
     "output_type": "execute_result"
    }
   ],
   "source": [
    "#Getting the first 200 rowsfrom the dataframe\n",
    "airlines_200 = airlines.loc[0:199].copy()\n",
    "#Inserting the names as a column in position 2 in the dataframe\n",
    "airlines_200.insert(loc = 2, column = 'full_name', value = names)\n",
    "airlines_200.head(3)"
   ]
  },
  {
   "cell_type": "code",
   "execution_count": 16,
   "metadata": {},
   "outputs": [
    {
     "data": {
      "text/html": [
       "<div>\n",
       "<style scoped>\n",
       "    .dataframe tbody tr th:only-of-type {\n",
       "        vertical-align: middle;\n",
       "    }\n",
       "\n",
       "    .dataframe tbody tr th {\n",
       "        vertical-align: top;\n",
       "    }\n",
       "\n",
       "    .dataframe thead th {\n",
       "        text-align: right;\n",
       "    }\n",
       "</style>\n",
       "<table border=\"1\" class=\"dataframe\">\n",
       "  <thead>\n",
       "    <tr style=\"text-align: right;\">\n",
       "      <th></th>\n",
       "      <th>id</th>\n",
       "      <th>full_name</th>\n",
       "      <th>day</th>\n",
       "      <th>airline</th>\n",
       "      <th>destination</th>\n",
       "      <th>dest_region</th>\n",
       "      <th>dest_size</th>\n",
       "      <th>boarding_area</th>\n",
       "      <th>dept_time</th>\n",
       "      <th>wait_min</th>\n",
       "      <th>cleanliness</th>\n",
       "      <th>safety</th>\n",
       "      <th>satisfaction</th>\n",
       "      <th>wait_type</th>\n",
       "    </tr>\n",
       "  </thead>\n",
       "  <tbody>\n",
       "    <tr>\n",
       "      <th>0</th>\n",
       "      <td>1351</td>\n",
       "      <td>Melodie Stuart</td>\n",
       "      <td>Tuesday</td>\n",
       "      <td>UNITED INTL</td>\n",
       "      <td>KANSAI</td>\n",
       "      <td>asia</td>\n",
       "      <td>Hub</td>\n",
       "      <td>Gates 91-102</td>\n",
       "      <td>2018-12-31</td>\n",
       "      <td>115.0</td>\n",
       "      <td>Clean</td>\n",
       "      <td>Neutral</td>\n",
       "      <td>Very satisfied</td>\n",
       "      <td>medium</td>\n",
       "    </tr>\n",
       "    <tr>\n",
       "      <th>1</th>\n",
       "      <td>373</td>\n",
       "      <td>Dominic Shannon</td>\n",
       "      <td>Friday</td>\n",
       "      <td>ALASKA</td>\n",
       "      <td>SAN JOSE DEL CABO</td>\n",
       "      <td>canada/mexico</td>\n",
       "      <td>Small</td>\n",
       "      <td>Gates 50-59</td>\n",
       "      <td>2018-12-31</td>\n",
       "      <td>135.0</td>\n",
       "      <td>Clean</td>\n",
       "      <td>Very safe</td>\n",
       "      <td>Very satisfied</td>\n",
       "      <td>medium</td>\n",
       "    </tr>\n",
       "    <tr>\n",
       "      <th>2</th>\n",
       "      <td>2820</td>\n",
       "      <td>Quintessa Tillman</td>\n",
       "      <td>Thursday</td>\n",
       "      <td>DELTA</td>\n",
       "      <td>LOS ANGELES</td>\n",
       "      <td>west us</td>\n",
       "      <td>Hub</td>\n",
       "      <td>Gates 40-48</td>\n",
       "      <td>2018-12-31</td>\n",
       "      <td>70.0</td>\n",
       "      <td>Average</td>\n",
       "      <td>Somewhat safe</td>\n",
       "      <td>Neutral</td>\n",
       "      <td>medium</td>\n",
       "    </tr>\n",
       "  </tbody>\n",
       "</table>\n",
       "</div>"
      ],
      "text/plain": [
       "     id          full_name       day      airline        destination  \\\n",
       "0  1351     Melodie Stuart   Tuesday  UNITED INTL             KANSAI   \n",
       "1   373    Dominic Shannon    Friday       ALASKA  SAN JOSE DEL CABO   \n",
       "2  2820  Quintessa Tillman  Thursday        DELTA        LOS ANGELES   \n",
       "\n",
       "     dest_region dest_size boarding_area   dept_time  wait_min cleanliness  \\\n",
       "0           asia       Hub  Gates 91-102  2018-12-31     115.0       Clean   \n",
       "1  canada/mexico     Small   Gates 50-59  2018-12-31     135.0       Clean   \n",
       "2        west us       Hub   Gates 40-48  2018-12-31      70.0     Average   \n",
       "\n",
       "          safety    satisfaction wait_type  \n",
       "0        Neutral  Very satisfied    medium  \n",
       "1      Very safe  Very satisfied    medium  \n",
       "2  Somewhat safe         Neutral    medium  "
      ]
     },
     "execution_count": 16,
     "metadata": {},
     "output_type": "execute_result"
    }
   ],
   "source": [
    "#Dropping the unneccessary column named Unnamed:0 \n",
    "airlines_200.drop('Unnamed: 0', axis = 1, inplace = True)\n",
    "airlines_200.head(3)"
   ]
  },
  {
   "cell_type": "markdown",
   "metadata": {},
   "source": [
    "The client wants a seprate columns for first name and last name. In order to do that, we need to drop all the honorary titles. The titles include 'Dr.', 'Mr.', 'Miss', 'Ms.', 'Mrs.'"
   ]
  },
  {
   "cell_type": "code",
   "execution_count": 17,
   "metadata": {},
   "outputs": [
    {
     "data": {
      "text/plain": [
       "0             Melodie Stuart\n",
       "1            Dominic Shannon\n",
       "2          Quintessa Tillman\n",
       "3    Dr. Christine Nicholson\n",
       "4            Regina Clements\n",
       "5            Colleen Harding\n",
       "6            Kaitlin Cochran\n",
       "7               Molly Norton\n",
       "8               Richard Lott\n",
       "9             Matthew Nguyen\n",
       "Name: full_name, dtype: object"
      ]
     },
     "execution_count": 17,
     "metadata": {},
     "output_type": "execute_result"
    }
   ],
   "source": [
    "#Looking at the first 10 full_names\n",
    "airlines_200['full_name'][:10]"
   ]
  },
  {
   "cell_type": "code",
   "execution_count": 18,
   "metadata": {},
   "outputs": [
    {
     "data": {
      "text/plain": [
       "190      Mr. Eaton Vazquez\n",
       "191          Silas Clemons\n",
       "192            Quinn Barry\n",
       "193            Orson Pratt\n",
       "194        Constance Morse\n",
       "195       Ms. Vanna Rivera\n",
       "196        Miss Venus Lowe\n",
       "197        Amethyst Nieves\n",
       "198    Miss Vivian Foreman\n",
       "199     Miss Wendy Griffin\n",
       "Name: full_name, dtype: object"
      ]
     },
     "execution_count": 18,
     "metadata": {},
     "output_type": "execute_result"
    }
   ],
   "source": [
    "#Looking at the last 10 full_names\n",
    "airlines_200['full_name'][-10:]"
   ]
  },
  {
   "cell_type": "code",
   "execution_count": 19,
   "metadata": {},
   "outputs": [],
   "source": [
    "# Replace \"Dr.\" with empty string \"\"\n",
    "airlines_200['full_name'] = airlines_200['full_name'].str.replace(\"Dr.\", \"\")\n",
    "\n",
    "# Replace \"Mr.\" with empty string \"\"\n",
    "airlines_200['full_name'] = airlines_200['full_name'].str.replace(\"Mr.\", \"\")\n",
    "\n",
    "# Replace \"Miss\" with empty string \"\"\n",
    "airlines_200['full_name'] = airlines_200['full_name'].str.replace(\"Miss\", \"\")\n",
    "\n",
    "# Replace \"Ms.\" with empty string \"\"\n",
    "airlines_200['full_name'] = airlines_200['full_name'].str.replace(\"Ms.\", \"\")\n",
    "\n",
    "# Assert that full_name has no honorifics\n",
    "assert airlines_200['full_name'].str.contains('Ms.|Mr.|Miss|Dr.').any() == False"
   ]
  },
  {
   "cell_type": "code",
   "execution_count": 20,
   "metadata": {},
   "outputs": [
    {
     "data": {
      "text/html": [
       "<div>\n",
       "<style scoped>\n",
       "    .dataframe tbody tr th:only-of-type {\n",
       "        vertical-align: middle;\n",
       "    }\n",
       "\n",
       "    .dataframe tbody tr th {\n",
       "        vertical-align: top;\n",
       "    }\n",
       "\n",
       "    .dataframe thead th {\n",
       "        text-align: right;\n",
       "    }\n",
       "</style>\n",
       "<table border=\"1\" class=\"dataframe\">\n",
       "  <thead>\n",
       "    <tr style=\"text-align: right;\">\n",
       "      <th></th>\n",
       "      <th>id</th>\n",
       "      <th>full_name</th>\n",
       "      <th>day</th>\n",
       "      <th>airline</th>\n",
       "      <th>destination</th>\n",
       "      <th>dest_region</th>\n",
       "      <th>dest_size</th>\n",
       "      <th>boarding_area</th>\n",
       "      <th>dept_time</th>\n",
       "      <th>wait_min</th>\n",
       "      <th>cleanliness</th>\n",
       "      <th>safety</th>\n",
       "      <th>satisfaction</th>\n",
       "      <th>wait_type</th>\n",
       "      <th>first_name</th>\n",
       "      <th>last_name</th>\n",
       "    </tr>\n",
       "  </thead>\n",
       "  <tbody>\n",
       "    <tr>\n",
       "      <th>0</th>\n",
       "      <td>1351</td>\n",
       "      <td>Melodie Stuart</td>\n",
       "      <td>Tuesday</td>\n",
       "      <td>UNITED INTL</td>\n",
       "      <td>KANSAI</td>\n",
       "      <td>asia</td>\n",
       "      <td>Hub</td>\n",
       "      <td>Gates 91-102</td>\n",
       "      <td>2018-12-31</td>\n",
       "      <td>115.0</td>\n",
       "      <td>Clean</td>\n",
       "      <td>Neutral</td>\n",
       "      <td>Very satisfied</td>\n",
       "      <td>medium</td>\n",
       "      <td>Melodie</td>\n",
       "      <td>Stuart</td>\n",
       "    </tr>\n",
       "    <tr>\n",
       "      <th>1</th>\n",
       "      <td>373</td>\n",
       "      <td>Dominic Shannon</td>\n",
       "      <td>Friday</td>\n",
       "      <td>ALASKA</td>\n",
       "      <td>SAN JOSE DEL CABO</td>\n",
       "      <td>canada/mexico</td>\n",
       "      <td>Small</td>\n",
       "      <td>Gates 50-59</td>\n",
       "      <td>2018-12-31</td>\n",
       "      <td>135.0</td>\n",
       "      <td>Clean</td>\n",
       "      <td>Very safe</td>\n",
       "      <td>Very satisfied</td>\n",
       "      <td>medium</td>\n",
       "      <td>Dominic</td>\n",
       "      <td>Shannon</td>\n",
       "    </tr>\n",
       "    <tr>\n",
       "      <th>2</th>\n",
       "      <td>2820</td>\n",
       "      <td>Quintessa Tillman</td>\n",
       "      <td>Thursday</td>\n",
       "      <td>DELTA</td>\n",
       "      <td>LOS ANGELES</td>\n",
       "      <td>west us</td>\n",
       "      <td>Hub</td>\n",
       "      <td>Gates 40-48</td>\n",
       "      <td>2018-12-31</td>\n",
       "      <td>70.0</td>\n",
       "      <td>Average</td>\n",
       "      <td>Somewhat safe</td>\n",
       "      <td>Neutral</td>\n",
       "      <td>medium</td>\n",
       "      <td>Quintessa</td>\n",
       "      <td>Tillman</td>\n",
       "    </tr>\n",
       "  </tbody>\n",
       "</table>\n",
       "</div>"
      ],
      "text/plain": [
       "     id          full_name       day      airline        destination  \\\n",
       "0  1351     Melodie Stuart   Tuesday  UNITED INTL             KANSAI   \n",
       "1   373    Dominic Shannon    Friday       ALASKA  SAN JOSE DEL CABO   \n",
       "2  2820  Quintessa Tillman  Thursday        DELTA        LOS ANGELES   \n",
       "\n",
       "     dest_region dest_size boarding_area   dept_time  wait_min cleanliness  \\\n",
       "0           asia       Hub  Gates 91-102  2018-12-31     115.0       Clean   \n",
       "1  canada/mexico     Small   Gates 50-59  2018-12-31     135.0       Clean   \n",
       "2        west us       Hub   Gates 40-48  2018-12-31      70.0     Average   \n",
       "\n",
       "          safety    satisfaction wait_type first_name last_name  \n",
       "0        Neutral  Very satisfied    medium    Melodie    Stuart  \n",
       "1      Very safe  Very satisfied    medium    Dominic   Shannon  \n",
       "2  Somewhat safe         Neutral    medium  Quintessa   Tillman  "
      ]
     },
     "execution_count": 20,
     "metadata": {},
     "output_type": "execute_result"
    }
   ],
   "source": [
    "#Creating the first name and last name columns \n",
    "airlines_200['first_name'] = airlines_200.apply(lambda row: row['full_name'].strip().split(' ')[0], axis = 1)\n",
    "airlines_200['last_name'] = airlines_200.apply(lambda row: row['full_name'].strip().split(' ')[1], axis = 1)\n",
    "airlines_200.head(3)"
   ]
  },
  {
   "cell_type": "markdown",
   "metadata": {},
   "source": [
    "The weekdays can be grouped as either a weekday or weekend."
   ]
  },
  {
   "cell_type": "code",
   "execution_count": 21,
   "metadata": {},
   "outputs": [],
   "source": [
    "# Create mappings and replace\n",
    "mappings = {'Monday':'weekday', 'Tuesday':'weekday', 'Wednesday': 'weekday', \n",
    "            'Thursday': 'weekday', 'Friday': 'weekday', \n",
    "            'Saturday': 'weekend', 'Sunday': 'weekend'}\n",
    "\n",
    "airlines_200['day_week'] = airlines['day'].replace(mappings)"
   ]
  },
  {
   "cell_type": "code",
   "execution_count": 22,
   "metadata": {},
   "outputs": [
    {
     "data": {
      "text/html": [
       "<div>\n",
       "<style scoped>\n",
       "    .dataframe tbody tr th:only-of-type {\n",
       "        vertical-align: middle;\n",
       "    }\n",
       "\n",
       "    .dataframe tbody tr th {\n",
       "        vertical-align: top;\n",
       "    }\n",
       "\n",
       "    .dataframe thead th {\n",
       "        text-align: right;\n",
       "    }\n",
       "</style>\n",
       "<table border=\"1\" class=\"dataframe\">\n",
       "  <thead>\n",
       "    <tr style=\"text-align: right;\">\n",
       "      <th></th>\n",
       "      <th>id</th>\n",
       "      <th>full_name</th>\n",
       "      <th>day</th>\n",
       "      <th>airline</th>\n",
       "      <th>destination</th>\n",
       "      <th>dest_region</th>\n",
       "      <th>dest_size</th>\n",
       "      <th>boarding_area</th>\n",
       "      <th>dept_time</th>\n",
       "      <th>wait_min</th>\n",
       "      <th>cleanliness</th>\n",
       "      <th>safety</th>\n",
       "      <th>satisfaction</th>\n",
       "      <th>wait_type</th>\n",
       "      <th>first_name</th>\n",
       "      <th>last_name</th>\n",
       "      <th>day_week</th>\n",
       "    </tr>\n",
       "  </thead>\n",
       "  <tbody>\n",
       "    <tr>\n",
       "      <th>0</th>\n",
       "      <td>1351</td>\n",
       "      <td>Melodie Stuart</td>\n",
       "      <td>Tuesday</td>\n",
       "      <td>UNITED INTL</td>\n",
       "      <td>KANSAI</td>\n",
       "      <td>asia</td>\n",
       "      <td>Hub</td>\n",
       "      <td>Gates 91-102</td>\n",
       "      <td>2018-12-31</td>\n",
       "      <td>115.0</td>\n",
       "      <td>Clean</td>\n",
       "      <td>Neutral</td>\n",
       "      <td>Very satisfied</td>\n",
       "      <td>medium</td>\n",
       "      <td>Melodie</td>\n",
       "      <td>Stuart</td>\n",
       "      <td>weekday</td>\n",
       "    </tr>\n",
       "    <tr>\n",
       "      <th>1</th>\n",
       "      <td>373</td>\n",
       "      <td>Dominic Shannon</td>\n",
       "      <td>Friday</td>\n",
       "      <td>ALASKA</td>\n",
       "      <td>SAN JOSE DEL CABO</td>\n",
       "      <td>canada/mexico</td>\n",
       "      <td>Small</td>\n",
       "      <td>Gates 50-59</td>\n",
       "      <td>2018-12-31</td>\n",
       "      <td>135.0</td>\n",
       "      <td>Clean</td>\n",
       "      <td>Very safe</td>\n",
       "      <td>Very satisfied</td>\n",
       "      <td>medium</td>\n",
       "      <td>Dominic</td>\n",
       "      <td>Shannon</td>\n",
       "      <td>weekday</td>\n",
       "    </tr>\n",
       "  </tbody>\n",
       "</table>\n",
       "</div>"
      ],
      "text/plain": [
       "     id        full_name      day      airline        destination  \\\n",
       "0  1351   Melodie Stuart  Tuesday  UNITED INTL             KANSAI   \n",
       "1   373  Dominic Shannon   Friday       ALASKA  SAN JOSE DEL CABO   \n",
       "\n",
       "     dest_region dest_size boarding_area   dept_time  wait_min cleanliness  \\\n",
       "0           asia       Hub  Gates 91-102  2018-12-31     115.0       Clean   \n",
       "1  canada/mexico     Small   Gates 50-59  2018-12-31     135.0       Clean   \n",
       "\n",
       "      safety    satisfaction wait_type first_name last_name day_week  \n",
       "0    Neutral  Very satisfied    medium    Melodie    Stuart  weekday  \n",
       "1  Very safe  Very satisfied    medium    Dominic   Shannon  weekday  "
      ]
     },
     "execution_count": 22,
     "metadata": {},
     "output_type": "execute_result"
    }
   ],
   "source": [
    "airlines_200.head(2)"
   ]
  },
  {
   "cell_type": "code",
   "execution_count": 23,
   "metadata": {},
   "outputs": [
    {
     "name": "stdout",
     "output_type": "stream",
     "text": [
      "<class 'pandas.core.frame.DataFrame'>\n",
      "RangeIndex: 200 entries, 0 to 199\n",
      "Data columns (total 17 columns):\n",
      " #   Column         Non-Null Count  Dtype   \n",
      "---  ------         --------------  -----   \n",
      " 0   id             200 non-null    int64   \n",
      " 1   full_name      200 non-null    object  \n",
      " 2   day            200 non-null    object  \n",
      " 3   airline        200 non-null    object  \n",
      " 4   destination    200 non-null    object  \n",
      " 5   dest_region    200 non-null    object  \n",
      " 6   dest_size      200 non-null    object  \n",
      " 7   boarding_area  200 non-null    object  \n",
      " 8   dept_time      200 non-null    object  \n",
      " 9   wait_min       200 non-null    float64 \n",
      " 10  cleanliness    200 non-null    object  \n",
      " 11  safety         200 non-null    object  \n",
      " 12  satisfaction   200 non-null    object  \n",
      " 13  wait_type      200 non-null    category\n",
      " 14  first_name     200 non-null    object  \n",
      " 15  last_name      200 non-null    object  \n",
      " 16  day_week       200 non-null    object  \n",
      "dtypes: category(1), float64(1), int64(1), object(14)\n",
      "memory usage: 25.4+ KB\n"
     ]
    }
   ],
   "source": [
    "airlines_200.info()"
   ]
  },
  {
   "cell_type": "code",
   "execution_count": 24,
   "metadata": {},
   "outputs": [],
   "source": [
    "del airlines_200['full_name']"
   ]
  },
  {
   "cell_type": "code",
   "execution_count": 25,
   "metadata": {},
   "outputs": [
    {
     "data": {
      "text/html": [
       "<div>\n",
       "<style scoped>\n",
       "    .dataframe tbody tr th:only-of-type {\n",
       "        vertical-align: middle;\n",
       "    }\n",
       "\n",
       "    .dataframe tbody tr th {\n",
       "        vertical-align: top;\n",
       "    }\n",
       "\n",
       "    .dataframe thead th {\n",
       "        text-align: right;\n",
       "    }\n",
       "</style>\n",
       "<table border=\"1\" class=\"dataframe\">\n",
       "  <thead>\n",
       "    <tr style=\"text-align: right;\">\n",
       "      <th></th>\n",
       "      <th>id</th>\n",
       "      <th>day</th>\n",
       "      <th>airline</th>\n",
       "      <th>destination</th>\n",
       "      <th>dest_region</th>\n",
       "      <th>dest_size</th>\n",
       "      <th>boarding_area</th>\n",
       "      <th>dept_time</th>\n",
       "      <th>wait_min</th>\n",
       "      <th>cleanliness</th>\n",
       "      <th>safety</th>\n",
       "      <th>satisfaction</th>\n",
       "      <th>wait_type</th>\n",
       "      <th>day_week</th>\n",
       "    </tr>\n",
       "  </thead>\n",
       "  <tbody>\n",
       "    <tr>\n",
       "      <th>0</th>\n",
       "      <td>1351</td>\n",
       "      <td>Tuesday</td>\n",
       "      <td>UNITED INTL</td>\n",
       "      <td>KANSAI</td>\n",
       "      <td>asia</td>\n",
       "      <td>Hub</td>\n",
       "      <td>Gates 91-102</td>\n",
       "      <td>2018-12-31</td>\n",
       "      <td>115.0</td>\n",
       "      <td>Clean</td>\n",
       "      <td>Neutral</td>\n",
       "      <td>Very satisfied</td>\n",
       "      <td>medium</td>\n",
       "      <td>weekday</td>\n",
       "    </tr>\n",
       "    <tr>\n",
       "      <th>1</th>\n",
       "      <td>373</td>\n",
       "      <td>Friday</td>\n",
       "      <td>ALASKA</td>\n",
       "      <td>SAN JOSE DEL CABO</td>\n",
       "      <td>canada/mexico</td>\n",
       "      <td>Small</td>\n",
       "      <td>Gates 50-59</td>\n",
       "      <td>2018-12-31</td>\n",
       "      <td>135.0</td>\n",
       "      <td>Clean</td>\n",
       "      <td>Very safe</td>\n",
       "      <td>Very satisfied</td>\n",
       "      <td>medium</td>\n",
       "      <td>weekday</td>\n",
       "    </tr>\n",
       "  </tbody>\n",
       "</table>\n",
       "</div>"
      ],
      "text/plain": [
       "     id      day      airline        destination    dest_region dest_size  \\\n",
       "0  1351  Tuesday  UNITED INTL             KANSAI           asia       Hub   \n",
       "1   373   Friday       ALASKA  SAN JOSE DEL CABO  canada/mexico     Small   \n",
       "\n",
       "  boarding_area   dept_time  wait_min cleanliness     safety    satisfaction  \\\n",
       "0  Gates 91-102  2018-12-31     115.0       Clean    Neutral  Very satisfied   \n",
       "1   Gates 50-59  2018-12-31     135.0       Clean  Very safe  Very satisfied   \n",
       "\n",
       "  wait_type day_week  \n",
       "0    medium  weekday  \n",
       "1    medium  weekday  "
      ]
     },
     "execution_count": 25,
     "metadata": {},
     "output_type": "execute_result"
    }
   ],
   "source": [
    "first_name = airlines_200['first_name'].tolist()\n",
    "last_name = airlines_200['last_name'].tolist()\n",
    "\n",
    "airlines_200.drop(['first_name', 'last_name'], axis = 1, inplace = True)\n",
    "airlines_200.head(2)"
   ]
  },
  {
   "cell_type": "code",
   "execution_count": 26,
   "metadata": {},
   "outputs": [],
   "source": [
    "airlines_200.insert(loc = 2, column = 'first_name', value = first_name)\n",
    "airlines_200.insert(loc = 3, column = 'last_name', value = last_name)"
   ]
  },
  {
   "cell_type": "code",
   "execution_count": 27,
   "metadata": {},
   "outputs": [
    {
     "data": {
      "text/html": [
       "<div>\n",
       "<style scoped>\n",
       "    .dataframe tbody tr th:only-of-type {\n",
       "        vertical-align: middle;\n",
       "    }\n",
       "\n",
       "    .dataframe tbody tr th {\n",
       "        vertical-align: top;\n",
       "    }\n",
       "\n",
       "    .dataframe thead th {\n",
       "        text-align: right;\n",
       "    }\n",
       "</style>\n",
       "<table border=\"1\" class=\"dataframe\">\n",
       "  <thead>\n",
       "    <tr style=\"text-align: right;\">\n",
       "      <th></th>\n",
       "      <th>id</th>\n",
       "      <th>day</th>\n",
       "      <th>first_name</th>\n",
       "      <th>last_name</th>\n",
       "      <th>airline</th>\n",
       "      <th>destination</th>\n",
       "      <th>dest_region</th>\n",
       "      <th>dest_size</th>\n",
       "      <th>boarding_area</th>\n",
       "      <th>dept_time</th>\n",
       "      <th>wait_min</th>\n",
       "      <th>cleanliness</th>\n",
       "      <th>safety</th>\n",
       "      <th>satisfaction</th>\n",
       "      <th>wait_type</th>\n",
       "      <th>day_week</th>\n",
       "    </tr>\n",
       "  </thead>\n",
       "  <tbody>\n",
       "    <tr>\n",
       "      <th>0</th>\n",
       "      <td>1351</td>\n",
       "      <td>Tuesday</td>\n",
       "      <td>Melodie</td>\n",
       "      <td>Stuart</td>\n",
       "      <td>UNITED INTL</td>\n",
       "      <td>KANSAI</td>\n",
       "      <td>asia</td>\n",
       "      <td>Hub</td>\n",
       "      <td>Gates 91-102</td>\n",
       "      <td>2018-12-31</td>\n",
       "      <td>115.0</td>\n",
       "      <td>Clean</td>\n",
       "      <td>Neutral</td>\n",
       "      <td>Very satisfied</td>\n",
       "      <td>medium</td>\n",
       "      <td>weekday</td>\n",
       "    </tr>\n",
       "    <tr>\n",
       "      <th>1</th>\n",
       "      <td>373</td>\n",
       "      <td>Friday</td>\n",
       "      <td>Dominic</td>\n",
       "      <td>Shannon</td>\n",
       "      <td>ALASKA</td>\n",
       "      <td>SAN JOSE DEL CABO</td>\n",
       "      <td>canada/mexico</td>\n",
       "      <td>Small</td>\n",
       "      <td>Gates 50-59</td>\n",
       "      <td>2018-12-31</td>\n",
       "      <td>135.0</td>\n",
       "      <td>Clean</td>\n",
       "      <td>Very safe</td>\n",
       "      <td>Very satisfied</td>\n",
       "      <td>medium</td>\n",
       "      <td>weekday</td>\n",
       "    </tr>\n",
       "    <tr>\n",
       "      <th>2</th>\n",
       "      <td>2820</td>\n",
       "      <td>Thursday</td>\n",
       "      <td>Quintessa</td>\n",
       "      <td>Tillman</td>\n",
       "      <td>DELTA</td>\n",
       "      <td>LOS ANGELES</td>\n",
       "      <td>west us</td>\n",
       "      <td>Hub</td>\n",
       "      <td>Gates 40-48</td>\n",
       "      <td>2018-12-31</td>\n",
       "      <td>70.0</td>\n",
       "      <td>Average</td>\n",
       "      <td>Somewhat safe</td>\n",
       "      <td>Neutral</td>\n",
       "      <td>medium</td>\n",
       "      <td>weekday</td>\n",
       "    </tr>\n",
       "  </tbody>\n",
       "</table>\n",
       "</div>"
      ],
      "text/plain": [
       "     id       day first_name last_name      airline        destination  \\\n",
       "0  1351   Tuesday    Melodie    Stuart  UNITED INTL             KANSAI   \n",
       "1   373    Friday    Dominic   Shannon       ALASKA  SAN JOSE DEL CABO   \n",
       "2  2820  Thursday  Quintessa   Tillman        DELTA        LOS ANGELES   \n",
       "\n",
       "     dest_region dest_size boarding_area   dept_time  wait_min cleanliness  \\\n",
       "0           asia       Hub  Gates 91-102  2018-12-31     115.0       Clean   \n",
       "1  canada/mexico     Small   Gates 50-59  2018-12-31     135.0       Clean   \n",
       "2        west us       Hub   Gates 40-48  2018-12-31      70.0     Average   \n",
       "\n",
       "          safety    satisfaction wait_type day_week  \n",
       "0        Neutral  Very satisfied    medium  weekday  \n",
       "1      Very safe  Very satisfied    medium  weekday  \n",
       "2  Somewhat safe         Neutral    medium  weekday  "
      ]
     },
     "execution_count": 27,
     "metadata": {},
     "output_type": "execute_result"
    }
   ],
   "source": [
    "airlines_200.head(3)"
   ]
  },
  {
   "cell_type": "code",
   "execution_count": null,
   "metadata": {},
   "outputs": [],
   "source": []
  }
 ],
 "metadata": {
  "kernelspec": {
   "display_name": "Python 3",
   "language": "python",
   "name": "python3"
  },
  "language_info": {
   "codemirror_mode": {
    "name": "ipython",
    "version": 3
   },
   "file_extension": ".py",
   "mimetype": "text/x-python",
   "name": "python",
   "nbconvert_exporter": "python",
   "pygments_lexer": "ipython3",
   "version": "3.8.5"
  }
 },
 "nbformat": 4,
 "nbformat_minor": 4
}
