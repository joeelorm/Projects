{
 "cells": [
  {
   "cell_type": "markdown",
   "metadata": {},
   "source": [
    "#### Introduction\n",
    "This notebook will investigate the relationship between the GDP of a country with the life expectancy of its citizens.\n",
    "\n",
    "Here are a few questions that this project will seek to answer:\n",
    "\n",
    "- Has life expectancy increased over time in the six nations?\n",
    "- Has GDP increased over time in the six nations?\n",
    "- Is there a correlation between GDP and life expectancy of a country?\n",
    "- What is the average life expectancy in these nations?\n",
    "- What is the distribution of that life expectancy?\n",
    "\n",
    "Data Sources:\n",
    "- GDP Source: World Bank national accounts data, and OECD National Accounts data files.\n",
    "\n",
    "- Life expectancy Data Source: World Health Organization"
   ]
  },
  {
   "cell_type": "markdown",
   "metadata": {},
   "source": [
    "#### Importing Libraries\n",
    "\n",
    "Before any data science activity is started python libraries useful in arriving at conclusions need to be imported."
   ]
  },
  {
   "cell_type": "code",
   "execution_count": 1,
   "metadata": {},
   "outputs": [],
   "source": [
    "import numpy as np\n",
    "import pandas as pd\n",
    "import matplotlib.pyplot as plt\n",
    "import seaborn as sns"
   ]
  },
  {
   "cell_type": "code",
   "execution_count": 2,
   "metadata": {},
   "outputs": [
    {
     "name": "stdout",
     "output_type": "stream",
     "text": [
      "  Country  Year  Life expectancy at birth (years)           GDP\n",
      "0   Chile  2000                              77.3  7.786093e+10\n",
      "1   Chile  2001                              77.3  7.097992e+10\n",
      "2   Chile  2002                              77.8  6.973681e+10\n",
      "3   Chile  2003                              77.9  7.564346e+10\n",
      "4   Chile  2004                              78.0  9.921039e+10\n"
     ]
    }
   ],
   "source": [
    "#Loading the csv file into a dataframe called gdp_data\n",
    "gdp_data = pd.read_csv('/Users/elorm/Documents/Repos/Datasets/all_data.csv')\n",
    "\n",
    "#Printing the head (first 5 rows) of the data\n",
    "print(gdp_data.head())"
   ]
  },
  {
   "cell_type": "code",
   "execution_count": 3,
   "metadata": {},
   "outputs": [
    {
     "name": "stdout",
     "output_type": "stream",
     "text": [
      "     Country  Year  Life expectancy at birth (years)           GDP\n",
      "91  Zimbabwe  2011                              54.9  1.209845e+10\n",
      "92  Zimbabwe  2012                              56.6  1.424249e+10\n",
      "93  Zimbabwe  2013                              58.0  1.545177e+10\n",
      "94  Zimbabwe  2014                              59.2  1.589105e+10\n",
      "95  Zimbabwe  2015                              60.7  1.630467e+10\n"
     ]
    }
   ],
   "source": [
    "#Printing the tail (last 5 rows) of the data\n",
    "print(gdp_data.tail())"
   ]
  },
  {
   "cell_type": "code",
   "execution_count": 4,
   "metadata": {},
   "outputs": [
    {
     "name": "stdout",
     "output_type": "stream",
     "text": [
      "<class 'pandas.core.frame.DataFrame'>\n",
      "RangeIndex: 96 entries, 0 to 95\n",
      "Data columns (total 4 columns):\n",
      " #   Column                            Non-Null Count  Dtype  \n",
      "---  ------                            --------------  -----  \n",
      " 0   Country                           96 non-null     object \n",
      " 1   Year                              96 non-null     int64  \n",
      " 2   Life expectancy at birth (years)  96 non-null     float64\n",
      " 3   GDP                               96 non-null     float64\n",
      "dtypes: float64(2), int64(1), object(1)\n",
      "memory usage: 3.1+ KB\n"
     ]
    }
   ],
   "source": [
    "#Getting information on the dataset\n",
    "gdp_data.info()"
   ]
  },
  {
   "cell_type": "code",
   "execution_count": 5,
   "metadata": {},
   "outputs": [
    {
     "name": "stdout",
     "output_type": "stream",
     "text": [
      "There are 6 in the dataset:\n",
      "['Chile' 'China' 'Germany' 'Mexico' 'United States of America' 'Zimbabwe']\n"
     ]
    }
   ],
   "source": [
    "#How many different countries are in the dataset?\n",
    "num_countries = gdp_data['Country'].nunique()\n",
    "\n",
    "#What are the countries?\n",
    "countries = gdp_data['Country'].unique()\n",
    "\n",
    "print('There are ' + str(num_countries) + ' in the dataset:')\n",
    "print(countries)"
   ]
  },
  {
   "cell_type": "markdown",
   "metadata": {},
   "source": [
    "#### Data Cleaning\n",
    "\n",
    "Even though the data is not too dirty, the column called 'Life expectancy at birth (years)' is obviously too long and needs to renamed to a shorter one. The GDP column values have a scientific representation, the values are in billions. To make this simpler for readers, the values will rounded off to 2 decimal places and the column name updated to show the values are in billions."
   ]
  },
  {
   "cell_type": "code",
   "execution_count": 6,
   "metadata": {},
   "outputs": [
    {
     "data": {
      "text/html": [
       "<div>\n",
       "<style scoped>\n",
       "    .dataframe tbody tr th:only-of-type {\n",
       "        vertical-align: middle;\n",
       "    }\n",
       "\n",
       "    .dataframe tbody tr th {\n",
       "        vertical-align: top;\n",
       "    }\n",
       "\n",
       "    .dataframe thead th {\n",
       "        text-align: right;\n",
       "    }\n",
       "</style>\n",
       "<table border=\"1\" class=\"dataframe\">\n",
       "  <thead>\n",
       "    <tr style=\"text-align: right;\">\n",
       "      <th></th>\n",
       "      <th>Country</th>\n",
       "      <th>Year</th>\n",
       "      <th>LifeExp</th>\n",
       "      <th>GDP (Billions)</th>\n",
       "    </tr>\n",
       "  </thead>\n",
       "  <tbody>\n",
       "    <tr>\n",
       "      <th>0</th>\n",
       "      <td>Chile</td>\n",
       "      <td>2000</td>\n",
       "      <td>77.3</td>\n",
       "      <td>7.786093e+10</td>\n",
       "    </tr>\n",
       "    <tr>\n",
       "      <th>1</th>\n",
       "      <td>Chile</td>\n",
       "      <td>2001</td>\n",
       "      <td>77.3</td>\n",
       "      <td>7.097992e+10</td>\n",
       "    </tr>\n",
       "    <tr>\n",
       "      <th>2</th>\n",
       "      <td>Chile</td>\n",
       "      <td>2002</td>\n",
       "      <td>77.8</td>\n",
       "      <td>6.973681e+10</td>\n",
       "    </tr>\n",
       "    <tr>\n",
       "      <th>3</th>\n",
       "      <td>Chile</td>\n",
       "      <td>2003</td>\n",
       "      <td>77.9</td>\n",
       "      <td>7.564346e+10</td>\n",
       "    </tr>\n",
       "    <tr>\n",
       "      <th>4</th>\n",
       "      <td>Chile</td>\n",
       "      <td>2004</td>\n",
       "      <td>78.0</td>\n",
       "      <td>9.921039e+10</td>\n",
       "    </tr>\n",
       "  </tbody>\n",
       "</table>\n",
       "</div>"
      ],
      "text/plain": [
       "  Country  Year  LifeExp  GDP (Billions)\n",
       "0   Chile  2000     77.3    7.786093e+10\n",
       "1   Chile  2001     77.3    7.097992e+10\n",
       "2   Chile  2002     77.8    6.973681e+10\n",
       "3   Chile  2003     77.9    7.564346e+10\n",
       "4   Chile  2004     78.0    9.921039e+10"
      ]
     },
     "execution_count": 6,
     "metadata": {},
     "output_type": "execute_result"
    }
   ],
   "source": [
    "#Renaming the 'Life expectancy at birth (years)' column to LifeExp and GDP to GDP (Billions)\n",
    "\n",
    "gdp_data.rename(columns = {'Life expectancy at birth (years)' : 'LifeExp', 'GDP' : 'GDP (Billions)'}, inplace = True)\n",
    "gdp_data.head()"
   ]
  },
  {
   "cell_type": "code",
   "execution_count": 7,
   "metadata": {},
   "outputs": [
    {
     "data": {
      "text/html": [
       "<div>\n",
       "<style scoped>\n",
       "    .dataframe tbody tr th:only-of-type {\n",
       "        vertical-align: middle;\n",
       "    }\n",
       "\n",
       "    .dataframe tbody tr th {\n",
       "        vertical-align: top;\n",
       "    }\n",
       "\n",
       "    .dataframe thead th {\n",
       "        text-align: right;\n",
       "    }\n",
       "</style>\n",
       "<table border=\"1\" class=\"dataframe\">\n",
       "  <thead>\n",
       "    <tr style=\"text-align: right;\">\n",
       "      <th></th>\n",
       "      <th>Country</th>\n",
       "      <th>Year</th>\n",
       "      <th>LifeExp</th>\n",
       "      <th>GDP (Billions)</th>\n",
       "    </tr>\n",
       "  </thead>\n",
       "  <tbody>\n",
       "    <tr>\n",
       "      <th>0</th>\n",
       "      <td>Chile</td>\n",
       "      <td>2000</td>\n",
       "      <td>77.3</td>\n",
       "      <td>7.79</td>\n",
       "    </tr>\n",
       "    <tr>\n",
       "      <th>1</th>\n",
       "      <td>Chile</td>\n",
       "      <td>2001</td>\n",
       "      <td>77.3</td>\n",
       "      <td>7.10</td>\n",
       "    </tr>\n",
       "    <tr>\n",
       "      <th>2</th>\n",
       "      <td>Chile</td>\n",
       "      <td>2002</td>\n",
       "      <td>77.8</td>\n",
       "      <td>6.97</td>\n",
       "    </tr>\n",
       "    <tr>\n",
       "      <th>3</th>\n",
       "      <td>Chile</td>\n",
       "      <td>2003</td>\n",
       "      <td>77.9</td>\n",
       "      <td>7.56</td>\n",
       "    </tr>\n",
       "    <tr>\n",
       "      <th>4</th>\n",
       "      <td>Chile</td>\n",
       "      <td>2004</td>\n",
       "      <td>78.0</td>\n",
       "      <td>9.92</td>\n",
       "    </tr>\n",
       "  </tbody>\n",
       "</table>\n",
       "</div>"
      ],
      "text/plain": [
       "  Country  Year  LifeExp  GDP (Billions)\n",
       "0   Chile  2000     77.3            7.79\n",
       "1   Chile  2001     77.3            7.10\n",
       "2   Chile  2002     77.8            6.97\n",
       "3   Chile  2003     77.9            7.56\n",
       "4   Chile  2004     78.0            9.92"
      ]
     },
     "execution_count": 7,
     "metadata": {},
     "output_type": "execute_result"
    }
   ],
   "source": [
    "#Recoding the values in GDP(Billions) for easy reading\n",
    "gdp_data['GDP (Billions)'] = gdp_data.apply(lambda row: round(row['GDP (Billions)']/10000000000, 2), axis = 1)\n",
    "gdp_data.head()"
   ]
  },
  {
   "cell_type": "code",
   "execution_count": null,
   "metadata": {},
   "outputs": [],
   "source": []
  }
 ],
 "metadata": {
  "kernelspec": {
   "display_name": "Python 3",
   "language": "python",
   "name": "python3"
  },
  "language_info": {
   "codemirror_mode": {
    "name": "ipython",
    "version": 3
   },
   "file_extension": ".py",
   "mimetype": "text/x-python",
   "name": "python",
   "nbconvert_exporter": "python",
   "pygments_lexer": "ipython3",
   "version": "3.8.5"
  }
 },
 "nbformat": 4,
 "nbformat_minor": 4
}
